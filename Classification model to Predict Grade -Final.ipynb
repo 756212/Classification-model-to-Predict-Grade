{
 "cells": [
  {
   "cell_type": "markdown",
   "metadata": {},
   "source": [
    "#  Classification model to Predict Grade "
   ]
  },
  {
   "cell_type": "markdown",
   "metadata": {},
   "source": [
    "## Problem Description\n",
    "**Build a Classification model to predict grade for candidates and share the predicted grades for the given test data.**"
   ]
  },
  {
   "cell_type": "markdown",
   "metadata": {},
   "source": [
    "#### Import Library"
   ]
  },
  {
   "cell_type": "code",
   "execution_count": 1,
   "metadata": {},
   "outputs": [],
   "source": [
    "import numpy as np\n",
    "import matplotlib.pyplot as plt\n",
    "import pandas as pd\n",
    "import seaborn as sns\n",
    "import scipy\n",
    "import statsmodels\n",
    "from IPython.core.pylabtools import figsize\n",
    "from sklearn.model_selection import train_test_split\n",
    "from sklearn.ensemble import RandomForestClassifier\n",
    "from sklearn.metrics import confusion_matrix, classification_report, accuracy_score\n",
    "import seaborn as sns\n",
    "from sklearn.svm import SVC\n",
    "from sklearn.neighbors import KNeighborsClassifier\n",
    "from sklearn.ensemble import RandomForestClassifier\n",
    "# Imputing missing values and scaling values\n",
    "from sklearn.preprocessing import Imputer, MinMaxScaler\n",
    "from collections import Counter"
   ]
  },
  {
   "cell_type": "code",
   "execution_count": 2,
   "metadata": {},
   "outputs": [],
   "source": [
    "path='H:\\IITM\\Documents\\Resume\\Rushi_ML\\Delloite\\Predict-Grade'"
   ]
  },
  {
   "cell_type": "code",
   "execution_count": 3,
   "metadata": {},
   "outputs": [],
   "source": [
    "import os\n",
    "os.chdir(path)"
   ]
  },
  {
   "cell_type": "markdown",
   "metadata": {},
   "source": [
    "## Understanding the data"
   ]
  },
  {
   "cell_type": "markdown",
   "metadata": {},
   "source": [
    "###  Data Exploration"
   ]
  },
  {
   "cell_type": "code",
   "execution_count": 4,
   "metadata": {},
   "outputs": [
    {
     "data": {
      "text/html": [
       "<div>\n",
       "<style scoped>\n",
       "    .dataframe tbody tr th:only-of-type {\n",
       "        vertical-align: middle;\n",
       "    }\n",
       "\n",
       "    .dataframe tbody tr th {\n",
       "        vertical-align: top;\n",
       "    }\n",
       "\n",
       "    .dataframe thead th {\n",
       "        text-align: right;\n",
       "    }\n",
       "</style>\n",
       "<table border=\"1\" class=\"dataframe\">\n",
       "  <thead>\n",
       "    <tr style=\"text-align: right;\">\n",
       "      <th></th>\n",
       "      <th>Sex</th>\n",
       "      <th>Age</th>\n",
       "      <th>Height</th>\n",
       "      <th>Weight</th>\n",
       "      <th>Team</th>\n",
       "      <th>Federation</th>\n",
       "      <th>Event</th>\n",
       "      <th>Year</th>\n",
       "      <th>Season</th>\n",
       "      <th>City</th>\n",
       "      <th>Sub Event</th>\n",
       "      <th>Grade</th>\n",
       "      <th>Id</th>\n",
       "      <th>GameID</th>\n",
       "      <th>Game</th>\n",
       "      <th>Record_Id</th>\n",
       "    </tr>\n",
       "  </thead>\n",
       "  <tbody>\n",
       "    <tr>\n",
       "      <th>0</th>\n",
       "      <td>M</td>\n",
       "      <td>31.0</td>\n",
       "      <td>188.0</td>\n",
       "      <td>138.0</td>\n",
       "      <td>Bulgaria</td>\n",
       "      <td>BUL</td>\n",
       "      <td>2016 Summer</td>\n",
       "      <td>2016</td>\n",
       "      <td>down</td>\n",
       "      <td>Rio de Janeiro</td>\n",
       "      <td>Athletics Men's Shot Put</td>\n",
       "      <td>D+</td>\n",
       "      <td>candidate-40730</td>\n",
       "      <td>Game 1</td>\n",
       "      <td>Athletics</td>\n",
       "      <td>5da57331-62fe-418b-abfd-ca6ab0731709</td>\n",
       "    </tr>\n",
       "    <tr>\n",
       "      <th>1</th>\n",
       "      <td>F</td>\n",
       "      <td>28.0</td>\n",
       "      <td>166.0</td>\n",
       "      <td>62.0</td>\n",
       "      <td>Chinese Taipei</td>\n",
       "      <td>TPE</td>\n",
       "      <td>1996 Summer</td>\n",
       "      <td>1996</td>\n",
       "      <td>down</td>\n",
       "      <td>Atlanta</td>\n",
       "      <td>Table Tennis Women's Singles</td>\n",
       "      <td>D+</td>\n",
       "      <td>candidate-129936</td>\n",
       "      <td>Game 33</td>\n",
       "      <td>Table Tennis</td>\n",
       "      <td>0ae393f7-5e07-4b7c-b0cd-83edf259a069</td>\n",
       "    </tr>\n",
       "    <tr>\n",
       "      <th>2</th>\n",
       "      <td>M</td>\n",
       "      <td>30.0</td>\n",
       "      <td>NaN</td>\n",
       "      <td>NaN</td>\n",
       "      <td>Sweden</td>\n",
       "      <td>SWE</td>\n",
       "      <td>1960 Summer</td>\n",
       "      <td>1960</td>\n",
       "      <td>down</td>\n",
       "      <td>Roma</td>\n",
       "      <td>Rowing Men's Coxed Fours</td>\n",
       "      <td>D+</td>\n",
       "      <td>candidate-109667</td>\n",
       "      <td>Game 7</td>\n",
       "      <td>Rowing</td>\n",
       "      <td>3fec3204-ca6d-476f-ab89-e1189bc0eb35</td>\n",
       "    </tr>\n",
       "    <tr>\n",
       "      <th>3</th>\n",
       "      <td>F</td>\n",
       "      <td>28.0</td>\n",
       "      <td>181.0</td>\n",
       "      <td>80.0</td>\n",
       "      <td>China</td>\n",
       "      <td>CHN</td>\n",
       "      <td>2004 Summer</td>\n",
       "      <td>2004</td>\n",
       "      <td>down</td>\n",
       "      <td>Athina</td>\n",
       "      <td>Handball Women's Handball</td>\n",
       "      <td>D+</td>\n",
       "      <td>candidate-131637</td>\n",
       "      <td>Game 24</td>\n",
       "      <td>Handball</td>\n",
       "      <td>96cd09eb-b394-4c7d-8f7d-b3a0dc8cd870</td>\n",
       "    </tr>\n",
       "    <tr>\n",
       "      <th>4</th>\n",
       "      <td>F</td>\n",
       "      <td>16.0</td>\n",
       "      <td>175.0</td>\n",
       "      <td>54.0</td>\n",
       "      <td>Hungary</td>\n",
       "      <td>HUN</td>\n",
       "      <td>1996 Summer</td>\n",
       "      <td>1996</td>\n",
       "      <td>down</td>\n",
       "      <td>Atlanta</td>\n",
       "      <td>Swimming Women's 4 x 100 metres Medley Relay</td>\n",
       "      <td>D+</td>\n",
       "      <td>candidate-29360</td>\n",
       "      <td>Game 3</td>\n",
       "      <td>Swimming</td>\n",
       "      <td>bc158ecb-2fc5-4ffa-abd3-1075f4196044</td>\n",
       "    </tr>\n",
       "  </tbody>\n",
       "</table>\n",
       "</div>"
      ],
      "text/plain": [
       "  Sex   Age  Height  Weight            Team Federation        Event  Year  \\\n",
       "0   M  31.0   188.0   138.0        Bulgaria        BUL  2016 Summer  2016   \n",
       "1   F  28.0   166.0    62.0  Chinese Taipei        TPE  1996 Summer  1996   \n",
       "2   M  30.0     NaN     NaN          Sweden        SWE  1960 Summer  1960   \n",
       "3   F  28.0   181.0    80.0           China        CHN  2004 Summer  2004   \n",
       "4   F  16.0   175.0    54.0         Hungary        HUN  1996 Summer  1996   \n",
       "\n",
       "  Season            City                                     Sub Event Grade  \\\n",
       "0   down  Rio de Janeiro                      Athletics Men's Shot Put    D+   \n",
       "1   down         Atlanta                  Table Tennis Women's Singles    D+   \n",
       "2   down            Roma                      Rowing Men's Coxed Fours    D+   \n",
       "3   down          Athina                     Handball Women's Handball    D+   \n",
       "4   down         Atlanta  Swimming Women's 4 x 100 metres Medley Relay    D+   \n",
       "\n",
       "                 Id   GameID          Game  \\\n",
       "0   candidate-40730   Game 1     Athletics   \n",
       "1  candidate-129936  Game 33  Table Tennis   \n",
       "2  candidate-109667   Game 7        Rowing   \n",
       "3  candidate-131637  Game 24      Handball   \n",
       "4   candidate-29360   Game 3      Swimming   \n",
       "\n",
       "                              Record_Id  \n",
       "0  5da57331-62fe-418b-abfd-ca6ab0731709  \n",
       "1  0ae393f7-5e07-4b7c-b0cd-83edf259a069  \n",
       "2  3fec3204-ca6d-476f-ab89-e1189bc0eb35  \n",
       "3  96cd09eb-b394-4c7d-8f7d-b3a0dc8cd870  \n",
       "4  bc158ecb-2fc5-4ffa-abd3-1075f4196044  "
      ]
     },
     "execution_count": 4,
     "metadata": {},
     "output_type": "execute_result"
    }
   ],
   "source": [
    "# Read in the data set\n",
    "df = pd.read_csv('Train_data.csv')\n",
    "df.head()"
   ]
  },
  {
   "cell_type": "code",
   "execution_count": 5,
   "metadata": {},
   "outputs": [
    {
     "data": {
      "text/plain": [
       "(90725, 16)"
      ]
     },
     "execution_count": 5,
     "metadata": {},
     "output_type": "execute_result"
    }
   ],
   "source": [
    "df.shape"
   ]
  },
  {
   "cell_type": "code",
   "execution_count": 6,
   "metadata": {},
   "outputs": [
    {
     "data": {
      "text/plain": [
       "Index(['Sex', 'Age', 'Height', 'Weight', 'Team', 'Federation', 'Event', 'Year',\n",
       "       'Season', 'City', 'Sub Event', 'Grade', 'Id', 'GameID', 'Game',\n",
       "       'Record_Id'],\n",
       "      dtype='object')"
      ]
     },
     "execution_count": 6,
     "metadata": {},
     "output_type": "execute_result"
    }
   ],
   "source": [
    "df.columns"
   ]
  },
  {
   "cell_type": "markdown",
   "metadata": {},
   "source": [
    "## Atrribute information\n",
    "\n",
    "**There are 16 attributes in 90725 case of the dataset. **\n",
    "\n",
    "**Data set is having continuous and catagerical variables**\n",
    "\n",
    "**Output**: Grade\n",
    "\n",
    "**Grade is categorical variable **"
   ]
  },
  {
   "cell_type": "markdown",
   "metadata": {},
   "source": [
    "## Data cleaning"
   ]
  },
  {
   "cell_type": "markdown",
   "metadata": {},
   "source": [
    "### Missing values"
   ]
  },
  {
   "cell_type": "code",
   "execution_count": 7,
   "metadata": {},
   "outputs": [
    {
     "name": "stdout",
     "output_type": "stream",
     "text": [
      "Sex               0\n",
      "Age            3174\n",
      "Height        19883\n",
      "Weight        20792\n",
      "Team              0\n",
      "Federation        0\n",
      "Event             0\n",
      "Year              0\n",
      "Season            0\n",
      "City              0\n",
      "Sub Event         0\n",
      "Grade             0\n",
      "Id                0\n",
      "GameID            0\n",
      "Game              0\n",
      "Record_Id         0\n",
      "dtype: int64\n"
     ]
    }
   ],
   "source": [
    "print(df.isnull().sum())"
   ]
  },
  {
   "cell_type": "code",
   "execution_count": 8,
   "metadata": {},
   "outputs": [
    {
     "name": "stdout",
     "output_type": "stream",
     "text": [
      "FRA    94\n",
      "USA    76\n",
      "GBR    67\n",
      "SWE    40\n",
      "NOR    39\n",
      "Name: Federation, dtype: int64\n"
     ]
    }
   ],
   "source": [
    "print(df.loc[:, ['Federation', 'Team']].drop_duplicates()['Federation'].value_counts().head())"
   ]
  },
  {
   "cell_type": "code",
   "execution_count": 9,
   "metadata": {},
   "outputs": [
    {
     "data": {
      "text/html": [
       "<div>\n",
       "<style scoped>\n",
       "    .dataframe tbody tr th:only-of-type {\n",
       "        vertical-align: middle;\n",
       "    }\n",
       "\n",
       "    .dataframe tbody tr th {\n",
       "        vertical-align: top;\n",
       "    }\n",
       "\n",
       "    .dataframe thead th {\n",
       "        text-align: right;\n",
       "    }\n",
       "</style>\n",
       "<table border=\"1\" class=\"dataframe\">\n",
       "  <thead>\n",
       "    <tr style=\"text-align: right;\">\n",
       "      <th></th>\n",
       "      <th>Federation</th>\n",
       "      <th>Country</th>\n",
       "    </tr>\n",
       "  </thead>\n",
       "  <tbody>\n",
       "    <tr>\n",
       "      <th>0</th>\n",
       "      <td>AFG</td>\n",
       "      <td>Afghanistan</td>\n",
       "    </tr>\n",
       "    <tr>\n",
       "      <th>1</th>\n",
       "      <td>AHO</td>\n",
       "      <td>Curacao</td>\n",
       "    </tr>\n",
       "    <tr>\n",
       "      <th>2</th>\n",
       "      <td>ALB</td>\n",
       "      <td>Albania</td>\n",
       "    </tr>\n",
       "    <tr>\n",
       "      <th>3</th>\n",
       "      <td>ALG</td>\n",
       "      <td>Algeria</td>\n",
       "    </tr>\n",
       "    <tr>\n",
       "      <th>4</th>\n",
       "      <td>AND</td>\n",
       "      <td>Andorra</td>\n",
       "    </tr>\n",
       "  </tbody>\n",
       "</table>\n",
       "</div>"
      ],
      "text/plain": [
       "  Federation      Country\n",
       "0        AFG  Afghanistan\n",
       "1        AHO      Curacao\n",
       "2        ALB      Albania\n",
       "3        ALG      Algeria\n",
       "4        AND      Andorra"
      ]
     },
     "execution_count": 9,
     "metadata": {},
     "output_type": "execute_result"
    }
   ],
   "source": [
    "# Lets read in the Federation_country mapping first\n",
    "federation_country = pd.read_csv('Federation Data.csv')\n",
    "federation_country.rename(columns = {'Region':'Country'}, inplace = True)\n",
    "\n",
    "federation_country.head()"
   ]
  },
  {
   "cell_type": "code",
   "execution_count": 10,
   "metadata": {},
   "outputs": [],
   "source": [
    "df_merge = df.merge(federation_country,\n",
    "                                left_on = 'Federation',\n",
    "                                right_on = 'Federation',\n",
    "                                how = 'left')"
   ]
  },
  {
   "cell_type": "code",
   "execution_count": 11,
   "metadata": {},
   "outputs": [],
   "source": [
    "# Put these values from Country into Team\n",
    "df_merge.drop('Team', axis = 1, inplace = True)\n",
    "df_merge.rename(columns = {'Country': 'Team'}, inplace = True)"
   ]
  },
  {
   "cell_type": "code",
   "execution_count": 12,
   "metadata": {},
   "outputs": [
    {
     "data": {
      "text/html": [
       "<div>\n",
       "<style scoped>\n",
       "    .dataframe tbody tr th:only-of-type {\n",
       "        vertical-align: middle;\n",
       "    }\n",
       "\n",
       "    .dataframe tbody tr th {\n",
       "        vertical-align: top;\n",
       "    }\n",
       "\n",
       "    .dataframe thead th {\n",
       "        text-align: right;\n",
       "    }\n",
       "</style>\n",
       "<table border=\"1\" class=\"dataframe\">\n",
       "  <thead>\n",
       "    <tr style=\"text-align: right;\">\n",
       "      <th></th>\n",
       "      <th>Country Name</th>\n",
       "      <th>Country Code</th>\n",
       "      <th>Year</th>\n",
       "      <th>GDP</th>\n",
       "    </tr>\n",
       "  </thead>\n",
       "  <tbody>\n",
       "    <tr>\n",
       "      <th>0</th>\n",
       "      <td>Afghanistan</td>\n",
       "      <td>AFG</td>\n",
       "      <td>1960</td>\n",
       "      <td>5.377778e+08</td>\n",
       "    </tr>\n",
       "    <tr>\n",
       "      <th>1</th>\n",
       "      <td>Albania</td>\n",
       "      <td>ALB</td>\n",
       "      <td>1960</td>\n",
       "      <td>NaN</td>\n",
       "    </tr>\n",
       "    <tr>\n",
       "      <th>2</th>\n",
       "      <td>Algeria</td>\n",
       "      <td>DZA</td>\n",
       "      <td>1960</td>\n",
       "      <td>2.723649e+09</td>\n",
       "    </tr>\n",
       "    <tr>\n",
       "      <th>3</th>\n",
       "      <td>American Samoa</td>\n",
       "      <td>ASM</td>\n",
       "      <td>1960</td>\n",
       "      <td>NaN</td>\n",
       "    </tr>\n",
       "    <tr>\n",
       "      <th>4</th>\n",
       "      <td>Andorra</td>\n",
       "      <td>AND</td>\n",
       "      <td>1960</td>\n",
       "      <td>NaN</td>\n",
       "    </tr>\n",
       "  </tbody>\n",
       "</table>\n",
       "</div>"
      ],
      "text/plain": [
       "     Country Name Country Code  Year           GDP\n",
       "0     Afghanistan          AFG  1960  5.377778e+08\n",
       "1         Albania          ALB  1960           NaN\n",
       "2         Algeria          DZA  1960  2.723649e+09\n",
       "3  American Samoa          ASM  1960           NaN\n",
       "4         Andorra          AND  1960           NaN"
      ]
     },
     "execution_count": 12,
     "metadata": {},
     "output_type": "execute_result"
    }
   ],
   "source": [
    "# Glance at the data.\n",
    "w_gdp = pd.read_csv('world_gdp.csv', skiprows = 3)\n",
    "\n",
    "# Remove unnecessary columns\n",
    "w_gdp.drop(['Indicator Name', 'Indicator Code'], axis = 1, inplace = True)\n",
    "\n",
    "# The columns are the years for which the GDP has been recorded. This needs to brought into a single column for efficient\n",
    "# merging.\n",
    "w_gdp = pd.melt(w_gdp, id_vars = ['Country Name', 'Country Code'], var_name = 'Year', value_name = 'GDP')\n",
    "\n",
    "# convert the year column to numeric\n",
    "w_gdp['Year'] = pd.to_numeric(w_gdp['Year'])\n",
    "\n",
    "w_gdp.head()"
   ]
  },
  {
   "cell_type": "code",
   "execution_count": 13,
   "metadata": {},
   "outputs": [],
   "source": [
    "# Merge to get country code\n",
    "df_merge_ccode = df_merge.merge(w_gdp[['Country Name', 'Country Code']].drop_duplicates(),\n",
    "                                            left_on = 'Team',\n",
    "                                            right_on = 'Country Name',\n",
    "                                            how = 'left')\n",
    "\n",
    "df_merge_ccode.drop('Country Name', axis = 1, inplace = True)\n",
    "\n",
    "# Merge to get gdp too\n",
    "df_merge_gdp = df_merge_ccode.merge(w_gdp,\n",
    "                                                left_on = ['Country Code', 'Year'],\n",
    "                                                right_on = ['Country Code', 'Year'],\n",
    "                                                how = 'left')\n",
    "\n",
    "df_merge_gdp.drop('Country Name', axis = 1, inplace = True)"
   ]
  },
  {
   "cell_type": "code",
   "execution_count": 14,
   "metadata": {},
   "outputs": [
    {
     "data": {
      "text/html": [
       "<div>\n",
       "<style scoped>\n",
       "    .dataframe tbody tr th:only-of-type {\n",
       "        vertical-align: middle;\n",
       "    }\n",
       "\n",
       "    .dataframe tbody tr th {\n",
       "        vertical-align: top;\n",
       "    }\n",
       "\n",
       "    .dataframe thead th {\n",
       "        text-align: right;\n",
       "    }\n",
       "</style>\n",
       "<table border=\"1\" class=\"dataframe\">\n",
       "  <thead>\n",
       "    <tr style=\"text-align: right;\">\n",
       "      <th></th>\n",
       "      <th>Country</th>\n",
       "      <th>Country Code</th>\n",
       "      <th>Year</th>\n",
       "      <th>Population</th>\n",
       "    </tr>\n",
       "  </thead>\n",
       "  <tbody>\n",
       "    <tr>\n",
       "      <th>0</th>\n",
       "      <td>Aruba</td>\n",
       "      <td>ABW</td>\n",
       "      <td>1960</td>\n",
       "      <td>54211.0</td>\n",
       "    </tr>\n",
       "    <tr>\n",
       "      <th>1</th>\n",
       "      <td>Afghanistan</td>\n",
       "      <td>AFG</td>\n",
       "      <td>1960</td>\n",
       "      <td>8996351.0</td>\n",
       "    </tr>\n",
       "    <tr>\n",
       "      <th>2</th>\n",
       "      <td>Angola</td>\n",
       "      <td>AGO</td>\n",
       "      <td>1960</td>\n",
       "      <td>5643182.0</td>\n",
       "    </tr>\n",
       "    <tr>\n",
       "      <th>3</th>\n",
       "      <td>Albania</td>\n",
       "      <td>ALB</td>\n",
       "      <td>1960</td>\n",
       "      <td>1608800.0</td>\n",
       "    </tr>\n",
       "    <tr>\n",
       "      <th>4</th>\n",
       "      <td>Andorra</td>\n",
       "      <td>AND</td>\n",
       "      <td>1960</td>\n",
       "      <td>13411.0</td>\n",
       "    </tr>\n",
       "  </tbody>\n",
       "</table>\n",
       "</div>"
      ],
      "text/plain": [
       "       Country Country Code  Year  Population\n",
       "0        Aruba          ABW  1960     54211.0\n",
       "1  Afghanistan          AFG  1960   8996351.0\n",
       "2       Angola          AGO  1960   5643182.0\n",
       "3      Albania          ALB  1960   1608800.0\n",
       "4      Andorra          AND  1960     13411.0"
      ]
     },
     "execution_count": 14,
     "metadata": {},
     "output_type": "execute_result"
    }
   ],
   "source": [
    "# Read in the population data\n",
    "w_pop = pd.read_csv('world_pop.csv')\n",
    "\n",
    "w_pop.drop(['Indicator Name', 'Indicator Code'], axis = 1, inplace = True)\n",
    "\n",
    "w_pop = pd.melt(w_pop, id_vars = ['Country', 'Country Code'], var_name = 'Year', value_name = 'Population')\n",
    "\n",
    "# Change the Year to integer type\n",
    "w_pop['Year'] = pd.to_numeric(w_pop['Year'])\n",
    "\n",
    "w_pop.head()"
   ]
  },
  {
   "cell_type": "code",
   "execution_count": 15,
   "metadata": {},
   "outputs": [
    {
     "data": {
      "text/html": [
       "<div>\n",
       "<style scoped>\n",
       "    .dataframe tbody tr th:only-of-type {\n",
       "        vertical-align: middle;\n",
       "    }\n",
       "\n",
       "    .dataframe tbody tr th {\n",
       "        vertical-align: top;\n",
       "    }\n",
       "\n",
       "    .dataframe thead th {\n",
       "        text-align: right;\n",
       "    }\n",
       "</style>\n",
       "<table border=\"1\" class=\"dataframe\">\n",
       "  <thead>\n",
       "    <tr style=\"text-align: right;\">\n",
       "      <th></th>\n",
       "      <th>Sex</th>\n",
       "      <th>Age</th>\n",
       "      <th>Height</th>\n",
       "      <th>Weight</th>\n",
       "      <th>Federation</th>\n",
       "      <th>Event</th>\n",
       "      <th>Year</th>\n",
       "      <th>Season</th>\n",
       "      <th>City</th>\n",
       "      <th>Sub Event</th>\n",
       "      <th>Grade</th>\n",
       "      <th>Id</th>\n",
       "      <th>GameID</th>\n",
       "      <th>Game</th>\n",
       "      <th>Record_Id</th>\n",
       "      <th>Team</th>\n",
       "      <th>Country Code</th>\n",
       "      <th>GDP</th>\n",
       "      <th>Population</th>\n",
       "    </tr>\n",
       "  </thead>\n",
       "  <tbody>\n",
       "    <tr>\n",
       "      <th>0</th>\n",
       "      <td>M</td>\n",
       "      <td>31.0</td>\n",
       "      <td>188.0</td>\n",
       "      <td>138.0</td>\n",
       "      <td>BUL</td>\n",
       "      <td>2016 Summer</td>\n",
       "      <td>2016</td>\n",
       "      <td>down</td>\n",
       "      <td>Rio de Janeiro</td>\n",
       "      <td>Athletics Men's Shot Put</td>\n",
       "      <td>D+</td>\n",
       "      <td>candidate-40730</td>\n",
       "      <td>Game 1</td>\n",
       "      <td>Athletics</td>\n",
       "      <td>5da57331-62fe-418b-abfd-ca6ab0731709</td>\n",
       "      <td>Bulgaria</td>\n",
       "      <td>BGR</td>\n",
       "      <td>5.323788e+10</td>\n",
       "      <td>7.127822e+06</td>\n",
       "    </tr>\n",
       "    <tr>\n",
       "      <th>1</th>\n",
       "      <td>F</td>\n",
       "      <td>28.0</td>\n",
       "      <td>166.0</td>\n",
       "      <td>62.0</td>\n",
       "      <td>TPE</td>\n",
       "      <td>1996 Summer</td>\n",
       "      <td>1996</td>\n",
       "      <td>down</td>\n",
       "      <td>Atlanta</td>\n",
       "      <td>Table Tennis Women's Singles</td>\n",
       "      <td>D+</td>\n",
       "      <td>candidate-129936</td>\n",
       "      <td>Game 33</td>\n",
       "      <td>Table Tennis</td>\n",
       "      <td>0ae393f7-5e07-4b7c-b0cd-83edf259a069</td>\n",
       "      <td>Taiwan</td>\n",
       "      <td>NaN</td>\n",
       "      <td>NaN</td>\n",
       "      <td>NaN</td>\n",
       "    </tr>\n",
       "    <tr>\n",
       "      <th>2</th>\n",
       "      <td>M</td>\n",
       "      <td>30.0</td>\n",
       "      <td>NaN</td>\n",
       "      <td>NaN</td>\n",
       "      <td>SWE</td>\n",
       "      <td>1960 Summer</td>\n",
       "      <td>1960</td>\n",
       "      <td>down</td>\n",
       "      <td>Roma</td>\n",
       "      <td>Rowing Men's Coxed Fours</td>\n",
       "      <td>D+</td>\n",
       "      <td>candidate-109667</td>\n",
       "      <td>Game 7</td>\n",
       "      <td>Rowing</td>\n",
       "      <td>3fec3204-ca6d-476f-ab89-e1189bc0eb35</td>\n",
       "      <td>Sweden</td>\n",
       "      <td>SWE</td>\n",
       "      <td>1.484287e+10</td>\n",
       "      <td>7.484656e+06</td>\n",
       "    </tr>\n",
       "    <tr>\n",
       "      <th>3</th>\n",
       "      <td>F</td>\n",
       "      <td>28.0</td>\n",
       "      <td>181.0</td>\n",
       "      <td>80.0</td>\n",
       "      <td>CHN</td>\n",
       "      <td>2004 Summer</td>\n",
       "      <td>2004</td>\n",
       "      <td>down</td>\n",
       "      <td>Athina</td>\n",
       "      <td>Handball Women's Handball</td>\n",
       "      <td>D+</td>\n",
       "      <td>candidate-131637</td>\n",
       "      <td>Game 24</td>\n",
       "      <td>Handball</td>\n",
       "      <td>96cd09eb-b394-4c7d-8f7d-b3a0dc8cd870</td>\n",
       "      <td>China</td>\n",
       "      <td>CHN</td>\n",
       "      <td>1.955350e+12</td>\n",
       "      <td>1.296075e+09</td>\n",
       "    </tr>\n",
       "    <tr>\n",
       "      <th>4</th>\n",
       "      <td>F</td>\n",
       "      <td>16.0</td>\n",
       "      <td>175.0</td>\n",
       "      <td>54.0</td>\n",
       "      <td>HUN</td>\n",
       "      <td>1996 Summer</td>\n",
       "      <td>1996</td>\n",
       "      <td>down</td>\n",
       "      <td>Atlanta</td>\n",
       "      <td>Swimming Women's 4 x 100 metres Medley Relay</td>\n",
       "      <td>D+</td>\n",
       "      <td>candidate-29360</td>\n",
       "      <td>Game 3</td>\n",
       "      <td>Swimming</td>\n",
       "      <td>bc158ecb-2fc5-4ffa-abd3-1075f4196044</td>\n",
       "      <td>Hungary</td>\n",
       "      <td>HUN</td>\n",
       "      <td>4.665980e+10</td>\n",
       "      <td>1.031124e+07</td>\n",
       "    </tr>\n",
       "  </tbody>\n",
       "</table>\n",
       "</div>"
      ],
      "text/plain": [
       "  Sex   Age  Height  Weight Federation        Event  Year Season  \\\n",
       "0   M  31.0   188.0   138.0        BUL  2016 Summer  2016   down   \n",
       "1   F  28.0   166.0    62.0        TPE  1996 Summer  1996   down   \n",
       "2   M  30.0     NaN     NaN        SWE  1960 Summer  1960   down   \n",
       "3   F  28.0   181.0    80.0        CHN  2004 Summer  2004   down   \n",
       "4   F  16.0   175.0    54.0        HUN  1996 Summer  1996   down   \n",
       "\n",
       "             City                                     Sub Event Grade  \\\n",
       "0  Rio de Janeiro                      Athletics Men's Shot Put    D+   \n",
       "1         Atlanta                  Table Tennis Women's Singles    D+   \n",
       "2            Roma                      Rowing Men's Coxed Fours    D+   \n",
       "3          Athina                     Handball Women's Handball    D+   \n",
       "4         Atlanta  Swimming Women's 4 x 100 metres Medley Relay    D+   \n",
       "\n",
       "                 Id   GameID          Game  \\\n",
       "0   candidate-40730   Game 1     Athletics   \n",
       "1  candidate-129936  Game 33  Table Tennis   \n",
       "2  candidate-109667   Game 7        Rowing   \n",
       "3  candidate-131637  Game 24      Handball   \n",
       "4   candidate-29360   Game 3      Swimming   \n",
       "\n",
       "                              Record_Id      Team Country Code           GDP  \\\n",
       "0  5da57331-62fe-418b-abfd-ca6ab0731709  Bulgaria          BGR  5.323788e+10   \n",
       "1  0ae393f7-5e07-4b7c-b0cd-83edf259a069    Taiwan          NaN           NaN   \n",
       "2  3fec3204-ca6d-476f-ab89-e1189bc0eb35    Sweden          SWE  1.484287e+10   \n",
       "3  96cd09eb-b394-4c7d-8f7d-b3a0dc8cd870     China          CHN  1.955350e+12   \n",
       "4  bc158ecb-2fc5-4ffa-abd3-1075f4196044   Hungary          HUN  4.665980e+10   \n",
       "\n",
       "     Population  \n",
       "0  7.127822e+06  \n",
       "1           NaN  \n",
       "2  7.484656e+06  \n",
       "3  1.296075e+09  \n",
       "4  1.031124e+07  "
      ]
     },
     "execution_count": 15,
     "metadata": {},
     "output_type": "execute_result"
    }
   ],
   "source": [
    "df_complete = df_merge_gdp.merge(w_pop,\n",
    "                                            left_on = ['Country Code', 'Year'],\n",
    "                                            right_on= ['Country Code', 'Year'],\n",
    "                                            how = 'left')\n",
    "\n",
    "df_complete.drop('Country', axis = 1, inplace = True)\n",
    "\n",
    "df_complete.head()"
   ]
  },
  {
   "cell_type": "code",
   "execution_count": 16,
   "metadata": {},
   "outputs": [
    {
     "data": {
      "text/plain": [
       "Sex                 0\n",
       "Age              3174\n",
       "Height          19883\n",
       "Weight          20792\n",
       "Federation          0\n",
       "Event               0\n",
       "Year                0\n",
       "Season              0\n",
       "City                0\n",
       "Sub Event           0\n",
       "Grade               0\n",
       "Id                  0\n",
       "GameID              0\n",
       "Game                0\n",
       "Record_Id           0\n",
       "Team              118\n",
       "Country Code      575\n",
       "GDP             29038\n",
       "Population      21700\n",
       "dtype: int64"
      ]
     },
     "execution_count": 16,
     "metadata": {},
     "output_type": "execute_result"
    }
   ],
   "source": [
    "df_complete.isnull().sum()"
   ]
  },
  {
   "cell_type": "markdown",
   "metadata": {},
   "source": [
    "#### From above, we can observe, 6 variable having missing data "
   ]
  },
  {
   "cell_type": "code",
   "execution_count": 17,
   "metadata": {},
   "outputs": [
    {
     "data": {
      "text/html": [
       "<div>\n",
       "<style scoped>\n",
       "    .dataframe tbody tr th:only-of-type {\n",
       "        vertical-align: middle;\n",
       "    }\n",
       "\n",
       "    .dataframe tbody tr th {\n",
       "        vertical-align: top;\n",
       "    }\n",
       "\n",
       "    .dataframe thead th {\n",
       "        text-align: right;\n",
       "    }\n",
       "</style>\n",
       "<table border=\"1\" class=\"dataframe\">\n",
       "  <thead>\n",
       "    <tr style=\"text-align: right;\">\n",
       "      <th></th>\n",
       "      <th>Sex</th>\n",
       "      <th>Age</th>\n",
       "      <th>Height</th>\n",
       "      <th>Weight</th>\n",
       "      <th>Federation</th>\n",
       "      <th>Event</th>\n",
       "      <th>Year</th>\n",
       "      <th>Season</th>\n",
       "      <th>City</th>\n",
       "      <th>Sub Event</th>\n",
       "      <th>Grade</th>\n",
       "      <th>Id</th>\n",
       "      <th>GameID</th>\n",
       "      <th>Game</th>\n",
       "      <th>Record_Id</th>\n",
       "      <th>Team</th>\n",
       "      <th>Country Code</th>\n",
       "      <th>GDP</th>\n",
       "      <th>Population</th>\n",
       "    </tr>\n",
       "  </thead>\n",
       "  <tbody>\n",
       "    <tr>\n",
       "      <th>0</th>\n",
       "      <td>M</td>\n",
       "      <td>31.0</td>\n",
       "      <td>188.0</td>\n",
       "      <td>138.0</td>\n",
       "      <td>BUL</td>\n",
       "      <td>2016 Summer</td>\n",
       "      <td>2016</td>\n",
       "      <td>down</td>\n",
       "      <td>Rio de Janeiro</td>\n",
       "      <td>Athletics Men's Shot Put</td>\n",
       "      <td>D+</td>\n",
       "      <td>candidate-40730</td>\n",
       "      <td>Game 1</td>\n",
       "      <td>Athletics</td>\n",
       "      <td>5da57331-62fe-418b-abfd-ca6ab0731709</td>\n",
       "      <td>Bulgaria</td>\n",
       "      <td>BGR</td>\n",
       "      <td>5.323788e+10</td>\n",
       "      <td>7.127822e+06</td>\n",
       "    </tr>\n",
       "    <tr>\n",
       "      <th>1</th>\n",
       "      <td>F</td>\n",
       "      <td>28.0</td>\n",
       "      <td>166.0</td>\n",
       "      <td>62.0</td>\n",
       "      <td>TPE</td>\n",
       "      <td>1996 Summer</td>\n",
       "      <td>1996</td>\n",
       "      <td>down</td>\n",
       "      <td>Atlanta</td>\n",
       "      <td>Table Tennis Women's Singles</td>\n",
       "      <td>D+</td>\n",
       "      <td>candidate-129936</td>\n",
       "      <td>Game 33</td>\n",
       "      <td>Table Tennis</td>\n",
       "      <td>0ae393f7-5e07-4b7c-b0cd-83edf259a069</td>\n",
       "      <td>Taiwan</td>\n",
       "      <td>NaN</td>\n",
       "      <td>NaN</td>\n",
       "      <td>NaN</td>\n",
       "    </tr>\n",
       "    <tr>\n",
       "      <th>2</th>\n",
       "      <td>M</td>\n",
       "      <td>30.0</td>\n",
       "      <td>NaN</td>\n",
       "      <td>NaN</td>\n",
       "      <td>SWE</td>\n",
       "      <td>1960 Summer</td>\n",
       "      <td>1960</td>\n",
       "      <td>down</td>\n",
       "      <td>Roma</td>\n",
       "      <td>Rowing Men's Coxed Fours</td>\n",
       "      <td>D+</td>\n",
       "      <td>candidate-109667</td>\n",
       "      <td>Game 7</td>\n",
       "      <td>Rowing</td>\n",
       "      <td>3fec3204-ca6d-476f-ab89-e1189bc0eb35</td>\n",
       "      <td>Sweden</td>\n",
       "      <td>SWE</td>\n",
       "      <td>1.484287e+10</td>\n",
       "      <td>7.484656e+06</td>\n",
       "    </tr>\n",
       "    <tr>\n",
       "      <th>3</th>\n",
       "      <td>F</td>\n",
       "      <td>28.0</td>\n",
       "      <td>181.0</td>\n",
       "      <td>80.0</td>\n",
       "      <td>CHN</td>\n",
       "      <td>2004 Summer</td>\n",
       "      <td>2004</td>\n",
       "      <td>down</td>\n",
       "      <td>Athina</td>\n",
       "      <td>Handball Women's Handball</td>\n",
       "      <td>D+</td>\n",
       "      <td>candidate-131637</td>\n",
       "      <td>Game 24</td>\n",
       "      <td>Handball</td>\n",
       "      <td>96cd09eb-b394-4c7d-8f7d-b3a0dc8cd870</td>\n",
       "      <td>China</td>\n",
       "      <td>CHN</td>\n",
       "      <td>1.955350e+12</td>\n",
       "      <td>1.296075e+09</td>\n",
       "    </tr>\n",
       "    <tr>\n",
       "      <th>4</th>\n",
       "      <td>F</td>\n",
       "      <td>16.0</td>\n",
       "      <td>175.0</td>\n",
       "      <td>54.0</td>\n",
       "      <td>HUN</td>\n",
       "      <td>1996 Summer</td>\n",
       "      <td>1996</td>\n",
       "      <td>down</td>\n",
       "      <td>Atlanta</td>\n",
       "      <td>Swimming Women's 4 x 100 metres Medley Relay</td>\n",
       "      <td>D+</td>\n",
       "      <td>candidate-29360</td>\n",
       "      <td>Game 3</td>\n",
       "      <td>Swimming</td>\n",
       "      <td>bc158ecb-2fc5-4ffa-abd3-1075f4196044</td>\n",
       "      <td>Hungary</td>\n",
       "      <td>HUN</td>\n",
       "      <td>4.665980e+10</td>\n",
       "      <td>1.031124e+07</td>\n",
       "    </tr>\n",
       "    <tr>\n",
       "      <th>5</th>\n",
       "      <td>M</td>\n",
       "      <td>41.0</td>\n",
       "      <td>NaN</td>\n",
       "      <td>NaN</td>\n",
       "      <td>SWE</td>\n",
       "      <td>1948 Summer</td>\n",
       "      <td>1948</td>\n",
       "      <td>down</td>\n",
       "      <td>London</td>\n",
       "      <td>Fencing Men's epee, Team</td>\n",
       "      <td>C+</td>\n",
       "      <td>candidate-37265</td>\n",
       "      <td>Game 6</td>\n",
       "      <td>Fencing</td>\n",
       "      <td>8daeb6f5-bda4-4af9-925a-f3ad3f761352</td>\n",
       "      <td>Sweden</td>\n",
       "      <td>SWE</td>\n",
       "      <td>NaN</td>\n",
       "      <td>NaN</td>\n",
       "    </tr>\n",
       "    <tr>\n",
       "      <th>6</th>\n",
       "      <td>M</td>\n",
       "      <td>19.0</td>\n",
       "      <td>NaN</td>\n",
       "      <td>NaN</td>\n",
       "      <td>GER</td>\n",
       "      <td>1900 Summer</td>\n",
       "      <td>1900</td>\n",
       "      <td>down</td>\n",
       "      <td>Paris</td>\n",
       "      <td>Water Polo Men's Water Polo</td>\n",
       "      <td>D+</td>\n",
       "      <td>candidate-48666</td>\n",
       "      <td>Game 22</td>\n",
       "      <td>Water Polo</td>\n",
       "      <td>0e2ca9d3-ba39-4205-b4ab-11fa3de643d1</td>\n",
       "      <td>Germany</td>\n",
       "      <td>DEU</td>\n",
       "      <td>NaN</td>\n",
       "      <td>NaN</td>\n",
       "    </tr>\n",
       "    <tr>\n",
       "      <th>7</th>\n",
       "      <td>F</td>\n",
       "      <td>21.0</td>\n",
       "      <td>183.0</td>\n",
       "      <td>69.0</td>\n",
       "      <td>GER</td>\n",
       "      <td>2012 Summer</td>\n",
       "      <td>2012</td>\n",
       "      <td>down</td>\n",
       "      <td>London</td>\n",
       "      <td>Rowing Women's Coxed Eights</td>\n",
       "      <td>D+</td>\n",
       "      <td>candidate-68163</td>\n",
       "      <td>Game 7</td>\n",
       "      <td>Rowing</td>\n",
       "      <td>b3966071-9051-49cf-88ab-ef8705e43f6f</td>\n",
       "      <td>Germany</td>\n",
       "      <td>DEU</td>\n",
       "      <td>3.543980e+12</td>\n",
       "      <td>8.042582e+07</td>\n",
       "    </tr>\n",
       "    <tr>\n",
       "      <th>8</th>\n",
       "      <td>M</td>\n",
       "      <td>33.0</td>\n",
       "      <td>NaN</td>\n",
       "      <td>NaN</td>\n",
       "      <td>FRA</td>\n",
       "      <td>1900 Summer</td>\n",
       "      <td>1900</td>\n",
       "      <td>down</td>\n",
       "      <td>Paris</td>\n",
       "      <td>Fencing Men's epee, Masters and Amateurs, Indi...</td>\n",
       "      <td>D+</td>\n",
       "      <td>candidate-41837</td>\n",
       "      <td>Game 6</td>\n",
       "      <td>Fencing</td>\n",
       "      <td>cbe726dc-8d26-4e49-82a5-8ecdbe45c7ff</td>\n",
       "      <td>France</td>\n",
       "      <td>FRA</td>\n",
       "      <td>NaN</td>\n",
       "      <td>NaN</td>\n",
       "    </tr>\n",
       "    <tr>\n",
       "      <th>9</th>\n",
       "      <td>M</td>\n",
       "      <td>21.0</td>\n",
       "      <td>174.0</td>\n",
       "      <td>57.0</td>\n",
       "      <td>GER</td>\n",
       "      <td>2010 Winter</td>\n",
       "      <td>2010</td>\n",
       "      <td>Up</td>\n",
       "      <td>Vancouver</td>\n",
       "      <td>Nordic Combined Men's Team</td>\n",
       "      <td>C+</td>\n",
       "      <td>candidate-32501</td>\n",
       "      <td>Game 38</td>\n",
       "      <td>Nordic Combined</td>\n",
       "      <td>a0e57be0-22bd-49d2-a25c-032d278e14d2</td>\n",
       "      <td>Germany</td>\n",
       "      <td>DEU</td>\n",
       "      <td>3.417090e+12</td>\n",
       "      <td>8.177693e+07</td>\n",
       "    </tr>\n",
       "    <tr>\n",
       "      <th>10</th>\n",
       "      <td>M</td>\n",
       "      <td>18.0</td>\n",
       "      <td>184.0</td>\n",
       "      <td>74.0</td>\n",
       "      <td>USA</td>\n",
       "      <td>1956 Summer</td>\n",
       "      <td>1956</td>\n",
       "      <td>down</td>\n",
       "      <td>Melbourne</td>\n",
       "      <td>Swimming Men's 100 metres Backstroke</td>\n",
       "      <td>C+</td>\n",
       "      <td>candidate-37129</td>\n",
       "      <td>Game 3</td>\n",
       "      <td>Swimming</td>\n",
       "      <td>0b81c443-1d74-4024-9ad2-d74da68ad705</td>\n",
       "      <td>USA</td>\n",
       "      <td>USA</td>\n",
       "      <td>NaN</td>\n",
       "      <td>NaN</td>\n",
       "    </tr>\n",
       "    <tr>\n",
       "      <th>11</th>\n",
       "      <td>M</td>\n",
       "      <td>27.0</td>\n",
       "      <td>175.0</td>\n",
       "      <td>72.0</td>\n",
       "      <td>NOR</td>\n",
       "      <td>1980 Winter</td>\n",
       "      <td>1980</td>\n",
       "      <td>Up</td>\n",
       "      <td>Lake Placid</td>\n",
       "      <td>Ice Hockey Men's Ice Hockey</td>\n",
       "      <td>D+</td>\n",
       "      <td>candidate-90321</td>\n",
       "      <td>Game 17</td>\n",
       "      <td>Ice Hockey</td>\n",
       "      <td>b878894b-426c-42f1-a7f9-3742d034e9fa</td>\n",
       "      <td>Norway</td>\n",
       "      <td>NOR</td>\n",
       "      <td>6.443938e+10</td>\n",
       "      <td>4.085620e+06</td>\n",
       "    </tr>\n",
       "    <tr>\n",
       "      <th>12</th>\n",
       "      <td>M</td>\n",
       "      <td>21.0</td>\n",
       "      <td>167.0</td>\n",
       "      <td>67.0</td>\n",
       "      <td>GDR</td>\n",
       "      <td>1980 Summer</td>\n",
       "      <td>1980</td>\n",
       "      <td>down</td>\n",
       "      <td>Moskva</td>\n",
       "      <td>Gymnastics Men's Individual All-Around</td>\n",
       "      <td>D+</td>\n",
       "      <td>candidate-78430</td>\n",
       "      <td>Game 2</td>\n",
       "      <td>Gymnastics</td>\n",
       "      <td>b2207b51-d1fc-4ae5-949c-cd6adac6214d</td>\n",
       "      <td>Germany</td>\n",
       "      <td>DEU</td>\n",
       "      <td>9.466950e+11</td>\n",
       "      <td>7.828858e+07</td>\n",
       "    </tr>\n",
       "    <tr>\n",
       "      <th>13</th>\n",
       "      <td>M</td>\n",
       "      <td>19.0</td>\n",
       "      <td>186.0</td>\n",
       "      <td>78.0</td>\n",
       "      <td>GER</td>\n",
       "      <td>2008 Summer</td>\n",
       "      <td>2008</td>\n",
       "      <td>down</td>\n",
       "      <td>Beijing</td>\n",
       "      <td>Table Tennis Men's Team</td>\n",
       "      <td>B+</td>\n",
       "      <td>candidate-27298</td>\n",
       "      <td>Game 33</td>\n",
       "      <td>Table Tennis</td>\n",
       "      <td>e900c123-aad8-4854-9b0a-a1990167e7b0</td>\n",
       "      <td>Germany</td>\n",
       "      <td>DEU</td>\n",
       "      <td>3.752370e+12</td>\n",
       "      <td>8.211010e+07</td>\n",
       "    </tr>\n",
       "    <tr>\n",
       "      <th>14</th>\n",
       "      <td>M</td>\n",
       "      <td>21.0</td>\n",
       "      <td>NaN</td>\n",
       "      <td>NaN</td>\n",
       "      <td>KOR</td>\n",
       "      <td>1996 Summer</td>\n",
       "      <td>1996</td>\n",
       "      <td>down</td>\n",
       "      <td>Atlanta</td>\n",
       "      <td>Gymnastics Men's Horse Vault</td>\n",
       "      <td>D+</td>\n",
       "      <td>candidate-69882</td>\n",
       "      <td>Game 2</td>\n",
       "      <td>Gymnastics</td>\n",
       "      <td>4b09a073-c3ab-4766-82d7-8630d60729d2</td>\n",
       "      <td>South Korea</td>\n",
       "      <td>KOR</td>\n",
       "      <td>5.980990e+11</td>\n",
       "      <td>4.552468e+07</td>\n",
       "    </tr>\n",
       "    <tr>\n",
       "      <th>15</th>\n",
       "      <td>M</td>\n",
       "      <td>17.0</td>\n",
       "      <td>NaN</td>\n",
       "      <td>NaN</td>\n",
       "      <td>GBR</td>\n",
       "      <td>1976 Summer</td>\n",
       "      <td>1976</td>\n",
       "      <td>down</td>\n",
       "      <td>Montreal</td>\n",
       "      <td>Swimming Men's 1,500 metres Freestyle</td>\n",
       "      <td>D+</td>\n",
       "      <td>candidate-25450</td>\n",
       "      <td>Game 3</td>\n",
       "      <td>Swimming</td>\n",
       "      <td>e3df481c-6f38-47c9-af85-60f0c7c68bcc</td>\n",
       "      <td>UK</td>\n",
       "      <td>GBR</td>\n",
       "      <td>2.326150e+11</td>\n",
       "      <td>5.621197e+07</td>\n",
       "    </tr>\n",
       "    <tr>\n",
       "      <th>16</th>\n",
       "      <td>M</td>\n",
       "      <td>32.0</td>\n",
       "      <td>172.0</td>\n",
       "      <td>67.0</td>\n",
       "      <td>OMA</td>\n",
       "      <td>1996 Summer</td>\n",
       "      <td>1996</td>\n",
       "      <td>down</td>\n",
       "      <td>Atlanta</td>\n",
       "      <td>Shooting Men's Air Rifle, 10 metres</td>\n",
       "      <td>D+</td>\n",
       "      <td>candidate-69585</td>\n",
       "      <td>Game 4</td>\n",
       "      <td>Shooting</td>\n",
       "      <td>2826671d-dfaf-4c34-abff-35ed4efd512a</td>\n",
       "      <td>Oman</td>\n",
       "      <td>OMN</td>\n",
       "      <td>1.527776e+10</td>\n",
       "      <td>2.236666e+06</td>\n",
       "    </tr>\n",
       "    <tr>\n",
       "      <th>17</th>\n",
       "      <td>M</td>\n",
       "      <td>31.0</td>\n",
       "      <td>175.0</td>\n",
       "      <td>80.0</td>\n",
       "      <td>CZE</td>\n",
       "      <td>2014 Winter</td>\n",
       "      <td>2014</td>\n",
       "      <td>Up</td>\n",
       "      <td>Sochi</td>\n",
       "      <td>Alpine Skiing Men's Downhill</td>\n",
       "      <td>D+</td>\n",
       "      <td>candidate-83986</td>\n",
       "      <td>Game 9</td>\n",
       "      <td>Alpine Skiing</td>\n",
       "      <td>ce7712f4-6bf7-4df7-8d93-863919913784</td>\n",
       "      <td>Czech Republic</td>\n",
       "      <td>CZE</td>\n",
       "      <td>2.078180e+11</td>\n",
       "      <td>1.052535e+07</td>\n",
       "    </tr>\n",
       "    <tr>\n",
       "      <th>18</th>\n",
       "      <td>F</td>\n",
       "      <td>34.0</td>\n",
       "      <td>167.0</td>\n",
       "      <td>62.0</td>\n",
       "      <td>ITA</td>\n",
       "      <td>2004 Summer</td>\n",
       "      <td>2004</td>\n",
       "      <td>down</td>\n",
       "      <td>Athina</td>\n",
       "      <td>Shooting Women's Air Rifle, 10 metres</td>\n",
       "      <td>D+</td>\n",
       "      <td>candidate-123770</td>\n",
       "      <td>Game 4</td>\n",
       "      <td>Shooting</td>\n",
       "      <td>e7adcd37-e49b-42da-9ee9-69fd79d51fd5</td>\n",
       "      <td>Italy</td>\n",
       "      <td>ITA</td>\n",
       "      <td>1.798310e+12</td>\n",
       "      <td>5.768533e+07</td>\n",
       "    </tr>\n",
       "    <tr>\n",
       "      <th>19</th>\n",
       "      <td>M</td>\n",
       "      <td>NaN</td>\n",
       "      <td>NaN</td>\n",
       "      <td>NaN</td>\n",
       "      <td>PER</td>\n",
       "      <td>1948 Summer</td>\n",
       "      <td>1948</td>\n",
       "      <td>down</td>\n",
       "      <td>London</td>\n",
       "      <td>Athletics Men's 1,500 metres</td>\n",
       "      <td>D+</td>\n",
       "      <td>candidate-10046</td>\n",
       "      <td>Game 1</td>\n",
       "      <td>Athletics</td>\n",
       "      <td>8f6a4450-081f-4c92-a048-611e3fb4c548</td>\n",
       "      <td>Peru</td>\n",
       "      <td>PER</td>\n",
       "      <td>NaN</td>\n",
       "      <td>NaN</td>\n",
       "    </tr>\n",
       "    <tr>\n",
       "      <th>20</th>\n",
       "      <td>M</td>\n",
       "      <td>22.0</td>\n",
       "      <td>NaN</td>\n",
       "      <td>NaN</td>\n",
       "      <td>FRA</td>\n",
       "      <td>1924 Summer</td>\n",
       "      <td>1924</td>\n",
       "      <td>down</td>\n",
       "      <td>Paris</td>\n",
       "      <td>Athletics Men's 400 metres</td>\n",
       "      <td>D+</td>\n",
       "      <td>candidate-104031</td>\n",
       "      <td>Game 1</td>\n",
       "      <td>Athletics</td>\n",
       "      <td>cfb3ae2d-6e63-4324-b908-ceac8bb65ca3</td>\n",
       "      <td>France</td>\n",
       "      <td>FRA</td>\n",
       "      <td>NaN</td>\n",
       "      <td>NaN</td>\n",
       "    </tr>\n",
       "    <tr>\n",
       "      <th>21</th>\n",
       "      <td>F</td>\n",
       "      <td>19.0</td>\n",
       "      <td>143.0</td>\n",
       "      <td>47.0</td>\n",
       "      <td>USA</td>\n",
       "      <td>2016 Summer</td>\n",
       "      <td>2016</td>\n",
       "      <td>down</td>\n",
       "      <td>Rio de Janeiro</td>\n",
       "      <td>Gymnastics Women's Team All-Around</td>\n",
       "      <td>A+</td>\n",
       "      <td>candidate-114679</td>\n",
       "      <td>Game 2</td>\n",
       "      <td>Gymnastics</td>\n",
       "      <td>7fa2f670-d63a-4fdb-a551-e2a64f32fedd</td>\n",
       "      <td>USA</td>\n",
       "      <td>USA</td>\n",
       "      <td>1.862450e+13</td>\n",
       "      <td>3.231275e+08</td>\n",
       "    </tr>\n",
       "    <tr>\n",
       "      <th>22</th>\n",
       "      <td>M</td>\n",
       "      <td>27.0</td>\n",
       "      <td>162.0</td>\n",
       "      <td>70.0</td>\n",
       "      <td>SUI</td>\n",
       "      <td>1972 Winter</td>\n",
       "      <td>1972</td>\n",
       "      <td>Up</td>\n",
       "      <td>Sapporo</td>\n",
       "      <td>Ski Jumping Men's Large Hill, Individual</td>\n",
       "      <td>D+</td>\n",
       "      <td>candidate-63643</td>\n",
       "      <td>Game 30</td>\n",
       "      <td>Ski Jumping</td>\n",
       "      <td>d2960c80-5266-414e-bf0e-d603c26c6a49</td>\n",
       "      <td>Switzerland</td>\n",
       "      <td>CHE</td>\n",
       "      <td>NaN</td>\n",
       "      <td>6.260956e+06</td>\n",
       "    </tr>\n",
       "    <tr>\n",
       "      <th>23</th>\n",
       "      <td>F</td>\n",
       "      <td>27.0</td>\n",
       "      <td>173.0</td>\n",
       "      <td>63.0</td>\n",
       "      <td>UKR</td>\n",
       "      <td>2016 Summer</td>\n",
       "      <td>2016</td>\n",
       "      <td>down</td>\n",
       "      <td>Rio de Janeiro</td>\n",
       "      <td>Athletics Women's 400 metres Hurdles</td>\n",
       "      <td>D+</td>\n",
       "      <td>candidate-45294</td>\n",
       "      <td>Game 1</td>\n",
       "      <td>Athletics</td>\n",
       "      <td>9eff70df-f6be-42f1-a1af-b3e88e3a5a83</td>\n",
       "      <td>Ukraine</td>\n",
       "      <td>UKR</td>\n",
       "      <td>9.327048e+10</td>\n",
       "      <td>4.500464e+07</td>\n",
       "    </tr>\n",
       "    <tr>\n",
       "      <th>24</th>\n",
       "      <td>M</td>\n",
       "      <td>30.0</td>\n",
       "      <td>178.0</td>\n",
       "      <td>68.0</td>\n",
       "      <td>ITA</td>\n",
       "      <td>1960 Summer</td>\n",
       "      <td>1960</td>\n",
       "      <td>down</td>\n",
       "      <td>Roma</td>\n",
       "      <td>Athletics Men's 20 kilometres Walk</td>\n",
       "      <td>D+</td>\n",
       "      <td>candidate-116334</td>\n",
       "      <td>Game 1</td>\n",
       "      <td>Athletics</td>\n",
       "      <td>d975d28f-2f4d-487d-b2ff-cef010636394</td>\n",
       "      <td>Italy</td>\n",
       "      <td>ITA</td>\n",
       "      <td>4.038529e+10</td>\n",
       "      <td>5.019970e+07</td>\n",
       "    </tr>\n",
       "    <tr>\n",
       "      <th>25</th>\n",
       "      <td>F</td>\n",
       "      <td>30.0</td>\n",
       "      <td>188.0</td>\n",
       "      <td>78.0</td>\n",
       "      <td>CAN</td>\n",
       "      <td>1984 Summer</td>\n",
       "      <td>1984</td>\n",
       "      <td>down</td>\n",
       "      <td>Los Angeles</td>\n",
       "      <td>Volleyball Women's Volleyball</td>\n",
       "      <td>D+</td>\n",
       "      <td>candidate-12852</td>\n",
       "      <td>Game 26</td>\n",
       "      <td>Volleyball</td>\n",
       "      <td>8a493751-fb80-4eb3-a684-c168f82c5738</td>\n",
       "      <td>Canada</td>\n",
       "      <td>CAN</td>\n",
       "      <td>3.553730e+11</td>\n",
       "      <td>2.570200e+07</td>\n",
       "    </tr>\n",
       "    <tr>\n",
       "      <th>26</th>\n",
       "      <td>F</td>\n",
       "      <td>25.0</td>\n",
       "      <td>172.0</td>\n",
       "      <td>59.0</td>\n",
       "      <td>BUL</td>\n",
       "      <td>1980 Summer</td>\n",
       "      <td>1980</td>\n",
       "      <td>down</td>\n",
       "      <td>Moskva</td>\n",
       "      <td>Athletics Women's 1,500 metres</td>\n",
       "      <td>D+</td>\n",
       "      <td>candidate-93760</td>\n",
       "      <td>Game 1</td>\n",
       "      <td>Athletics</td>\n",
       "      <td>a5f66b4e-9be9-4530-be55-246b9ca72963</td>\n",
       "      <td>Bulgaria</td>\n",
       "      <td>BGR</td>\n",
       "      <td>1.983923e+10</td>\n",
       "      <td>8.861535e+06</td>\n",
       "    </tr>\n",
       "    <tr>\n",
       "      <th>27</th>\n",
       "      <td>F</td>\n",
       "      <td>24.0</td>\n",
       "      <td>168.0</td>\n",
       "      <td>58.0</td>\n",
       "      <td>CHN</td>\n",
       "      <td>2016 Summer</td>\n",
       "      <td>2016</td>\n",
       "      <td>down</td>\n",
       "      <td>Rio de Janeiro</td>\n",
       "      <td>Modern Pentathlon Women's Individual</td>\n",
       "      <td>D+</td>\n",
       "      <td>candidate-133050</td>\n",
       "      <td>Game 34</td>\n",
       "      <td>Modern Pentathlon</td>\n",
       "      <td>6c7c90bb-3d00-4851-915a-9b3c38191700</td>\n",
       "      <td>China</td>\n",
       "      <td>CHN</td>\n",
       "      <td>1.119910e+13</td>\n",
       "      <td>1.378665e+09</td>\n",
       "    </tr>\n",
       "    <tr>\n",
       "      <th>28</th>\n",
       "      <td>F</td>\n",
       "      <td>24.0</td>\n",
       "      <td>160.0</td>\n",
       "      <td>57.0</td>\n",
       "      <td>FRA</td>\n",
       "      <td>1988 Winter</td>\n",
       "      <td>1988</td>\n",
       "      <td>Up</td>\n",
       "      <td>Calgary</td>\n",
       "      <td>Alpine Skiing Women's Combined</td>\n",
       "      <td>D+</td>\n",
       "      <td>candidate-18736</td>\n",
       "      <td>Game 9</td>\n",
       "      <td>Alpine Skiing</td>\n",
       "      <td>a3d4bfb8-d1e9-4f27-95ea-cea93b0525ff</td>\n",
       "      <td>France</td>\n",
       "      <td>FRA</td>\n",
       "      <td>1.023500e+12</td>\n",
       "      <td>5.783649e+07</td>\n",
       "    </tr>\n",
       "    <tr>\n",
       "      <th>29</th>\n",
       "      <td>M</td>\n",
       "      <td>31.0</td>\n",
       "      <td>184.0</td>\n",
       "      <td>80.0</td>\n",
       "      <td>RUS</td>\n",
       "      <td>2000 Summer</td>\n",
       "      <td>2000</td>\n",
       "      <td>down</td>\n",
       "      <td>Sydney</td>\n",
       "      <td>Shooting Men's Trap</td>\n",
       "      <td>D+</td>\n",
       "      <td>candidate-112635</td>\n",
       "      <td>Game 4</td>\n",
       "      <td>Shooting</td>\n",
       "      <td>277920d0-5054-4eeb-a38a-04f8d37c5dc0</td>\n",
       "      <td>Russia</td>\n",
       "      <td>RUS</td>\n",
       "      <td>2.597080e+11</td>\n",
       "      <td>1.465966e+08</td>\n",
       "    </tr>\n",
       "    <tr>\n",
       "      <th>...</th>\n",
       "      <td>...</td>\n",
       "      <td>...</td>\n",
       "      <td>...</td>\n",
       "      <td>...</td>\n",
       "      <td>...</td>\n",
       "      <td>...</td>\n",
       "      <td>...</td>\n",
       "      <td>...</td>\n",
       "      <td>...</td>\n",
       "      <td>...</td>\n",
       "      <td>...</td>\n",
       "      <td>...</td>\n",
       "      <td>...</td>\n",
       "      <td>...</td>\n",
       "      <td>...</td>\n",
       "      <td>...</td>\n",
       "      <td>...</td>\n",
       "      <td>...</td>\n",
       "      <td>...</td>\n",
       "    </tr>\n",
       "    <tr>\n",
       "      <th>90695</th>\n",
       "      <td>M</td>\n",
       "      <td>30.0</td>\n",
       "      <td>176.0</td>\n",
       "      <td>72.0</td>\n",
       "      <td>FRA</td>\n",
       "      <td>1992 Winter</td>\n",
       "      <td>1992</td>\n",
       "      <td>Up</td>\n",
       "      <td>Albertville</td>\n",
       "      <td>Ice Hockey Men's Ice Hockey</td>\n",
       "      <td>D+</td>\n",
       "      <td>candidate-117065</td>\n",
       "      <td>Game 17</td>\n",
       "      <td>Ice Hockey</td>\n",
       "      <td>b57c6bd6-8402-4847-9e17-d2620c1ece92</td>\n",
       "      <td>France</td>\n",
       "      <td>FRA</td>\n",
       "      <td>1.408720e+12</td>\n",
       "      <td>5.885122e+07</td>\n",
       "    </tr>\n",
       "    <tr>\n",
       "      <th>90696</th>\n",
       "      <td>M</td>\n",
       "      <td>NaN</td>\n",
       "      <td>NaN</td>\n",
       "      <td>NaN</td>\n",
       "      <td>GBR</td>\n",
       "      <td>1908 Summer</td>\n",
       "      <td>1908</td>\n",
       "      <td>down</td>\n",
       "      <td>London</td>\n",
       "      <td>Archery Men's Double York Round</td>\n",
       "      <td>D+</td>\n",
       "      <td>candidate-64116</td>\n",
       "      <td>Game 31</td>\n",
       "      <td>Archery</td>\n",
       "      <td>2fd4e8aa-cf7a-4fd4-8f25-e444023ad12f</td>\n",
       "      <td>UK</td>\n",
       "      <td>GBR</td>\n",
       "      <td>NaN</td>\n",
       "      <td>NaN</td>\n",
       "    </tr>\n",
       "    <tr>\n",
       "      <th>90697</th>\n",
       "      <td>M</td>\n",
       "      <td>23.0</td>\n",
       "      <td>180.0</td>\n",
       "      <td>86.0</td>\n",
       "      <td>POL</td>\n",
       "      <td>1964 Summer</td>\n",
       "      <td>1964</td>\n",
       "      <td>down</td>\n",
       "      <td>Tokyo</td>\n",
       "      <td>Canoeing Men's Kayak Fours, 1,000 metres</td>\n",
       "      <td>D+</td>\n",
       "      <td>candidate-115837</td>\n",
       "      <td>Game 14</td>\n",
       "      <td>Canoeing</td>\n",
       "      <td>44bbba3f-2ea1-48bd-a531-4aec9d0befa4</td>\n",
       "      <td>Poland</td>\n",
       "      <td>POL</td>\n",
       "      <td>NaN</td>\n",
       "      <td>3.113945e+07</td>\n",
       "    </tr>\n",
       "    <tr>\n",
       "      <th>90698</th>\n",
       "      <td>M</td>\n",
       "      <td>24.0</td>\n",
       "      <td>168.0</td>\n",
       "      <td>68.0</td>\n",
       "      <td>URS</td>\n",
       "      <td>1964 Summer</td>\n",
       "      <td>1964</td>\n",
       "      <td>down</td>\n",
       "      <td>Tokyo</td>\n",
       "      <td>Wrestling Men's Featherweight, Freestyle</td>\n",
       "      <td>C+</td>\n",
       "      <td>candidate-94209</td>\n",
       "      <td>Game 10</td>\n",
       "      <td>Wrestling</td>\n",
       "      <td>dfd469fe-a6f7-477d-8a0f-474b81293c0e</td>\n",
       "      <td>Russia</td>\n",
       "      <td>RUS</td>\n",
       "      <td>NaN</td>\n",
       "      <td>1.253450e+08</td>\n",
       "    </tr>\n",
       "    <tr>\n",
       "      <th>90699</th>\n",
       "      <td>M</td>\n",
       "      <td>22.0</td>\n",
       "      <td>175.0</td>\n",
       "      <td>68.0</td>\n",
       "      <td>PRK</td>\n",
       "      <td>1976 Summer</td>\n",
       "      <td>1976</td>\n",
       "      <td>down</td>\n",
       "      <td>Montreal</td>\n",
       "      <td>Football Men's Football</td>\n",
       "      <td>D+</td>\n",
       "      <td>candidate-70113</td>\n",
       "      <td>Game 11</td>\n",
       "      <td>Football</td>\n",
       "      <td>65217b8f-e54a-4cbe-890d-914770965094</td>\n",
       "      <td>North Korea</td>\n",
       "      <td>PRK</td>\n",
       "      <td>NaN</td>\n",
       "      <td>1.655475e+07</td>\n",
       "    </tr>\n",
       "    <tr>\n",
       "      <th>90700</th>\n",
       "      <td>M</td>\n",
       "      <td>26.0</td>\n",
       "      <td>178.0</td>\n",
       "      <td>72.0</td>\n",
       "      <td>AUT</td>\n",
       "      <td>1992 Winter</td>\n",
       "      <td>1992</td>\n",
       "      <td>Up</td>\n",
       "      <td>Albertville</td>\n",
       "      <td>Cross Country Skiing Men's 50 kilometres</td>\n",
       "      <td>D+</td>\n",
       "      <td>candidate-83434</td>\n",
       "      <td>Game 8</td>\n",
       "      <td>Cross Country Skiing</td>\n",
       "      <td>22217c85-dd2a-47b8-8c9e-38ebffe12f85</td>\n",
       "      <td>Austria</td>\n",
       "      <td>AUT</td>\n",
       "      <td>1.950780e+11</td>\n",
       "      <td>7.840709e+06</td>\n",
       "    </tr>\n",
       "    <tr>\n",
       "      <th>90701</th>\n",
       "      <td>M</td>\n",
       "      <td>23.0</td>\n",
       "      <td>NaN</td>\n",
       "      <td>NaN</td>\n",
       "      <td>GER</td>\n",
       "      <td>1936 Summer</td>\n",
       "      <td>1936</td>\n",
       "      <td>down</td>\n",
       "      <td>Berlin</td>\n",
       "      <td>Handball Men's Handball</td>\n",
       "      <td>A+</td>\n",
       "      <td>candidate-5036</td>\n",
       "      <td>Game 24</td>\n",
       "      <td>Handball</td>\n",
       "      <td>970e956c-5764-4396-a815-4a5f8d1e4576</td>\n",
       "      <td>Germany</td>\n",
       "      <td>DEU</td>\n",
       "      <td>NaN</td>\n",
       "      <td>NaN</td>\n",
       "    </tr>\n",
       "    <tr>\n",
       "      <th>90702</th>\n",
       "      <td>M</td>\n",
       "      <td>NaN</td>\n",
       "      <td>NaN</td>\n",
       "      <td>NaN</td>\n",
       "      <td>GBR</td>\n",
       "      <td>1908 Summer</td>\n",
       "      <td>1908</td>\n",
       "      <td>down</td>\n",
       "      <td>London</td>\n",
       "      <td>Cycling Men's 20 kilometres</td>\n",
       "      <td>D+</td>\n",
       "      <td>candidate-25329</td>\n",
       "      <td>Game 5</td>\n",
       "      <td>Cycling</td>\n",
       "      <td>15291c3c-49cb-45a7-ac5a-476861863349</td>\n",
       "      <td>UK</td>\n",
       "      <td>GBR</td>\n",
       "      <td>NaN</td>\n",
       "      <td>NaN</td>\n",
       "    </tr>\n",
       "    <tr>\n",
       "      <th>90703</th>\n",
       "      <td>M</td>\n",
       "      <td>45.0</td>\n",
       "      <td>172.0</td>\n",
       "      <td>70.0</td>\n",
       "      <td>CAN</td>\n",
       "      <td>2004 Summer</td>\n",
       "      <td>2004</td>\n",
       "      <td>down</td>\n",
       "      <td>Athina</td>\n",
       "      <td>Equestrianism Mixed Three-Day Event, Individual</td>\n",
       "      <td>D+</td>\n",
       "      <td>candidate-50706</td>\n",
       "      <td>Game 13</td>\n",
       "      <td>Equestrianism</td>\n",
       "      <td>31b87044-acd9-4bee-b96c-2a4d29e2a3a6</td>\n",
       "      <td>Canada</td>\n",
       "      <td>CAN</td>\n",
       "      <td>1.023200e+12</td>\n",
       "      <td>3.199500e+07</td>\n",
       "    </tr>\n",
       "    <tr>\n",
       "      <th>90704</th>\n",
       "      <td>M</td>\n",
       "      <td>29.0</td>\n",
       "      <td>NaN</td>\n",
       "      <td>NaN</td>\n",
       "      <td>CHN</td>\n",
       "      <td>1992 Winter</td>\n",
       "      <td>1992</td>\n",
       "      <td>Up</td>\n",
       "      <td>Albertville</td>\n",
       "      <td>Biathlon Men's 10 kilometres Sprint</td>\n",
       "      <td>D+</td>\n",
       "      <td>candidate-115358</td>\n",
       "      <td>Game 19</td>\n",
       "      <td>Biathlon</td>\n",
       "      <td>84d62267-2860-4499-9254-38ea227e731a</td>\n",
       "      <td>China</td>\n",
       "      <td>CHN</td>\n",
       "      <td>4.269160e+11</td>\n",
       "      <td>1.164970e+09</td>\n",
       "    </tr>\n",
       "    <tr>\n",
       "      <th>90705</th>\n",
       "      <td>F</td>\n",
       "      <td>22.0</td>\n",
       "      <td>175.0</td>\n",
       "      <td>67.0</td>\n",
       "      <td>GBR</td>\n",
       "      <td>1992 Summer</td>\n",
       "      <td>1992</td>\n",
       "      <td>down</td>\n",
       "      <td>Barcelona</td>\n",
       "      <td>Swimming Women's 200 metres Butterfly</td>\n",
       "      <td>D+</td>\n",
       "      <td>candidate-47421</td>\n",
       "      <td>Game 3</td>\n",
       "      <td>Swimming</td>\n",
       "      <td>6d1bee08-ba8b-47d2-b81e-8f62caae1de5</td>\n",
       "      <td>UK</td>\n",
       "      <td>GBR</td>\n",
       "      <td>1.179660e+12</td>\n",
       "      <td>5.758040e+07</td>\n",
       "    </tr>\n",
       "    <tr>\n",
       "      <th>90706</th>\n",
       "      <td>F</td>\n",
       "      <td>21.0</td>\n",
       "      <td>166.0</td>\n",
       "      <td>63.0</td>\n",
       "      <td>UKR</td>\n",
       "      <td>2004 Summer</td>\n",
       "      <td>2004</td>\n",
       "      <td>down</td>\n",
       "      <td>Athina</td>\n",
       "      <td>Canoeing Women's Kayak Fours, 500 metres</td>\n",
       "      <td>C+</td>\n",
       "      <td>candidate-52015</td>\n",
       "      <td>Game 14</td>\n",
       "      <td>Canoeing</td>\n",
       "      <td>10c3edda-f60d-4787-b480-75fa5f1962f3</td>\n",
       "      <td>Ukraine</td>\n",
       "      <td>UKR</td>\n",
       "      <td>6.488306e+10</td>\n",
       "      <td>4.745160e+07</td>\n",
       "    </tr>\n",
       "    <tr>\n",
       "      <th>90707</th>\n",
       "      <td>F</td>\n",
       "      <td>34.0</td>\n",
       "      <td>178.0</td>\n",
       "      <td>70.0</td>\n",
       "      <td>USA</td>\n",
       "      <td>1996 Summer</td>\n",
       "      <td>1996</td>\n",
       "      <td>down</td>\n",
       "      <td>Atlanta</td>\n",
       "      <td>Athletics Women's Long Jump</td>\n",
       "      <td>C+</td>\n",
       "      <td>candidate-54104</td>\n",
       "      <td>Game 1</td>\n",
       "      <td>Athletics</td>\n",
       "      <td>e32c68e9-3091-4ca8-bd5d-e2ccba30fc08</td>\n",
       "      <td>USA</td>\n",
       "      <td>USA</td>\n",
       "      <td>8.100200e+12</td>\n",
       "      <td>2.693940e+08</td>\n",
       "    </tr>\n",
       "    <tr>\n",
       "      <th>90708</th>\n",
       "      <td>M</td>\n",
       "      <td>25.0</td>\n",
       "      <td>176.0</td>\n",
       "      <td>76.0</td>\n",
       "      <td>SWE</td>\n",
       "      <td>1980 Winter</td>\n",
       "      <td>1980</td>\n",
       "      <td>Up</td>\n",
       "      <td>Lake Placid</td>\n",
       "      <td>Cross Country Skiing Men's 30 kilometres</td>\n",
       "      <td>D+</td>\n",
       "      <td>candidate-116965</td>\n",
       "      <td>Game 8</td>\n",
       "      <td>Cross Country Skiing</td>\n",
       "      <td>a55e7164-0721-49b6-803b-b4e6f23b52bd</td>\n",
       "      <td>Sweden</td>\n",
       "      <td>SWE</td>\n",
       "      <td>1.400890e+11</td>\n",
       "      <td>8.310531e+06</td>\n",
       "    </tr>\n",
       "    <tr>\n",
       "      <th>90709</th>\n",
       "      <td>M</td>\n",
       "      <td>29.0</td>\n",
       "      <td>176.0</td>\n",
       "      <td>70.0</td>\n",
       "      <td>CHN</td>\n",
       "      <td>1988 Summer</td>\n",
       "      <td>1988</td>\n",
       "      <td>down</td>\n",
       "      <td>Seoul</td>\n",
       "      <td>Fencing Men's Foil, Team</td>\n",
       "      <td>D+</td>\n",
       "      <td>candidate-76238</td>\n",
       "      <td>Game 6</td>\n",
       "      <td>Fencing</td>\n",
       "      <td>fae46a68-15b7-4c6b-b46e-45f0b764f37d</td>\n",
       "      <td>China</td>\n",
       "      <td>CHN</td>\n",
       "      <td>3.123540e+11</td>\n",
       "      <td>1.101630e+09</td>\n",
       "    </tr>\n",
       "    <tr>\n",
       "      <th>90710</th>\n",
       "      <td>M</td>\n",
       "      <td>27.0</td>\n",
       "      <td>200.0</td>\n",
       "      <td>95.0</td>\n",
       "      <td>IRL</td>\n",
       "      <td>2008 Summer</td>\n",
       "      <td>2008</td>\n",
       "      <td>down</td>\n",
       "      <td>Beijing</td>\n",
       "      <td>Swimming Men's 100 metres Breaststroke</td>\n",
       "      <td>D+</td>\n",
       "      <td>candidate-8058</td>\n",
       "      <td>Game 3</td>\n",
       "      <td>Swimming</td>\n",
       "      <td>a661c932-bddc-4487-a2e3-9046da793551</td>\n",
       "      <td>Ireland</td>\n",
       "      <td>IRL</td>\n",
       "      <td>2.750200e+11</td>\n",
       "      <td>4.489544e+06</td>\n",
       "    </tr>\n",
       "    <tr>\n",
       "      <th>90711</th>\n",
       "      <td>M</td>\n",
       "      <td>32.0</td>\n",
       "      <td>178.0</td>\n",
       "      <td>83.0</td>\n",
       "      <td>GBR</td>\n",
       "      <td>2008 Summer</td>\n",
       "      <td>2008</td>\n",
       "      <td>down</td>\n",
       "      <td>Beijing</td>\n",
       "      <td>Archery Men's Individual</td>\n",
       "      <td>D+</td>\n",
       "      <td>candidate-73439</td>\n",
       "      <td>Game 31</td>\n",
       "      <td>Archery</td>\n",
       "      <td>2ca47c40-a439-47d4-8d71-a8806b26f2e8</td>\n",
       "      <td>UK</td>\n",
       "      <td>GBR</td>\n",
       "      <td>2.890560e+12</td>\n",
       "      <td>6.180700e+07</td>\n",
       "    </tr>\n",
       "    <tr>\n",
       "      <th>90712</th>\n",
       "      <td>M</td>\n",
       "      <td>21.0</td>\n",
       "      <td>190.0</td>\n",
       "      <td>73.0</td>\n",
       "      <td>ESP</td>\n",
       "      <td>1988 Summer</td>\n",
       "      <td>1988</td>\n",
       "      <td>down</td>\n",
       "      <td>Seoul</td>\n",
       "      <td>Athletics Men's High Jump</td>\n",
       "      <td>D+</td>\n",
       "      <td>candidate-12261</td>\n",
       "      <td>Game 1</td>\n",
       "      <td>Athletics</td>\n",
       "      <td>6d9d7ec3-3015-4302-9749-a5dda074d34f</td>\n",
       "      <td>Spain</td>\n",
       "      <td>ESP</td>\n",
       "      <td>3.751390e+11</td>\n",
       "      <td>3.876694e+07</td>\n",
       "    </tr>\n",
       "    <tr>\n",
       "      <th>90713</th>\n",
       "      <td>M</td>\n",
       "      <td>25.0</td>\n",
       "      <td>NaN</td>\n",
       "      <td>NaN</td>\n",
       "      <td>URS</td>\n",
       "      <td>1956 Summer</td>\n",
       "      <td>1956</td>\n",
       "      <td>down</td>\n",
       "      <td>Melbourne</td>\n",
       "      <td>Athletics Men's 50 kilometres Walk</td>\n",
       "      <td>B+</td>\n",
       "      <td>candidate-130975</td>\n",
       "      <td>Game 1</td>\n",
       "      <td>Athletics</td>\n",
       "      <td>00580895-15cc-440b-9ee9-283324b33aa7</td>\n",
       "      <td>Russia</td>\n",
       "      <td>RUS</td>\n",
       "      <td>NaN</td>\n",
       "      <td>NaN</td>\n",
       "    </tr>\n",
       "    <tr>\n",
       "      <th>90714</th>\n",
       "      <td>M</td>\n",
       "      <td>30.0</td>\n",
       "      <td>185.0</td>\n",
       "      <td>76.0</td>\n",
       "      <td>DEN</td>\n",
       "      <td>2012 Summer</td>\n",
       "      <td>2012</td>\n",
       "      <td>down</td>\n",
       "      <td>London</td>\n",
       "      <td>Table Tennis Men's Singles</td>\n",
       "      <td>D+</td>\n",
       "      <td>candidate-86866</td>\n",
       "      <td>Game 33</td>\n",
       "      <td>Table Tennis</td>\n",
       "      <td>b532e40e-ca80-4734-97cd-80b322e73026</td>\n",
       "      <td>Denmark</td>\n",
       "      <td>DNK</td>\n",
       "      <td>3.271490e+11</td>\n",
       "      <td>5.591572e+06</td>\n",
       "    </tr>\n",
       "    <tr>\n",
       "      <th>90715</th>\n",
       "      <td>M</td>\n",
       "      <td>26.0</td>\n",
       "      <td>NaN</td>\n",
       "      <td>NaN</td>\n",
       "      <td>CAN</td>\n",
       "      <td>1908 Summer</td>\n",
       "      <td>1908</td>\n",
       "      <td>down</td>\n",
       "      <td>London</td>\n",
       "      <td>Swimming Men's 100 metres Freestyle</td>\n",
       "      <td>D+</td>\n",
       "      <td>candidate-106971</td>\n",
       "      <td>Game 3</td>\n",
       "      <td>Swimming</td>\n",
       "      <td>f31cd0ac-1c7a-4a84-87b9-68cdf7818c26</td>\n",
       "      <td>Canada</td>\n",
       "      <td>CAN</td>\n",
       "      <td>NaN</td>\n",
       "      <td>NaN</td>\n",
       "    </tr>\n",
       "    <tr>\n",
       "      <th>90716</th>\n",
       "      <td>F</td>\n",
       "      <td>32.0</td>\n",
       "      <td>165.0</td>\n",
       "      <td>55.0</td>\n",
       "      <td>HUN</td>\n",
       "      <td>1968 Summer</td>\n",
       "      <td>1968</td>\n",
       "      <td>down</td>\n",
       "      <td>Mexico City</td>\n",
       "      <td>Fencing Women's Foil, Team</td>\n",
       "      <td>B+</td>\n",
       "      <td>candidate-73717</td>\n",
       "      <td>Game 6</td>\n",
       "      <td>Fencing</td>\n",
       "      <td>6602a496-3d28-4368-96ab-e50b676562d7</td>\n",
       "      <td>Hungary</td>\n",
       "      <td>HUN</td>\n",
       "      <td>NaN</td>\n",
       "      <td>1.025582e+07</td>\n",
       "    </tr>\n",
       "    <tr>\n",
       "      <th>90717</th>\n",
       "      <td>M</td>\n",
       "      <td>23.0</td>\n",
       "      <td>177.0</td>\n",
       "      <td>75.0</td>\n",
       "      <td>AUT</td>\n",
       "      <td>2006 Winter</td>\n",
       "      <td>2006</td>\n",
       "      <td>Up</td>\n",
       "      <td>Torino</td>\n",
       "      <td>Luge Mixed (Men)'s Doubles</td>\n",
       "      <td>A+</td>\n",
       "      <td>candidate-129559</td>\n",
       "      <td>Game 36</td>\n",
       "      <td>Luge</td>\n",
       "      <td>a71de0ec-9aa5-4fdd-b341-6f5702d9ff97</td>\n",
       "      <td>Austria</td>\n",
       "      <td>AUT</td>\n",
       "      <td>3.359990e+11</td>\n",
       "      <td>8.268641e+06</td>\n",
       "    </tr>\n",
       "    <tr>\n",
       "      <th>90718</th>\n",
       "      <td>M</td>\n",
       "      <td>21.0</td>\n",
       "      <td>183.0</td>\n",
       "      <td>79.0</td>\n",
       "      <td>USA</td>\n",
       "      <td>1912 Summer</td>\n",
       "      <td>1912</td>\n",
       "      <td>down</td>\n",
       "      <td>Stockholm</td>\n",
       "      <td>Athletics Men's 110 metres Hurdles</td>\n",
       "      <td>B+</td>\n",
       "      <td>candidate-54978</td>\n",
       "      <td>Game 1</td>\n",
       "      <td>Athletics</td>\n",
       "      <td>af8f3520-ba6d-40c9-895a-805c26b6df2c</td>\n",
       "      <td>USA</td>\n",
       "      <td>USA</td>\n",
       "      <td>NaN</td>\n",
       "      <td>NaN</td>\n",
       "    </tr>\n",
       "    <tr>\n",
       "      <th>90719</th>\n",
       "      <td>M</td>\n",
       "      <td>22.0</td>\n",
       "      <td>186.0</td>\n",
       "      <td>72.0</td>\n",
       "      <td>FRA</td>\n",
       "      <td>1988 Summer</td>\n",
       "      <td>1988</td>\n",
       "      <td>down</td>\n",
       "      <td>Seoul</td>\n",
       "      <td>Cycling Men's Team Pursuit, 4,000 metres</td>\n",
       "      <td>D+</td>\n",
       "      <td>candidate-97682</td>\n",
       "      <td>Game 5</td>\n",
       "      <td>Cycling</td>\n",
       "      <td>f88edc65-5af3-4d44-a230-e8278ea230c4</td>\n",
       "      <td>France</td>\n",
       "      <td>FRA</td>\n",
       "      <td>1.023500e+12</td>\n",
       "      <td>5.783649e+07</td>\n",
       "    </tr>\n",
       "    <tr>\n",
       "      <th>90720</th>\n",
       "      <td>F</td>\n",
       "      <td>24.0</td>\n",
       "      <td>172.0</td>\n",
       "      <td>71.0</td>\n",
       "      <td>CAN</td>\n",
       "      <td>2012 Summer</td>\n",
       "      <td>2012</td>\n",
       "      <td>down</td>\n",
       "      <td>London</td>\n",
       "      <td>Football Women's Football</td>\n",
       "      <td>C+</td>\n",
       "      <td>candidate-115476</td>\n",
       "      <td>Game 11</td>\n",
       "      <td>Football</td>\n",
       "      <td>96fac3f6-9906-4d31-b5a6-32ff543354cc</td>\n",
       "      <td>Canada</td>\n",
       "      <td>CAN</td>\n",
       "      <td>1.824290e+12</td>\n",
       "      <td>3.475054e+07</td>\n",
       "    </tr>\n",
       "    <tr>\n",
       "      <th>90721</th>\n",
       "      <td>F</td>\n",
       "      <td>16.0</td>\n",
       "      <td>153.0</td>\n",
       "      <td>44.0</td>\n",
       "      <td>USA</td>\n",
       "      <td>1972 Winter</td>\n",
       "      <td>1972</td>\n",
       "      <td>Up</td>\n",
       "      <td>Sapporo</td>\n",
       "      <td>Figure Skating Mixed Pairs</td>\n",
       "      <td>D+</td>\n",
       "      <td>candidate-86144</td>\n",
       "      <td>Game 32</td>\n",
       "      <td>Figure Skating</td>\n",
       "      <td>da199fc0-8302-48a2-8272-32a00914e052</td>\n",
       "      <td>USA</td>\n",
       "      <td>USA</td>\n",
       "      <td>1.282450e+12</td>\n",
       "      <td>2.098960e+08</td>\n",
       "    </tr>\n",
       "    <tr>\n",
       "      <th>90722</th>\n",
       "      <td>F</td>\n",
       "      <td>18.0</td>\n",
       "      <td>170.0</td>\n",
       "      <td>54.0</td>\n",
       "      <td>KGZ</td>\n",
       "      <td>2000 Summer</td>\n",
       "      <td>2000</td>\n",
       "      <td>down</td>\n",
       "      <td>Sydney</td>\n",
       "      <td>Swimming Women's 200 metres Freestyle</td>\n",
       "      <td>D+</td>\n",
       "      <td>candidate-9379</td>\n",
       "      <td>Game 3</td>\n",
       "      <td>Swimming</td>\n",
       "      <td>9c85e1e3-d28b-448e-a477-9e0285aef561</td>\n",
       "      <td>Kyrgyzstan</td>\n",
       "      <td>KGZ</td>\n",
       "      <td>1.369693e+09</td>\n",
       "      <td>4.898400e+06</td>\n",
       "    </tr>\n",
       "    <tr>\n",
       "      <th>90723</th>\n",
       "      <td>F</td>\n",
       "      <td>23.0</td>\n",
       "      <td>173.0</td>\n",
       "      <td>68.0</td>\n",
       "      <td>GER</td>\n",
       "      <td>2008 Summer</td>\n",
       "      <td>2008</td>\n",
       "      <td>down</td>\n",
       "      <td>Beijing</td>\n",
       "      <td>Rowing Women's Double Sculls</td>\n",
       "      <td>B+</td>\n",
       "      <td>candidate-9797</td>\n",
       "      <td>Game 7</td>\n",
       "      <td>Rowing</td>\n",
       "      <td>d3bd52a1-044d-4902-be2d-7a666fa7eb27</td>\n",
       "      <td>Germany</td>\n",
       "      <td>DEU</td>\n",
       "      <td>3.752370e+12</td>\n",
       "      <td>8.211010e+07</td>\n",
       "    </tr>\n",
       "    <tr>\n",
       "      <th>90724</th>\n",
       "      <td>M</td>\n",
       "      <td>21.0</td>\n",
       "      <td>168.0</td>\n",
       "      <td>87.0</td>\n",
       "      <td>LTU</td>\n",
       "      <td>2016 Summer</td>\n",
       "      <td>2016</td>\n",
       "      <td>down</td>\n",
       "      <td>Rio de Janeiro</td>\n",
       "      <td>Gymnastics Men's Individual All-Around</td>\n",
       "      <td>D+</td>\n",
       "      <td>candidate-107157</td>\n",
       "      <td>Game 2</td>\n",
       "      <td>Gymnastics</td>\n",
       "      <td>f3ebfefc-1df2-45c8-9bfd-aacf64014f95</td>\n",
       "      <td>Lithuania</td>\n",
       "      <td>LTU</td>\n",
       "      <td>4.273888e+10</td>\n",
       "      <td>2.872298e+06</td>\n",
       "    </tr>\n",
       "  </tbody>\n",
       "</table>\n",
       "<p>90725 rows × 19 columns</p>\n",
       "</div>"
      ],
      "text/plain": [
       "      Sex   Age  Height  Weight Federation        Event  Year Season  \\\n",
       "0       M  31.0   188.0   138.0        BUL  2016 Summer  2016   down   \n",
       "1       F  28.0   166.0    62.0        TPE  1996 Summer  1996   down   \n",
       "2       M  30.0     NaN     NaN        SWE  1960 Summer  1960   down   \n",
       "3       F  28.0   181.0    80.0        CHN  2004 Summer  2004   down   \n",
       "4       F  16.0   175.0    54.0        HUN  1996 Summer  1996   down   \n",
       "5       M  41.0     NaN     NaN        SWE  1948 Summer  1948   down   \n",
       "6       M  19.0     NaN     NaN        GER  1900 Summer  1900   down   \n",
       "7       F  21.0   183.0    69.0        GER  2012 Summer  2012   down   \n",
       "8       M  33.0     NaN     NaN        FRA  1900 Summer  1900   down   \n",
       "9       M  21.0   174.0    57.0        GER  2010 Winter  2010     Up   \n",
       "10      M  18.0   184.0    74.0        USA  1956 Summer  1956   down   \n",
       "11      M  27.0   175.0    72.0        NOR  1980 Winter  1980     Up   \n",
       "12      M  21.0   167.0    67.0        GDR  1980 Summer  1980   down   \n",
       "13      M  19.0   186.0    78.0        GER  2008 Summer  2008   down   \n",
       "14      M  21.0     NaN     NaN        KOR  1996 Summer  1996   down   \n",
       "15      M  17.0     NaN     NaN        GBR  1976 Summer  1976   down   \n",
       "16      M  32.0   172.0    67.0        OMA  1996 Summer  1996   down   \n",
       "17      M  31.0   175.0    80.0        CZE  2014 Winter  2014     Up   \n",
       "18      F  34.0   167.0    62.0        ITA  2004 Summer  2004   down   \n",
       "19      M   NaN     NaN     NaN        PER  1948 Summer  1948   down   \n",
       "20      M  22.0     NaN     NaN        FRA  1924 Summer  1924   down   \n",
       "21      F  19.0   143.0    47.0        USA  2016 Summer  2016   down   \n",
       "22      M  27.0   162.0    70.0        SUI  1972 Winter  1972     Up   \n",
       "23      F  27.0   173.0    63.0        UKR  2016 Summer  2016   down   \n",
       "24      M  30.0   178.0    68.0        ITA  1960 Summer  1960   down   \n",
       "25      F  30.0   188.0    78.0        CAN  1984 Summer  1984   down   \n",
       "26      F  25.0   172.0    59.0        BUL  1980 Summer  1980   down   \n",
       "27      F  24.0   168.0    58.0        CHN  2016 Summer  2016   down   \n",
       "28      F  24.0   160.0    57.0        FRA  1988 Winter  1988     Up   \n",
       "29      M  31.0   184.0    80.0        RUS  2000 Summer  2000   down   \n",
       "...    ..   ...     ...     ...        ...          ...   ...    ...   \n",
       "90695   M  30.0   176.0    72.0        FRA  1992 Winter  1992     Up   \n",
       "90696   M   NaN     NaN     NaN        GBR  1908 Summer  1908   down   \n",
       "90697   M  23.0   180.0    86.0        POL  1964 Summer  1964   down   \n",
       "90698   M  24.0   168.0    68.0        URS  1964 Summer  1964   down   \n",
       "90699   M  22.0   175.0    68.0        PRK  1976 Summer  1976   down   \n",
       "90700   M  26.0   178.0    72.0        AUT  1992 Winter  1992     Up   \n",
       "90701   M  23.0     NaN     NaN        GER  1936 Summer  1936   down   \n",
       "90702   M   NaN     NaN     NaN        GBR  1908 Summer  1908   down   \n",
       "90703   M  45.0   172.0    70.0        CAN  2004 Summer  2004   down   \n",
       "90704   M  29.0     NaN     NaN        CHN  1992 Winter  1992     Up   \n",
       "90705   F  22.0   175.0    67.0        GBR  1992 Summer  1992   down   \n",
       "90706   F  21.0   166.0    63.0        UKR  2004 Summer  2004   down   \n",
       "90707   F  34.0   178.0    70.0        USA  1996 Summer  1996   down   \n",
       "90708   M  25.0   176.0    76.0        SWE  1980 Winter  1980     Up   \n",
       "90709   M  29.0   176.0    70.0        CHN  1988 Summer  1988   down   \n",
       "90710   M  27.0   200.0    95.0        IRL  2008 Summer  2008   down   \n",
       "90711   M  32.0   178.0    83.0        GBR  2008 Summer  2008   down   \n",
       "90712   M  21.0   190.0    73.0        ESP  1988 Summer  1988   down   \n",
       "90713   M  25.0     NaN     NaN        URS  1956 Summer  1956   down   \n",
       "90714   M  30.0   185.0    76.0        DEN  2012 Summer  2012   down   \n",
       "90715   M  26.0     NaN     NaN        CAN  1908 Summer  1908   down   \n",
       "90716   F  32.0   165.0    55.0        HUN  1968 Summer  1968   down   \n",
       "90717   M  23.0   177.0    75.0        AUT  2006 Winter  2006     Up   \n",
       "90718   M  21.0   183.0    79.0        USA  1912 Summer  1912   down   \n",
       "90719   M  22.0   186.0    72.0        FRA  1988 Summer  1988   down   \n",
       "90720   F  24.0   172.0    71.0        CAN  2012 Summer  2012   down   \n",
       "90721   F  16.0   153.0    44.0        USA  1972 Winter  1972     Up   \n",
       "90722   F  18.0   170.0    54.0        KGZ  2000 Summer  2000   down   \n",
       "90723   F  23.0   173.0    68.0        GER  2008 Summer  2008   down   \n",
       "90724   M  21.0   168.0    87.0        LTU  2016 Summer  2016   down   \n",
       "\n",
       "                 City                                          Sub Event  \\\n",
       "0      Rio de Janeiro                           Athletics Men's Shot Put   \n",
       "1             Atlanta                       Table Tennis Women's Singles   \n",
       "2                Roma                           Rowing Men's Coxed Fours   \n",
       "3              Athina                          Handball Women's Handball   \n",
       "4             Atlanta       Swimming Women's 4 x 100 metres Medley Relay   \n",
       "5              London                           Fencing Men's epee, Team   \n",
       "6               Paris                        Water Polo Men's Water Polo   \n",
       "7              London                        Rowing Women's Coxed Eights   \n",
       "8               Paris  Fencing Men's epee, Masters and Amateurs, Indi...   \n",
       "9           Vancouver                         Nordic Combined Men's Team   \n",
       "10          Melbourne               Swimming Men's 100 metres Backstroke   \n",
       "11        Lake Placid                        Ice Hockey Men's Ice Hockey   \n",
       "12             Moskva             Gymnastics Men's Individual All-Around   \n",
       "13            Beijing                            Table Tennis Men's Team   \n",
       "14            Atlanta                       Gymnastics Men's Horse Vault   \n",
       "15           Montreal              Swimming Men's 1,500 metres Freestyle   \n",
       "16            Atlanta                Shooting Men's Air Rifle, 10 metres   \n",
       "17              Sochi                       Alpine Skiing Men's Downhill   \n",
       "18             Athina              Shooting Women's Air Rifle, 10 metres   \n",
       "19             London                       Athletics Men's 1,500 metres   \n",
       "20              Paris                         Athletics Men's 400 metres   \n",
       "21     Rio de Janeiro                 Gymnastics Women's Team All-Around   \n",
       "22            Sapporo           Ski Jumping Men's Large Hill, Individual   \n",
       "23     Rio de Janeiro               Athletics Women's 400 metres Hurdles   \n",
       "24               Roma                 Athletics Men's 20 kilometres Walk   \n",
       "25        Los Angeles                      Volleyball Women's Volleyball   \n",
       "26             Moskva                     Athletics Women's 1,500 metres   \n",
       "27     Rio de Janeiro               Modern Pentathlon Women's Individual   \n",
       "28            Calgary                     Alpine Skiing Women's Combined   \n",
       "29             Sydney                                Shooting Men's Trap   \n",
       "...               ...                                                ...   \n",
       "90695     Albertville                        Ice Hockey Men's Ice Hockey   \n",
       "90696          London                    Archery Men's Double York Round   \n",
       "90697           Tokyo           Canoeing Men's Kayak Fours, 1,000 metres   \n",
       "90698           Tokyo           Wrestling Men's Featherweight, Freestyle   \n",
       "90699        Montreal                            Football Men's Football   \n",
       "90700     Albertville           Cross Country Skiing Men's 50 kilometres   \n",
       "90701          Berlin                            Handball Men's Handball   \n",
       "90702          London                        Cycling Men's 20 kilometres   \n",
       "90703          Athina    Equestrianism Mixed Three-Day Event, Individual   \n",
       "90704     Albertville                Biathlon Men's 10 kilometres Sprint   \n",
       "90705       Barcelona              Swimming Women's 200 metres Butterfly   \n",
       "90706          Athina           Canoeing Women's Kayak Fours, 500 metres   \n",
       "90707         Atlanta                        Athletics Women's Long Jump   \n",
       "90708     Lake Placid           Cross Country Skiing Men's 30 kilometres   \n",
       "90709           Seoul                           Fencing Men's Foil, Team   \n",
       "90710         Beijing             Swimming Men's 100 metres Breaststroke   \n",
       "90711         Beijing                           Archery Men's Individual   \n",
       "90712           Seoul                          Athletics Men's High Jump   \n",
       "90713       Melbourne                 Athletics Men's 50 kilometres Walk   \n",
       "90714          London                         Table Tennis Men's Singles   \n",
       "90715          London                Swimming Men's 100 metres Freestyle   \n",
       "90716     Mexico City                         Fencing Women's Foil, Team   \n",
       "90717          Torino                         Luge Mixed (Men)'s Doubles   \n",
       "90718       Stockholm                 Athletics Men's 110 metres Hurdles   \n",
       "90719           Seoul           Cycling Men's Team Pursuit, 4,000 metres   \n",
       "90720          London                          Football Women's Football   \n",
       "90721         Sapporo                         Figure Skating Mixed Pairs   \n",
       "90722          Sydney              Swimming Women's 200 metres Freestyle   \n",
       "90723         Beijing                       Rowing Women's Double Sculls   \n",
       "90724  Rio de Janeiro             Gymnastics Men's Individual All-Around   \n",
       "\n",
       "      Grade                Id   GameID                  Game  \\\n",
       "0        D+   candidate-40730   Game 1             Athletics   \n",
       "1        D+  candidate-129936  Game 33          Table Tennis   \n",
       "2        D+  candidate-109667   Game 7                Rowing   \n",
       "3        D+  candidate-131637  Game 24              Handball   \n",
       "4        D+   candidate-29360   Game 3              Swimming   \n",
       "5        C+   candidate-37265   Game 6               Fencing   \n",
       "6        D+   candidate-48666  Game 22            Water Polo   \n",
       "7        D+   candidate-68163   Game 7                Rowing   \n",
       "8        D+   candidate-41837   Game 6               Fencing   \n",
       "9        C+   candidate-32501  Game 38       Nordic Combined   \n",
       "10       C+   candidate-37129   Game 3              Swimming   \n",
       "11       D+   candidate-90321  Game 17            Ice Hockey   \n",
       "12       D+   candidate-78430   Game 2            Gymnastics   \n",
       "13       B+   candidate-27298  Game 33          Table Tennis   \n",
       "14       D+   candidate-69882   Game 2            Gymnastics   \n",
       "15       D+   candidate-25450   Game 3              Swimming   \n",
       "16       D+   candidate-69585   Game 4              Shooting   \n",
       "17       D+   candidate-83986   Game 9         Alpine Skiing   \n",
       "18       D+  candidate-123770   Game 4              Shooting   \n",
       "19       D+   candidate-10046   Game 1             Athletics   \n",
       "20       D+  candidate-104031   Game 1             Athletics   \n",
       "21       A+  candidate-114679   Game 2            Gymnastics   \n",
       "22       D+   candidate-63643  Game 30           Ski Jumping   \n",
       "23       D+   candidate-45294   Game 1             Athletics   \n",
       "24       D+  candidate-116334   Game 1             Athletics   \n",
       "25       D+   candidate-12852  Game 26            Volleyball   \n",
       "26       D+   candidate-93760   Game 1             Athletics   \n",
       "27       D+  candidate-133050  Game 34     Modern Pentathlon   \n",
       "28       D+   candidate-18736   Game 9         Alpine Skiing   \n",
       "29       D+  candidate-112635   Game 4              Shooting   \n",
       "...     ...               ...      ...                   ...   \n",
       "90695    D+  candidate-117065  Game 17            Ice Hockey   \n",
       "90696    D+   candidate-64116  Game 31               Archery   \n",
       "90697    D+  candidate-115837  Game 14              Canoeing   \n",
       "90698    C+   candidate-94209  Game 10             Wrestling   \n",
       "90699    D+   candidate-70113  Game 11              Football   \n",
       "90700    D+   candidate-83434   Game 8  Cross Country Skiing   \n",
       "90701    A+    candidate-5036  Game 24              Handball   \n",
       "90702    D+   candidate-25329   Game 5               Cycling   \n",
       "90703    D+   candidate-50706  Game 13         Equestrianism   \n",
       "90704    D+  candidate-115358  Game 19              Biathlon   \n",
       "90705    D+   candidate-47421   Game 3              Swimming   \n",
       "90706    C+   candidate-52015  Game 14              Canoeing   \n",
       "90707    C+   candidate-54104   Game 1             Athletics   \n",
       "90708    D+  candidate-116965   Game 8  Cross Country Skiing   \n",
       "90709    D+   candidate-76238   Game 6               Fencing   \n",
       "90710    D+    candidate-8058   Game 3              Swimming   \n",
       "90711    D+   candidate-73439  Game 31               Archery   \n",
       "90712    D+   candidate-12261   Game 1             Athletics   \n",
       "90713    B+  candidate-130975   Game 1             Athletics   \n",
       "90714    D+   candidate-86866  Game 33          Table Tennis   \n",
       "90715    D+  candidate-106971   Game 3              Swimming   \n",
       "90716    B+   candidate-73717   Game 6               Fencing   \n",
       "90717    A+  candidate-129559  Game 36                  Luge   \n",
       "90718    B+   candidate-54978   Game 1             Athletics   \n",
       "90719    D+   candidate-97682   Game 5               Cycling   \n",
       "90720    C+  candidate-115476  Game 11              Football   \n",
       "90721    D+   candidate-86144  Game 32        Figure Skating   \n",
       "90722    D+    candidate-9379   Game 3              Swimming   \n",
       "90723    B+    candidate-9797   Game 7                Rowing   \n",
       "90724    D+  candidate-107157   Game 2            Gymnastics   \n",
       "\n",
       "                                  Record_Id            Team Country Code  \\\n",
       "0      5da57331-62fe-418b-abfd-ca6ab0731709        Bulgaria          BGR   \n",
       "1      0ae393f7-5e07-4b7c-b0cd-83edf259a069          Taiwan          NaN   \n",
       "2      3fec3204-ca6d-476f-ab89-e1189bc0eb35          Sweden          SWE   \n",
       "3      96cd09eb-b394-4c7d-8f7d-b3a0dc8cd870           China          CHN   \n",
       "4      bc158ecb-2fc5-4ffa-abd3-1075f4196044         Hungary          HUN   \n",
       "5      8daeb6f5-bda4-4af9-925a-f3ad3f761352          Sweden          SWE   \n",
       "6      0e2ca9d3-ba39-4205-b4ab-11fa3de643d1         Germany          DEU   \n",
       "7      b3966071-9051-49cf-88ab-ef8705e43f6f         Germany          DEU   \n",
       "8      cbe726dc-8d26-4e49-82a5-8ecdbe45c7ff          France          FRA   \n",
       "9      a0e57be0-22bd-49d2-a25c-032d278e14d2         Germany          DEU   \n",
       "10     0b81c443-1d74-4024-9ad2-d74da68ad705             USA          USA   \n",
       "11     b878894b-426c-42f1-a7f9-3742d034e9fa          Norway          NOR   \n",
       "12     b2207b51-d1fc-4ae5-949c-cd6adac6214d         Germany          DEU   \n",
       "13     e900c123-aad8-4854-9b0a-a1990167e7b0         Germany          DEU   \n",
       "14     4b09a073-c3ab-4766-82d7-8630d60729d2     South Korea          KOR   \n",
       "15     e3df481c-6f38-47c9-af85-60f0c7c68bcc              UK          GBR   \n",
       "16     2826671d-dfaf-4c34-abff-35ed4efd512a            Oman          OMN   \n",
       "17     ce7712f4-6bf7-4df7-8d93-863919913784  Czech Republic          CZE   \n",
       "18     e7adcd37-e49b-42da-9ee9-69fd79d51fd5           Italy          ITA   \n",
       "19     8f6a4450-081f-4c92-a048-611e3fb4c548            Peru          PER   \n",
       "20     cfb3ae2d-6e63-4324-b908-ceac8bb65ca3          France          FRA   \n",
       "21     7fa2f670-d63a-4fdb-a551-e2a64f32fedd             USA          USA   \n",
       "22     d2960c80-5266-414e-bf0e-d603c26c6a49     Switzerland          CHE   \n",
       "23     9eff70df-f6be-42f1-a1af-b3e88e3a5a83         Ukraine          UKR   \n",
       "24     d975d28f-2f4d-487d-b2ff-cef010636394           Italy          ITA   \n",
       "25     8a493751-fb80-4eb3-a684-c168f82c5738          Canada          CAN   \n",
       "26     a5f66b4e-9be9-4530-be55-246b9ca72963        Bulgaria          BGR   \n",
       "27     6c7c90bb-3d00-4851-915a-9b3c38191700           China          CHN   \n",
       "28     a3d4bfb8-d1e9-4f27-95ea-cea93b0525ff          France          FRA   \n",
       "29     277920d0-5054-4eeb-a38a-04f8d37c5dc0          Russia          RUS   \n",
       "...                                     ...             ...          ...   \n",
       "90695  b57c6bd6-8402-4847-9e17-d2620c1ece92          France          FRA   \n",
       "90696  2fd4e8aa-cf7a-4fd4-8f25-e444023ad12f              UK          GBR   \n",
       "90697  44bbba3f-2ea1-48bd-a531-4aec9d0befa4          Poland          POL   \n",
       "90698  dfd469fe-a6f7-477d-8a0f-474b81293c0e          Russia          RUS   \n",
       "90699  65217b8f-e54a-4cbe-890d-914770965094     North Korea          PRK   \n",
       "90700  22217c85-dd2a-47b8-8c9e-38ebffe12f85         Austria          AUT   \n",
       "90701  970e956c-5764-4396-a815-4a5f8d1e4576         Germany          DEU   \n",
       "90702  15291c3c-49cb-45a7-ac5a-476861863349              UK          GBR   \n",
       "90703  31b87044-acd9-4bee-b96c-2a4d29e2a3a6          Canada          CAN   \n",
       "90704  84d62267-2860-4499-9254-38ea227e731a           China          CHN   \n",
       "90705  6d1bee08-ba8b-47d2-b81e-8f62caae1de5              UK          GBR   \n",
       "90706  10c3edda-f60d-4787-b480-75fa5f1962f3         Ukraine          UKR   \n",
       "90707  e32c68e9-3091-4ca8-bd5d-e2ccba30fc08             USA          USA   \n",
       "90708  a55e7164-0721-49b6-803b-b4e6f23b52bd          Sweden          SWE   \n",
       "90709  fae46a68-15b7-4c6b-b46e-45f0b764f37d           China          CHN   \n",
       "90710  a661c932-bddc-4487-a2e3-9046da793551         Ireland          IRL   \n",
       "90711  2ca47c40-a439-47d4-8d71-a8806b26f2e8              UK          GBR   \n",
       "90712  6d9d7ec3-3015-4302-9749-a5dda074d34f           Spain          ESP   \n",
       "90713  00580895-15cc-440b-9ee9-283324b33aa7          Russia          RUS   \n",
       "90714  b532e40e-ca80-4734-97cd-80b322e73026         Denmark          DNK   \n",
       "90715  f31cd0ac-1c7a-4a84-87b9-68cdf7818c26          Canada          CAN   \n",
       "90716  6602a496-3d28-4368-96ab-e50b676562d7         Hungary          HUN   \n",
       "90717  a71de0ec-9aa5-4fdd-b341-6f5702d9ff97         Austria          AUT   \n",
       "90718  af8f3520-ba6d-40c9-895a-805c26b6df2c             USA          USA   \n",
       "90719  f88edc65-5af3-4d44-a230-e8278ea230c4          France          FRA   \n",
       "90720  96fac3f6-9906-4d31-b5a6-32ff543354cc          Canada          CAN   \n",
       "90721  da199fc0-8302-48a2-8272-32a00914e052             USA          USA   \n",
       "90722  9c85e1e3-d28b-448e-a477-9e0285aef561      Kyrgyzstan          KGZ   \n",
       "90723  d3bd52a1-044d-4902-be2d-7a666fa7eb27         Germany          DEU   \n",
       "90724  f3ebfefc-1df2-45c8-9bfd-aacf64014f95       Lithuania          LTU   \n",
       "\n",
       "                GDP    Population  \n",
       "0      5.323788e+10  7.127822e+06  \n",
       "1               NaN           NaN  \n",
       "2      1.484287e+10  7.484656e+06  \n",
       "3      1.955350e+12  1.296075e+09  \n",
       "4      4.665980e+10  1.031124e+07  \n",
       "5               NaN           NaN  \n",
       "6               NaN           NaN  \n",
       "7      3.543980e+12  8.042582e+07  \n",
       "8               NaN           NaN  \n",
       "9      3.417090e+12  8.177693e+07  \n",
       "10              NaN           NaN  \n",
       "11     6.443938e+10  4.085620e+06  \n",
       "12     9.466950e+11  7.828858e+07  \n",
       "13     3.752370e+12  8.211010e+07  \n",
       "14     5.980990e+11  4.552468e+07  \n",
       "15     2.326150e+11  5.621197e+07  \n",
       "16     1.527776e+10  2.236666e+06  \n",
       "17     2.078180e+11  1.052535e+07  \n",
       "18     1.798310e+12  5.768533e+07  \n",
       "19              NaN           NaN  \n",
       "20              NaN           NaN  \n",
       "21     1.862450e+13  3.231275e+08  \n",
       "22              NaN  6.260956e+06  \n",
       "23     9.327048e+10  4.500464e+07  \n",
       "24     4.038529e+10  5.019970e+07  \n",
       "25     3.553730e+11  2.570200e+07  \n",
       "26     1.983923e+10  8.861535e+06  \n",
       "27     1.119910e+13  1.378665e+09  \n",
       "28     1.023500e+12  5.783649e+07  \n",
       "29     2.597080e+11  1.465966e+08  \n",
       "...             ...           ...  \n",
       "90695  1.408720e+12  5.885122e+07  \n",
       "90696           NaN           NaN  \n",
       "90697           NaN  3.113945e+07  \n",
       "90698           NaN  1.253450e+08  \n",
       "90699           NaN  1.655475e+07  \n",
       "90700  1.950780e+11  7.840709e+06  \n",
       "90701           NaN           NaN  \n",
       "90702           NaN           NaN  \n",
       "90703  1.023200e+12  3.199500e+07  \n",
       "90704  4.269160e+11  1.164970e+09  \n",
       "90705  1.179660e+12  5.758040e+07  \n",
       "90706  6.488306e+10  4.745160e+07  \n",
       "90707  8.100200e+12  2.693940e+08  \n",
       "90708  1.400890e+11  8.310531e+06  \n",
       "90709  3.123540e+11  1.101630e+09  \n",
       "90710  2.750200e+11  4.489544e+06  \n",
       "90711  2.890560e+12  6.180700e+07  \n",
       "90712  3.751390e+11  3.876694e+07  \n",
       "90713           NaN           NaN  \n",
       "90714  3.271490e+11  5.591572e+06  \n",
       "90715           NaN           NaN  \n",
       "90716           NaN  1.025582e+07  \n",
       "90717  3.359990e+11  8.268641e+06  \n",
       "90718           NaN           NaN  \n",
       "90719  1.023500e+12  5.783649e+07  \n",
       "90720  1.824290e+12  3.475054e+07  \n",
       "90721  1.282450e+12  2.098960e+08  \n",
       "90722  1.369693e+09  4.898400e+06  \n",
       "90723  3.752370e+12  8.211010e+07  \n",
       "90724  4.273888e+10  2.872298e+06  \n",
       "\n",
       "[90725 rows x 19 columns]"
      ]
     },
     "execution_count": 17,
     "metadata": {},
     "output_type": "execute_result"
    }
   ],
   "source": [
    "df_complete"
   ]
  },
  {
   "cell_type": "code",
   "execution_count": 18,
   "metadata": {},
   "outputs": [],
   "source": [
    "# Lets take data from 1961 onwards only and for summer df only\n",
    "#df_complete_subset = df_complete.loc[(df_complete['Year'] > 1960) & (df_complete['Season'] == \"Summer\"), :]"
   ]
  },
  {
   "cell_type": "markdown",
   "metadata": {},
   "source": [
    "## Exploratory data analysis"
   ]
  },
  {
   "cell_type": "markdown",
   "metadata": {},
   "source": [
    "### Univariate Analysis"
   ]
  },
  {
   "cell_type": "markdown",
   "metadata": {},
   "source": [
    "#### Population and GDP data  are available from 1961 onwards while training data is from 1896. Therefore, let's consider only data from 1961 onwards."
   ]
  },
  {
   "cell_type": "code",
   "execution_count": 19,
   "metadata": {},
   "outputs": [],
   "source": [
    "df_complete_subset = df_complete.loc[(df_complete['Year'] >= 1961), :]"
   ]
  },
  {
   "cell_type": "code",
   "execution_count": 20,
   "metadata": {},
   "outputs": [
    {
     "data": {
      "text/html": [
       "<div>\n",
       "<style scoped>\n",
       "    .dataframe tbody tr th:only-of-type {\n",
       "        vertical-align: middle;\n",
       "    }\n",
       "\n",
       "    .dataframe tbody tr th {\n",
       "        vertical-align: top;\n",
       "    }\n",
       "\n",
       "    .dataframe thead th {\n",
       "        text-align: right;\n",
       "    }\n",
       "</style>\n",
       "<table border=\"1\" class=\"dataframe\">\n",
       "  <thead>\n",
       "    <tr style=\"text-align: right;\">\n",
       "      <th></th>\n",
       "      <th>Sex</th>\n",
       "      <th>Age</th>\n",
       "      <th>Height</th>\n",
       "      <th>Weight</th>\n",
       "      <th>Federation</th>\n",
       "      <th>Event</th>\n",
       "      <th>Year</th>\n",
       "      <th>Season</th>\n",
       "      <th>City</th>\n",
       "      <th>Sub Event</th>\n",
       "      <th>Grade</th>\n",
       "      <th>Id</th>\n",
       "      <th>GameID</th>\n",
       "      <th>Game</th>\n",
       "      <th>Record_Id</th>\n",
       "      <th>Team</th>\n",
       "      <th>Country Code</th>\n",
       "      <th>GDP</th>\n",
       "      <th>Population</th>\n",
       "    </tr>\n",
       "  </thead>\n",
       "  <tbody>\n",
       "    <tr>\n",
       "      <th>0</th>\n",
       "      <td>M</td>\n",
       "      <td>31.0</td>\n",
       "      <td>188.0</td>\n",
       "      <td>138.0</td>\n",
       "      <td>BUL</td>\n",
       "      <td>2016 Summer</td>\n",
       "      <td>2016</td>\n",
       "      <td>down</td>\n",
       "      <td>Rio de Janeiro</td>\n",
       "      <td>Athletics Men's Shot Put</td>\n",
       "      <td>D+</td>\n",
       "      <td>candidate-40730</td>\n",
       "      <td>Game 1</td>\n",
       "      <td>Athletics</td>\n",
       "      <td>5da57331-62fe-418b-abfd-ca6ab0731709</td>\n",
       "      <td>Bulgaria</td>\n",
       "      <td>BGR</td>\n",
       "      <td>5.323788e+10</td>\n",
       "      <td>7.127822e+06</td>\n",
       "    </tr>\n",
       "    <tr>\n",
       "      <th>1</th>\n",
       "      <td>F</td>\n",
       "      <td>28.0</td>\n",
       "      <td>166.0</td>\n",
       "      <td>62.0</td>\n",
       "      <td>TPE</td>\n",
       "      <td>1996 Summer</td>\n",
       "      <td>1996</td>\n",
       "      <td>down</td>\n",
       "      <td>Atlanta</td>\n",
       "      <td>Table Tennis Women's Singles</td>\n",
       "      <td>D+</td>\n",
       "      <td>candidate-129936</td>\n",
       "      <td>Game 33</td>\n",
       "      <td>Table Tennis</td>\n",
       "      <td>0ae393f7-5e07-4b7c-b0cd-83edf259a069</td>\n",
       "      <td>Taiwan</td>\n",
       "      <td>NaN</td>\n",
       "      <td>NaN</td>\n",
       "      <td>NaN</td>\n",
       "    </tr>\n",
       "    <tr>\n",
       "      <th>3</th>\n",
       "      <td>F</td>\n",
       "      <td>28.0</td>\n",
       "      <td>181.0</td>\n",
       "      <td>80.0</td>\n",
       "      <td>CHN</td>\n",
       "      <td>2004 Summer</td>\n",
       "      <td>2004</td>\n",
       "      <td>down</td>\n",
       "      <td>Athina</td>\n",
       "      <td>Handball Women's Handball</td>\n",
       "      <td>D+</td>\n",
       "      <td>candidate-131637</td>\n",
       "      <td>Game 24</td>\n",
       "      <td>Handball</td>\n",
       "      <td>96cd09eb-b394-4c7d-8f7d-b3a0dc8cd870</td>\n",
       "      <td>China</td>\n",
       "      <td>CHN</td>\n",
       "      <td>1.955350e+12</td>\n",
       "      <td>1.296075e+09</td>\n",
       "    </tr>\n",
       "    <tr>\n",
       "      <th>4</th>\n",
       "      <td>F</td>\n",
       "      <td>16.0</td>\n",
       "      <td>175.0</td>\n",
       "      <td>54.0</td>\n",
       "      <td>HUN</td>\n",
       "      <td>1996 Summer</td>\n",
       "      <td>1996</td>\n",
       "      <td>down</td>\n",
       "      <td>Atlanta</td>\n",
       "      <td>Swimming Women's 4 x 100 metres Medley Relay</td>\n",
       "      <td>D+</td>\n",
       "      <td>candidate-29360</td>\n",
       "      <td>Game 3</td>\n",
       "      <td>Swimming</td>\n",
       "      <td>bc158ecb-2fc5-4ffa-abd3-1075f4196044</td>\n",
       "      <td>Hungary</td>\n",
       "      <td>HUN</td>\n",
       "      <td>4.665980e+10</td>\n",
       "      <td>1.031124e+07</td>\n",
       "    </tr>\n",
       "    <tr>\n",
       "      <th>7</th>\n",
       "      <td>F</td>\n",
       "      <td>21.0</td>\n",
       "      <td>183.0</td>\n",
       "      <td>69.0</td>\n",
       "      <td>GER</td>\n",
       "      <td>2012 Summer</td>\n",
       "      <td>2012</td>\n",
       "      <td>down</td>\n",
       "      <td>London</td>\n",
       "      <td>Rowing Women's Coxed Eights</td>\n",
       "      <td>D+</td>\n",
       "      <td>candidate-68163</td>\n",
       "      <td>Game 7</td>\n",
       "      <td>Rowing</td>\n",
       "      <td>b3966071-9051-49cf-88ab-ef8705e43f6f</td>\n",
       "      <td>Germany</td>\n",
       "      <td>DEU</td>\n",
       "      <td>3.543980e+12</td>\n",
       "      <td>8.042582e+07</td>\n",
       "    </tr>\n",
       "    <tr>\n",
       "      <th>9</th>\n",
       "      <td>M</td>\n",
       "      <td>21.0</td>\n",
       "      <td>174.0</td>\n",
       "      <td>57.0</td>\n",
       "      <td>GER</td>\n",
       "      <td>2010 Winter</td>\n",
       "      <td>2010</td>\n",
       "      <td>Up</td>\n",
       "      <td>Vancouver</td>\n",
       "      <td>Nordic Combined Men's Team</td>\n",
       "      <td>C+</td>\n",
       "      <td>candidate-32501</td>\n",
       "      <td>Game 38</td>\n",
       "      <td>Nordic Combined</td>\n",
       "      <td>a0e57be0-22bd-49d2-a25c-032d278e14d2</td>\n",
       "      <td>Germany</td>\n",
       "      <td>DEU</td>\n",
       "      <td>3.417090e+12</td>\n",
       "      <td>8.177693e+07</td>\n",
       "    </tr>\n",
       "    <tr>\n",
       "      <th>11</th>\n",
       "      <td>M</td>\n",
       "      <td>27.0</td>\n",
       "      <td>175.0</td>\n",
       "      <td>72.0</td>\n",
       "      <td>NOR</td>\n",
       "      <td>1980 Winter</td>\n",
       "      <td>1980</td>\n",
       "      <td>Up</td>\n",
       "      <td>Lake Placid</td>\n",
       "      <td>Ice Hockey Men's Ice Hockey</td>\n",
       "      <td>D+</td>\n",
       "      <td>candidate-90321</td>\n",
       "      <td>Game 17</td>\n",
       "      <td>Ice Hockey</td>\n",
       "      <td>b878894b-426c-42f1-a7f9-3742d034e9fa</td>\n",
       "      <td>Norway</td>\n",
       "      <td>NOR</td>\n",
       "      <td>6.443938e+10</td>\n",
       "      <td>4.085620e+06</td>\n",
       "    </tr>\n",
       "    <tr>\n",
       "      <th>12</th>\n",
       "      <td>M</td>\n",
       "      <td>21.0</td>\n",
       "      <td>167.0</td>\n",
       "      <td>67.0</td>\n",
       "      <td>GDR</td>\n",
       "      <td>1980 Summer</td>\n",
       "      <td>1980</td>\n",
       "      <td>down</td>\n",
       "      <td>Moskva</td>\n",
       "      <td>Gymnastics Men's Individual All-Around</td>\n",
       "      <td>D+</td>\n",
       "      <td>candidate-78430</td>\n",
       "      <td>Game 2</td>\n",
       "      <td>Gymnastics</td>\n",
       "      <td>b2207b51-d1fc-4ae5-949c-cd6adac6214d</td>\n",
       "      <td>Germany</td>\n",
       "      <td>DEU</td>\n",
       "      <td>9.466950e+11</td>\n",
       "      <td>7.828858e+07</td>\n",
       "    </tr>\n",
       "    <tr>\n",
       "      <th>13</th>\n",
       "      <td>M</td>\n",
       "      <td>19.0</td>\n",
       "      <td>186.0</td>\n",
       "      <td>78.0</td>\n",
       "      <td>GER</td>\n",
       "      <td>2008 Summer</td>\n",
       "      <td>2008</td>\n",
       "      <td>down</td>\n",
       "      <td>Beijing</td>\n",
       "      <td>Table Tennis Men's Team</td>\n",
       "      <td>B+</td>\n",
       "      <td>candidate-27298</td>\n",
       "      <td>Game 33</td>\n",
       "      <td>Table Tennis</td>\n",
       "      <td>e900c123-aad8-4854-9b0a-a1990167e7b0</td>\n",
       "      <td>Germany</td>\n",
       "      <td>DEU</td>\n",
       "      <td>3.752370e+12</td>\n",
       "      <td>8.211010e+07</td>\n",
       "    </tr>\n",
       "    <tr>\n",
       "      <th>14</th>\n",
       "      <td>M</td>\n",
       "      <td>21.0</td>\n",
       "      <td>NaN</td>\n",
       "      <td>NaN</td>\n",
       "      <td>KOR</td>\n",
       "      <td>1996 Summer</td>\n",
       "      <td>1996</td>\n",
       "      <td>down</td>\n",
       "      <td>Atlanta</td>\n",
       "      <td>Gymnastics Men's Horse Vault</td>\n",
       "      <td>D+</td>\n",
       "      <td>candidate-69882</td>\n",
       "      <td>Game 2</td>\n",
       "      <td>Gymnastics</td>\n",
       "      <td>4b09a073-c3ab-4766-82d7-8630d60729d2</td>\n",
       "      <td>South Korea</td>\n",
       "      <td>KOR</td>\n",
       "      <td>5.980990e+11</td>\n",
       "      <td>4.552468e+07</td>\n",
       "    </tr>\n",
       "  </tbody>\n",
       "</table>\n",
       "</div>"
      ],
      "text/plain": [
       "   Sex   Age  Height  Weight Federation        Event  Year Season  \\\n",
       "0    M  31.0   188.0   138.0        BUL  2016 Summer  2016   down   \n",
       "1    F  28.0   166.0    62.0        TPE  1996 Summer  1996   down   \n",
       "3    F  28.0   181.0    80.0        CHN  2004 Summer  2004   down   \n",
       "4    F  16.0   175.0    54.0        HUN  1996 Summer  1996   down   \n",
       "7    F  21.0   183.0    69.0        GER  2012 Summer  2012   down   \n",
       "9    M  21.0   174.0    57.0        GER  2010 Winter  2010     Up   \n",
       "11   M  27.0   175.0    72.0        NOR  1980 Winter  1980     Up   \n",
       "12   M  21.0   167.0    67.0        GDR  1980 Summer  1980   down   \n",
       "13   M  19.0   186.0    78.0        GER  2008 Summer  2008   down   \n",
       "14   M  21.0     NaN     NaN        KOR  1996 Summer  1996   down   \n",
       "\n",
       "              City                                     Sub Event Grade  \\\n",
       "0   Rio de Janeiro                      Athletics Men's Shot Put    D+   \n",
       "1          Atlanta                  Table Tennis Women's Singles    D+   \n",
       "3           Athina                     Handball Women's Handball    D+   \n",
       "4          Atlanta  Swimming Women's 4 x 100 metres Medley Relay    D+   \n",
       "7           London                   Rowing Women's Coxed Eights    D+   \n",
       "9        Vancouver                    Nordic Combined Men's Team    C+   \n",
       "11     Lake Placid                   Ice Hockey Men's Ice Hockey    D+   \n",
       "12          Moskva        Gymnastics Men's Individual All-Around    D+   \n",
       "13         Beijing                       Table Tennis Men's Team    B+   \n",
       "14         Atlanta                  Gymnastics Men's Horse Vault    D+   \n",
       "\n",
       "                  Id   GameID             Game  \\\n",
       "0    candidate-40730   Game 1        Athletics   \n",
       "1   candidate-129936  Game 33     Table Tennis   \n",
       "3   candidate-131637  Game 24         Handball   \n",
       "4    candidate-29360   Game 3         Swimming   \n",
       "7    candidate-68163   Game 7           Rowing   \n",
       "9    candidate-32501  Game 38  Nordic Combined   \n",
       "11   candidate-90321  Game 17       Ice Hockey   \n",
       "12   candidate-78430   Game 2       Gymnastics   \n",
       "13   candidate-27298  Game 33     Table Tennis   \n",
       "14   candidate-69882   Game 2       Gymnastics   \n",
       "\n",
       "                               Record_Id         Team Country Code  \\\n",
       "0   5da57331-62fe-418b-abfd-ca6ab0731709     Bulgaria          BGR   \n",
       "1   0ae393f7-5e07-4b7c-b0cd-83edf259a069       Taiwan          NaN   \n",
       "3   96cd09eb-b394-4c7d-8f7d-b3a0dc8cd870        China          CHN   \n",
       "4   bc158ecb-2fc5-4ffa-abd3-1075f4196044      Hungary          HUN   \n",
       "7   b3966071-9051-49cf-88ab-ef8705e43f6f      Germany          DEU   \n",
       "9   a0e57be0-22bd-49d2-a25c-032d278e14d2      Germany          DEU   \n",
       "11  b878894b-426c-42f1-a7f9-3742d034e9fa       Norway          NOR   \n",
       "12  b2207b51-d1fc-4ae5-949c-cd6adac6214d      Germany          DEU   \n",
       "13  e900c123-aad8-4854-9b0a-a1990167e7b0      Germany          DEU   \n",
       "14  4b09a073-c3ab-4766-82d7-8630d60729d2  South Korea          KOR   \n",
       "\n",
       "             GDP    Population  \n",
       "0   5.323788e+10  7.127822e+06  \n",
       "1            NaN           NaN  \n",
       "3   1.955350e+12  1.296075e+09  \n",
       "4   4.665980e+10  1.031124e+07  \n",
       "7   3.543980e+12  8.042582e+07  \n",
       "9   3.417090e+12  8.177693e+07  \n",
       "11  6.443938e+10  4.085620e+06  \n",
       "12  9.466950e+11  7.828858e+07  \n",
       "13  3.752370e+12  8.211010e+07  \n",
       "14  5.980990e+11  4.552468e+07  "
      ]
     },
     "execution_count": 20,
     "metadata": {},
     "output_type": "execute_result"
    }
   ],
   "source": [
    "df_complete_subset.head(10)"
   ]
  },
  {
   "cell_type": "code",
   "execution_count": 21,
   "metadata": {},
   "outputs": [
    {
     "data": {
      "text/plain": [
       "(67088, 19)"
      ]
     },
     "execution_count": 21,
     "metadata": {},
     "output_type": "execute_result"
    }
   ],
   "source": [
    "df_complete_subset.shape"
   ]
  },
  {
   "cell_type": "code",
   "execution_count": 22,
   "metadata": {},
   "outputs": [],
   "source": [
    "df_complete_subset = df_complete_subset.reset_index()"
   ]
  },
  {
   "cell_type": "code",
   "execution_count": 23,
   "metadata": {},
   "outputs": [
    {
     "data": {
      "text/plain": [
       "(67088, 20)"
      ]
     },
     "execution_count": 23,
     "metadata": {},
     "output_type": "execute_result"
    }
   ],
   "source": [
    "df_complete_subset.shape"
   ]
  },
  {
   "cell_type": "code",
   "execution_count": 24,
   "metadata": {},
   "outputs": [
    {
     "name": "stdout",
     "output_type": "stream",
     "text": [
      "<class 'pandas.core.frame.DataFrame'>\n",
      "RangeIndex: 67088 entries, 0 to 67087\n",
      "Data columns (total 20 columns):\n",
      "index           67088 non-null int64\n",
      "Sex             67088 non-null object\n",
      "Age             66809 non-null float64\n",
      "Height          63671 non-null float64\n",
      "Weight          63458 non-null float64\n",
      "Federation      67088 non-null object\n",
      "Event           67088 non-null object\n",
      "Year            67088 non-null int64\n",
      "Season          67088 non-null object\n",
      "City            67088 non-null object\n",
      "Sub Event       67088 non-null object\n",
      "Grade           67088 non-null object\n",
      "Id              67088 non-null object\n",
      "GameID          67088 non-null object\n",
      "Game            67088 non-null object\n",
      "Record_Id       67088 non-null object\n",
      "Team            66992 non-null object\n",
      "Country Code    66556 non-null object\n",
      "GDP             59606 non-null float64\n",
      "Population      66034 non-null float64\n",
      "dtypes: float64(5), int64(2), object(13)\n",
      "memory usage: 10.2+ MB\n"
     ]
    }
   ],
   "source": [
    "df_complete_subset.info()"
   ]
  },
  {
   "cell_type": "code",
   "execution_count": 25,
   "metadata": {},
   "outputs": [
    {
     "data": {
      "text/plain": [
       "<matplotlib.axes._subplots.AxesSubplot at 0x1af603732e8>"
      ]
     },
     "execution_count": 25,
     "metadata": {},
     "output_type": "execute_result"
    },
    {
     "data": {
      "image/png": "[encoded data removed]",
      "text/plain": [
       "<matplotlib.figure.Figure at 0x1af60359080>"
      ]
     },
     "metadata": {},
     "output_type": "display_data"
    }
   ],
   "source": [
    "figsize(12, 8)\n",
    "df_complete_subset['Population'].hist(bins = 10)"
   ]
  },
  {
   "cell_type": "code",
   "execution_count": 26,
   "metadata": {},
   "outputs": [
    {
     "data": {
      "text/plain": [
       "<matplotlib.axes._subplots.AxesSubplot at 0x1af61f2dda0>"
      ]
     },
     "execution_count": 26,
     "metadata": {},
     "output_type": "execute_result"
    },
    {
     "data": {
      "image/png": "[encoded data removed]",
      "text/plain": [
       "<matplotlib.figure.Figure at 0x1af61edfdd8>"
      ]
     },
     "metadata": {},
     "output_type": "display_data"
    }
   ],
   "source": [
    "df_complete_subset['GDP'].hist(bins = 10)"
   ]
  },
  {
   "cell_type": "markdown",
   "metadata": {},
   "source": [
    "#### We can observed, GDP and Populations are highly right skewed, hence we can take log transform of feature\n"
   ]
  },
  {
   "cell_type": "code",
   "execution_count": 27,
   "metadata": {},
   "outputs": [],
   "source": [
    "import math\n",
    "# take the log transforms for the variables\n",
    "df_complete_subset['Log_Population'] = np.log(df_complete_subset['Population'])\n",
    "df_complete_subset['Log_GDP'] = np.log(df_complete_subset['GDP'])"
   ]
  },
  {
   "cell_type": "code",
   "execution_count": 28,
   "metadata": {
    "scrolled": true
   },
   "outputs": [
    {
     "data": {
      "text/plain": [
       "<matplotlib.axes._subplots.AxesSubplot at 0x1af60346ac8>"
      ]
     },
     "execution_count": 28,
     "metadata": {},
     "output_type": "execute_result"
    },
    {
     "data": {
      "image/png": "[encoded data removed]",
      "text/plain": [
       "<matplotlib.figure.Figure at 0x1af61f695c0>"
      ]
     },
     "metadata": {},
     "output_type": "display_data"
    }
   ],
   "source": [
    "df_complete_subset['Log_GDP'].hist()"
   ]
  },
  {
   "cell_type": "code",
   "execution_count": 29,
   "metadata": {},
   "outputs": [
    {
     "data": {
      "text/plain": [
       "<matplotlib.axes._subplots.AxesSubplot at 0x1af64d0af28>"
      ]
     },
     "execution_count": 29,
     "metadata": {},
     "output_type": "execute_result"
    },
    {
     "data": {
      "image/png": "[encoded data removed]",
      "text/plain": [
       "<matplotlib.figure.Figure at 0x1af64d66470>"
      ]
     },
     "metadata": {},
     "output_type": "display_data"
    }
   ],
   "source": [
    "df_complete_subset['Log_Population'].hist()"
   ]
  },
  {
   "cell_type": "code",
   "execution_count": 30,
   "metadata": {},
   "outputs": [
    {
     "data": {
      "text/plain": [
       "Counter({'A+': 3019, 'B+': 2976, 'C+': 3099, 'D+': 57994})"
      ]
     },
     "execution_count": 30,
     "metadata": {},
     "output_type": "execute_result"
    }
   ],
   "source": [
    "from collections import Counter\n",
    "Counter(df_complete_subset['Grade'])"
   ]
  },
  {
   "cell_type": "code",
   "execution_count": 31,
   "metadata": {},
   "outputs": [
    {
     "data": {
      "text/plain": [
       "<matplotlib.axes._subplots.AxesSubplot at 0x1af64d5d550>"
      ]
     },
     "execution_count": 31,
     "metadata": {},
     "output_type": "execute_result"
    },
    {
     "data": {
      "image/png": "[encoded data removed]",
      "text/plain": [
       "<matplotlib.figure.Figure at 0x1af64f15a90>"
      ]
     },
     "metadata": {},
     "output_type": "display_data"
    }
   ],
   "source": [
    "df_complete_subset['Grade'].value_counts().plot(kind='bar')"
   ]
  },
  {
   "cell_type": "markdown",
   "metadata": {},
   "source": [
    "#### We can observed that data is imbalanced. Class D+ has major count in total dataset"
   ]
  },
  {
   "cell_type": "code",
   "execution_count": 32,
   "metadata": {},
   "outputs": [
    {
     "name": "stdout",
     "output_type": "stream",
     "text": [
      "Counter({'M': 44452, 'F': 22636})\n"
     ]
    },
    {
     "data": {
      "text/plain": [
       "<matplotlib.axes._subplots.AxesSubplot at 0x1af64f783c8>"
      ]
     },
     "execution_count": 32,
     "metadata": {},
     "output_type": "execute_result"
    },
    {
     "data": {
      "image/png": "[encoded data removed]",
      "text/plain": [
       "<matplotlib.figure.Figure at 0x1af64f296d8>"
      ]
     },
     "metadata": {},
     "output_type": "display_data"
    }
   ],
   "source": [
    "print(Counter(df_complete_subset['Sex']))\n",
    "df_complete_subset['Sex'].value_counts().plot(kind='bar')"
   ]
  },
  {
   "cell_type": "markdown",
   "metadata": {},
   "source": [
    "#### We can observed Male has higher number participations (44452), compared to femal candidate (22636)"
   ]
  },
  {
   "cell_type": "code",
   "execution_count": 33,
   "metadata": {},
   "outputs": [
    {
     "name": "stdout",
     "output_type": "stream",
     "text": [
      "Counter({'down': 53055, 'Up': 14033})\n"
     ]
    },
    {
     "data": {
      "text/plain": [
       "<matplotlib.axes._subplots.AxesSubplot at 0x1af64f8cd68>"
      ]
     },
     "execution_count": 33,
     "metadata": {},
     "output_type": "execute_result"
    },
    {
     "data": {
      "image/png": "[encoded data removed]",
      "text/plain": [
       "<matplotlib.figure.Figure at 0x1af64fb78d0>"
      ]
     },
     "metadata": {},
     "output_type": "display_data"
    }
   ],
   "source": [
    "print(Counter(df_complete_subset['Season']))\n",
    "df_complete_subset['Season'].value_counts().plot(kind='bar')"
   ]
  },
  {
   "cell_type": "markdown",
   "metadata": {},
   "source": [
    "#### We can observed, Down has higher number participations (53055), compared to Up Season (14033)"
   ]
  },
  {
   "cell_type": "code",
   "execution_count": 34,
   "metadata": {},
   "outputs": [
    {
     "data": {
      "text/plain": [
       "array([<matplotlib.axes._subplots.AxesSubplot object at 0x000001AF66A91710>,\n",
       "       <matplotlib.axes._subplots.AxesSubplot object at 0x000001AF67083400>],\n",
       "      dtype=object)"
      ]
     },
     "execution_count": 34,
     "metadata": {},
     "output_type": "execute_result"
    },
    {
     "data": {
      "image/png": "[encoded data removed]",
      "text/plain": [
       "<matplotlib.figure.Figure at 0x1af66a714a8>"
      ]
     },
     "metadata": {},
     "output_type": "display_data"
    }
   ],
   "source": [
    "df_complete_subset['Grade'].hist(by=df_complete_subset['Sex'])"
   ]
  },
  {
   "cell_type": "markdown",
   "metadata": {},
   "source": [
    "#### From above, for both male and female category, 'D+' category has higest count"
   ]
  },
  {
   "cell_type": "code",
   "execution_count": 35,
   "metadata": {},
   "outputs": [
    {
     "data": {
      "text/plain": [
       "array([<matplotlib.axes._subplots.AxesSubplot object at 0x000001AF6705AC50>,\n",
       "       <matplotlib.axes._subplots.AxesSubplot object at 0x000001AF67626978>],\n",
       "      dtype=object)"
      ]
     },
     "execution_count": 35,
     "metadata": {},
     "output_type": "execute_result"
    },
    {
     "data": {
      "image/png": "[encoded data removed]",
      "text/plain": [
       "<matplotlib.figure.Figure at 0x1af6708dcf8>"
      ]
     },
     "metadata": {},
     "output_type": "display_data"
    }
   ],
   "source": [
    "df_complete_subset['Grade'].hist(by=df_complete_subset['Season'])"
   ]
  },
  {
   "cell_type": "code",
   "execution_count": 36,
   "metadata": {},
   "outputs": [
    {
     "data": {
      "text/html": [
       "<div>\n",
       "<style scoped>\n",
       "    .dataframe tbody tr th:only-of-type {\n",
       "        vertical-align: middle;\n",
       "    }\n",
       "\n",
       "    .dataframe tbody tr th {\n",
       "        vertical-align: top;\n",
       "    }\n",
       "\n",
       "    .dataframe thead th {\n",
       "        text-align: right;\n",
       "    }\n",
       "</style>\n",
       "<table border=\"1\" class=\"dataframe\">\n",
       "  <thead>\n",
       "    <tr style=\"text-align: right;\">\n",
       "      <th></th>\n",
       "      <th>index</th>\n",
       "      <th>Sex</th>\n",
       "      <th>Age</th>\n",
       "      <th>Height</th>\n",
       "      <th>Weight</th>\n",
       "      <th>Federation</th>\n",
       "      <th>Event</th>\n",
       "      <th>Year</th>\n",
       "      <th>Season</th>\n",
       "      <th>City</th>\n",
       "      <th>...</th>\n",
       "      <th>Id</th>\n",
       "      <th>GameID</th>\n",
       "      <th>Game</th>\n",
       "      <th>Record_Id</th>\n",
       "      <th>Team</th>\n",
       "      <th>Country Code</th>\n",
       "      <th>GDP</th>\n",
       "      <th>Population</th>\n",
       "      <th>Log_Population</th>\n",
       "      <th>Log_GDP</th>\n",
       "    </tr>\n",
       "  </thead>\n",
       "  <tbody>\n",
       "    <tr>\n",
       "      <th>0</th>\n",
       "      <td>0</td>\n",
       "      <td>M</td>\n",
       "      <td>31.0</td>\n",
       "      <td>188.0</td>\n",
       "      <td>138.0</td>\n",
       "      <td>BUL</td>\n",
       "      <td>2016 Summer</td>\n",
       "      <td>2016</td>\n",
       "      <td>down</td>\n",
       "      <td>Rio de Janeiro</td>\n",
       "      <td>...</td>\n",
       "      <td>candidate-40730</td>\n",
       "      <td>Game 1</td>\n",
       "      <td>Athletics</td>\n",
       "      <td>5da57331-62fe-418b-abfd-ca6ab0731709</td>\n",
       "      <td>Bulgaria</td>\n",
       "      <td>BGR</td>\n",
       "      <td>5.323788e+10</td>\n",
       "      <td>7.127822e+06</td>\n",
       "      <td>15.779516</td>\n",
       "      <td>24.698036</td>\n",
       "    </tr>\n",
       "    <tr>\n",
       "      <th>1</th>\n",
       "      <td>1</td>\n",
       "      <td>F</td>\n",
       "      <td>28.0</td>\n",
       "      <td>166.0</td>\n",
       "      <td>62.0</td>\n",
       "      <td>TPE</td>\n",
       "      <td>1996 Summer</td>\n",
       "      <td>1996</td>\n",
       "      <td>down</td>\n",
       "      <td>Atlanta</td>\n",
       "      <td>...</td>\n",
       "      <td>candidate-129936</td>\n",
       "      <td>Game 33</td>\n",
       "      <td>Table Tennis</td>\n",
       "      <td>0ae393f7-5e07-4b7c-b0cd-83edf259a069</td>\n",
       "      <td>Taiwan</td>\n",
       "      <td>NaN</td>\n",
       "      <td>NaN</td>\n",
       "      <td>NaN</td>\n",
       "      <td>NaN</td>\n",
       "      <td>NaN</td>\n",
       "    </tr>\n",
       "    <tr>\n",
       "      <th>2</th>\n",
       "      <td>3</td>\n",
       "      <td>F</td>\n",
       "      <td>28.0</td>\n",
       "      <td>181.0</td>\n",
       "      <td>80.0</td>\n",
       "      <td>CHN</td>\n",
       "      <td>2004 Summer</td>\n",
       "      <td>2004</td>\n",
       "      <td>down</td>\n",
       "      <td>Athina</td>\n",
       "      <td>...</td>\n",
       "      <td>candidate-131637</td>\n",
       "      <td>Game 24</td>\n",
       "      <td>Handball</td>\n",
       "      <td>96cd09eb-b394-4c7d-8f7d-b3a0dc8cd870</td>\n",
       "      <td>China</td>\n",
       "      <td>CHN</td>\n",
       "      <td>1.955350e+12</td>\n",
       "      <td>1.296075e+09</td>\n",
       "      <td>20.982606</td>\n",
       "      <td>28.301590</td>\n",
       "    </tr>\n",
       "    <tr>\n",
       "      <th>3</th>\n",
       "      <td>4</td>\n",
       "      <td>F</td>\n",
       "      <td>16.0</td>\n",
       "      <td>175.0</td>\n",
       "      <td>54.0</td>\n",
       "      <td>HUN</td>\n",
       "      <td>1996 Summer</td>\n",
       "      <td>1996</td>\n",
       "      <td>down</td>\n",
       "      <td>Atlanta</td>\n",
       "      <td>...</td>\n",
       "      <td>candidate-29360</td>\n",
       "      <td>Game 3</td>\n",
       "      <td>Swimming</td>\n",
       "      <td>bc158ecb-2fc5-4ffa-abd3-1075f4196044</td>\n",
       "      <td>Hungary</td>\n",
       "      <td>HUN</td>\n",
       "      <td>4.665980e+10</td>\n",
       "      <td>1.031124e+07</td>\n",
       "      <td>16.148745</td>\n",
       "      <td>24.566149</td>\n",
       "    </tr>\n",
       "    <tr>\n",
       "      <th>4</th>\n",
       "      <td>7</td>\n",
       "      <td>F</td>\n",
       "      <td>21.0</td>\n",
       "      <td>183.0</td>\n",
       "      <td>69.0</td>\n",
       "      <td>GER</td>\n",
       "      <td>2012 Summer</td>\n",
       "      <td>2012</td>\n",
       "      <td>down</td>\n",
       "      <td>London</td>\n",
       "      <td>...</td>\n",
       "      <td>candidate-68163</td>\n",
       "      <td>Game 7</td>\n",
       "      <td>Rowing</td>\n",
       "      <td>b3966071-9051-49cf-88ab-ef8705e43f6f</td>\n",
       "      <td>Germany</td>\n",
       "      <td>DEU</td>\n",
       "      <td>3.543980e+12</td>\n",
       "      <td>8.042582e+07</td>\n",
       "      <td>18.202846</td>\n",
       "      <td>28.896272</td>\n",
       "    </tr>\n",
       "  </tbody>\n",
       "</table>\n",
       "<p>5 rows × 22 columns</p>\n",
       "</div>"
      ],
      "text/plain": [
       "   index Sex   Age  Height  Weight Federation        Event  Year Season  \\\n",
       "0      0   M  31.0   188.0   138.0        BUL  2016 Summer  2016   down   \n",
       "1      1   F  28.0   166.0    62.0        TPE  1996 Summer  1996   down   \n",
       "2      3   F  28.0   181.0    80.0        CHN  2004 Summer  2004   down   \n",
       "3      4   F  16.0   175.0    54.0        HUN  1996 Summer  1996   down   \n",
       "4      7   F  21.0   183.0    69.0        GER  2012 Summer  2012   down   \n",
       "\n",
       "             City    ...                    Id   GameID          Game  \\\n",
       "0  Rio de Janeiro    ...       candidate-40730   Game 1     Athletics   \n",
       "1         Atlanta    ...      candidate-129936  Game 33  Table Tennis   \n",
       "2          Athina    ...      candidate-131637  Game 24      Handball   \n",
       "3         Atlanta    ...       candidate-29360   Game 3      Swimming   \n",
       "4          London    ...       candidate-68163   Game 7        Rowing   \n",
       "\n",
       "                              Record_Id      Team Country Code           GDP  \\\n",
       "0  5da57331-62fe-418b-abfd-ca6ab0731709  Bulgaria          BGR  5.323788e+10   \n",
       "1  0ae393f7-5e07-4b7c-b0cd-83edf259a069    Taiwan          NaN           NaN   \n",
       "2  96cd09eb-b394-4c7d-8f7d-b3a0dc8cd870     China          CHN  1.955350e+12   \n",
       "3  bc158ecb-2fc5-4ffa-abd3-1075f4196044   Hungary          HUN  4.665980e+10   \n",
       "4  b3966071-9051-49cf-88ab-ef8705e43f6f   Germany          DEU  3.543980e+12   \n",
       "\n",
       "     Population  Log_Population    Log_GDP  \n",
       "0  7.127822e+06       15.779516  24.698036  \n",
       "1           NaN             NaN        NaN  \n",
       "2  1.296075e+09       20.982606  28.301590  \n",
       "3  1.031124e+07       16.148745  24.566149  \n",
       "4  8.042582e+07       18.202846  28.896272  \n",
       "\n",
       "[5 rows x 22 columns]"
      ]
     },
     "execution_count": 36,
     "metadata": {},
     "output_type": "execute_result"
    }
   ],
   "source": [
    "df_complete_subset.head()"
   ]
  },
  {
   "cell_type": "code",
   "execution_count": 37,
   "metadata": {},
   "outputs": [],
   "source": [
    "df_complete_subset_class=df_complete_subset.copy()"
   ]
  },
  {
   "cell_type": "code",
   "execution_count": 39,
   "metadata": {},
   "outputs": [
    {
     "data": {
      "text/plain": [
       "Counter({'A+': 3019, 'B+': 2976, 'C+': 3099, 'D+': 57994})"
      ]
     },
     "execution_count": 39,
     "metadata": {},
     "output_type": "execute_result"
    }
   ],
   "source": [
    "Counter(df_complete_subset_class['Grade'])"
   ]
  },
  {
   "cell_type": "code",
   "execution_count": 38,
   "metadata": {},
   "outputs": [
    {
     "data": {
      "text/plain": [
       "<matplotlib.axes._subplots.AxesSubplot at 0x1af6763c7f0>"
      ]
     },
     "execution_count": 38,
     "metadata": {},
     "output_type": "execute_result"
    },
    {
     "data": {
      "image/png": "[encoded data removed]",
      "text/plain": [
       "<matplotlib.figure.Figure at 0x1af678351d0>"
      ]
     },
     "metadata": {},
     "output_type": "display_data"
    }
   ],
   "source": [
    "df_complete_subset_class['Grade'].value_counts().plot(kind='bar')"
   ]
  },
  {
   "cell_type": "code",
   "execution_count": 103,
   "metadata": {},
   "outputs": [
    {
     "data": {
      "text/plain": [
       "<matplotlib.axes._subplots.AxesSubplot at 0x1af7dad75c0>"
      ]
     },
     "execution_count": 103,
     "metadata": {},
     "output_type": "execute_result"
    },
    {
     "data": {
      "image/png": "[encoded data removed]",
      "text/plain": [
       "<matplotlib.figure.Figure at 0x1af7d8ee198>"
      ]
     },
     "metadata": {},
     "output_type": "display_data"
    }
   ],
   "source": [
    "figsize(14, 10)\n",
    "df_complete_subset_class['Game'].value_counts().plot(kind='bar')"
   ]
  },
  {
   "cell_type": "markdown",
   "metadata": {},
   "source": [
    "#### We can oberved that, Athletics has higher number of participation followed by swimming and Gymnastics"
   ]
  },
  {
   "cell_type": "markdown",
   "metadata": {},
   "source": [
    "### Splitting into Training & Test sets\n",
    "In machine learning, we always need to separate our features into two sets:\n",
    "\n",
    "Training set which we provide to our model during training along with the answers so it can learn a mapping between the features and the target.\n",
    "\n",
    "Testing set which we use to evaluate the mapping learned by the model. The model has never seen the answers on the testing set, but instead, must make predictions using only the features. As we know the true answers for the test set, we can then compare the test predictions to the true test targets to get an estimate of how well our model will perform when deployed in the real world.\n",
    "\n",
    "For our problem, we will first extract below feature without Grade. Then, we will split the training data with a Grade into a testing set of 20% , and a training set of 80%.\n",
    "- Sex\n",
    "- Age\n",
    "- Height\n",
    "- Weight\n",
    "- Log_Population\n",
    "- Log_GDP"
   ]
  },
  {
   "cell_type": "code",
   "execution_count": 40,
   "metadata": {},
   "outputs": [],
   "source": [
    "df_complete_subset_filter=df_complete_subset_class[['Sex', 'Age', 'Height', 'Weight','Log_Population', 'Log_GDP']]"
   ]
  },
  {
   "cell_type": "code",
   "execution_count": 41,
   "metadata": {},
   "outputs": [
    {
     "data": {
      "text/html": [
       "<div>\n",
       "<style scoped>\n",
       "    .dataframe tbody tr th:only-of-type {\n",
       "        vertical-align: middle;\n",
       "    }\n",
       "\n",
       "    .dataframe tbody tr th {\n",
       "        vertical-align: top;\n",
       "    }\n",
       "\n",
       "    .dataframe thead th {\n",
       "        text-align: right;\n",
       "    }\n",
       "</style>\n",
       "<table border=\"1\" class=\"dataframe\">\n",
       "  <thead>\n",
       "    <tr style=\"text-align: right;\">\n",
       "      <th></th>\n",
       "      <th>Sex</th>\n",
       "      <th>Age</th>\n",
       "      <th>Height</th>\n",
       "      <th>Weight</th>\n",
       "      <th>Log_Population</th>\n",
       "      <th>Log_GDP</th>\n",
       "    </tr>\n",
       "  </thead>\n",
       "  <tbody>\n",
       "    <tr>\n",
       "      <th>0</th>\n",
       "      <td>M</td>\n",
       "      <td>31.0</td>\n",
       "      <td>188.0</td>\n",
       "      <td>138.0</td>\n",
       "      <td>15.779516</td>\n",
       "      <td>24.698036</td>\n",
       "    </tr>\n",
       "    <tr>\n",
       "      <th>1</th>\n",
       "      <td>F</td>\n",
       "      <td>28.0</td>\n",
       "      <td>166.0</td>\n",
       "      <td>62.0</td>\n",
       "      <td>NaN</td>\n",
       "      <td>NaN</td>\n",
       "    </tr>\n",
       "    <tr>\n",
       "      <th>2</th>\n",
       "      <td>F</td>\n",
       "      <td>28.0</td>\n",
       "      <td>181.0</td>\n",
       "      <td>80.0</td>\n",
       "      <td>20.982606</td>\n",
       "      <td>28.301590</td>\n",
       "    </tr>\n",
       "    <tr>\n",
       "      <th>3</th>\n",
       "      <td>F</td>\n",
       "      <td>16.0</td>\n",
       "      <td>175.0</td>\n",
       "      <td>54.0</td>\n",
       "      <td>16.148745</td>\n",
       "      <td>24.566149</td>\n",
       "    </tr>\n",
       "    <tr>\n",
       "      <th>4</th>\n",
       "      <td>F</td>\n",
       "      <td>21.0</td>\n",
       "      <td>183.0</td>\n",
       "      <td>69.0</td>\n",
       "      <td>18.202846</td>\n",
       "      <td>28.896272</td>\n",
       "    </tr>\n",
       "  </tbody>\n",
       "</table>\n",
       "</div>"
      ],
      "text/plain": [
       "  Sex   Age  Height  Weight  Log_Population    Log_GDP\n",
       "0   M  31.0   188.0   138.0       15.779516  24.698036\n",
       "1   F  28.0   166.0    62.0             NaN        NaN\n",
       "2   F  28.0   181.0    80.0       20.982606  28.301590\n",
       "3   F  16.0   175.0    54.0       16.148745  24.566149\n",
       "4   F  21.0   183.0    69.0       18.202846  28.896272"
      ]
     },
     "execution_count": 41,
     "metadata": {},
     "output_type": "execute_result"
    }
   ],
   "source": [
    "df_complete_subset_filter.head()"
   ]
  },
  {
   "cell_type": "markdown",
   "metadata": {},
   "source": [
    "- \tList down the features including any engineered features that are significant for classification\n",
    "    Below are the featured consider for classification\n",
    "    - Sex\n",
    "    - Age\n",
    "    - Height\n",
    "    - Weight\n",
    "    - Population\n",
    "    - GDP\n"
   ]
  },
  {
   "cell_type": "code",
   "execution_count": 42,
   "metadata": {},
   "outputs": [],
   "source": [
    "from sklearn.preprocessing import LabelEncoder\n",
    "label_encoder = LabelEncoder()"
   ]
  },
  {
   "cell_type": "code",
   "execution_count": 43,
   "metadata": {},
   "outputs": [
    {
     "name": "stderr",
     "output_type": "stream",
     "text": [
      "C:\\Users\\Rushikesh\\Anaconda3\\lib\\site-packages\\ipykernel_launcher.py:1: SettingWithCopyWarning: \n",
      "A value is trying to be set on a copy of a slice from a DataFrame.\n",
      "Try using .loc[row_indexer,col_indexer] = value instead\n",
      "\n",
      "See the caveats in the documentation: http://pandas.pydata.org/pandas-docs/stable/indexing.html#indexing-view-versus-copy\n",
      "  \"\"\"Entry point for launching an IPython kernel.\n"
     ]
    }
   ],
   "source": [
    "df_complete_subset_filter['Sex_encode']=label_encoder.fit_transform(df_complete_subset_filter['Sex'])\n",
    "df_complete_subset_filter.head()\n",
    "df_complete_subset_filter=df_complete_subset_filter.drop(columns='Sex')"
   ]
  },
  {
   "cell_type": "code",
   "execution_count": 44,
   "metadata": {},
   "outputs": [
    {
     "name": "stdout",
     "output_type": "stream",
     "text": [
      "Age                279\n",
      "Height            3417\n",
      "Weight            3630\n",
      "Log_Population    1054\n",
      "Log_GDP           7482\n",
      "Sex_encode           0\n",
      "dtype: int64\n"
     ]
    }
   ],
   "source": [
    "print(df_complete_subset_filter.isnull().sum())"
   ]
  },
  {
   "cell_type": "markdown",
   "metadata": {},
   "source": [
    "#### Data having more missing values. We can filled missing values with medium imputer strategy"
   ]
  },
  {
   "cell_type": "markdown",
   "metadata": {},
   "source": [
    "# Classification"
   ]
  },
  {
   "cell_type": "markdown",
   "metadata": {},
   "source": [
    "## Metric : Confusion metrics\n",
    "In this case, because we are doing classification, the confusion metric is an appropriate metric. This is also interpretable because it represents the precesion, recall and F1 score."
   ]
  },
  {
   "cell_type": "code",
   "execution_count": 45,
   "metadata": {},
   "outputs": [],
   "source": [
    "# Create an imputer object with a median filling strategy\n",
    "imputer = Imputer(strategy='median')"
   ]
  },
  {
   "cell_type": "code",
   "execution_count": 46,
   "metadata": {},
   "outputs": [
    {
     "data": {
      "text/plain": [
       "Index(['Age', 'Height', 'Weight', 'Log_Population', 'Log_GDP', 'Sex_encode'], dtype='object')"
      ]
     },
     "execution_count": 46,
     "metadata": {},
     "output_type": "execute_result"
    }
   ],
   "source": [
    "df_complete_subset_filter.columns"
   ]
  },
  {
   "cell_type": "code",
   "execution_count": 47,
   "metadata": {},
   "outputs": [],
   "source": [
    "x= df_complete_subset_filter.iloc[:,:].values\n",
    "y=df_complete_subset_class['Grade'].values"
   ]
  },
  {
   "cell_type": "code",
   "execution_count": 48,
   "metadata": {},
   "outputs": [],
   "source": [
    "from sklearn.model_selection import train_test_split\n",
    "x_train, x_test, y_train, y_test = train_test_split(x, y, test_size = 0.2,random_state=0)"
   ]
  },
  {
   "cell_type": "code",
   "execution_count": 49,
   "metadata": {},
   "outputs": [],
   "source": [
    "# Create an imputer object with a median filling strategy\n",
    "imputer = Imputer(strategy='median')\n",
    "\n",
    "# Train on the training features\n",
    "imputer.fit(x_train)\n",
    "\n",
    "# Transform both training data and testing data\n",
    "x_train = imputer.transform(x_train)\n",
    "x_test = imputer.transform(x_test)"
   ]
  },
  {
   "cell_type": "code",
   "execution_count": 50,
   "metadata": {},
   "outputs": [
    {
     "name": "stdout",
     "output_type": "stream",
     "text": [
      "(53670, 6)\n",
      "(13418, 6)\n"
     ]
    }
   ],
   "source": [
    "from sklearn.preprocessing import StandardScaler\n",
    "sc_x = StandardScaler()\n",
    "x_train = sc_x.fit_transform(x_train)\n",
    "x_test = sc_x.transform(x_test)\n",
    "\n",
    "print(x_train.shape)\n",
    "\n",
    "\n",
    "print(x_test.shape)"
   ]
  },
  {
   "cell_type": "markdown",
   "metadata": {},
   "source": [
    "### PCA"
   ]
  },
  {
   "cell_type": "code",
   "execution_count": 51,
   "metadata": {},
   "outputs": [],
   "source": [
    "# Applying PCA\n",
    "from sklearn.decomposition import PCA\n",
    "#pca = PCA(n_components = 4)\n",
    "pca = PCA(None)\n",
    "x_train = pca.fit_transform(x_train)\n",
    "x_test = pca.transform(x_test)\n",
    "explained_variance = pca.explained_variance_ratio_\n"
   ]
  },
  {
   "cell_type": "code",
   "execution_count": 52,
   "metadata": {},
   "outputs": [
    {
     "data": {
      "text/plain": [
       "(13418, 6)"
      ]
     },
     "execution_count": 52,
     "metadata": {},
     "output_type": "execute_result"
    }
   ],
   "source": [
    "x_test.shape"
   ]
  },
  {
   "cell_type": "code",
   "execution_count": 53,
   "metadata": {},
   "outputs": [
    {
     "data": {
      "text/plain": [
       "(53670, 6)"
      ]
     },
     "execution_count": 53,
     "metadata": {},
     "output_type": "execute_result"
    }
   ],
   "source": [
    "x_train.shape"
   ]
  },
  {
   "cell_type": "code",
   "execution_count": 54,
   "metadata": {},
   "outputs": [
    {
     "name": "stdout",
     "output_type": "stream",
     "text": [
      "[0.38466784 0.28166226 0.15498314 0.09808102 0.04674363 0.03386211]\n"
     ]
    }
   ],
   "source": [
    "print(explained_variance)"
   ]
  },
  {
   "cell_type": "code",
   "execution_count": 55,
   "metadata": {},
   "outputs": [
    {
     "data": {
      "image/png": "[encoded data removed]",
      "text/plain": [
       "<matplotlib.figure.Figure at 0x1af61d80710>"
      ]
     },
     "metadata": {},
     "output_type": "display_data"
    }
   ],
   "source": [
    "##plot the graph to find the principal components\n",
    "plt.figure(figsize=(10,10))\n",
    "plt.plot(np.cumsum(pca.explained_variance_ratio_), 'ro-')\n",
    "plt.grid()"
   ]
  },
  {
   "cell_type": "code",
   "execution_count": 56,
   "metadata": {},
   "outputs": [
    {
     "name": "stdout",
     "output_type": "stream",
     "text": [
      "[0.38466784 0.28166226 0.15498314 0.09808102 0.04674363]\n"
     ]
    }
   ],
   "source": [
    "pca_new = PCA(n_components = 5)\n",
    "x_new = pca_new.fit_transform(x_train)\n",
    "explained_variance_new = pca_new.explained_variance_ratio_\n",
    "print(explained_variance_new)"
   ]
  },
  {
   "cell_type": "markdown",
   "metadata": {},
   "source": [
    "#### 4 PCA component contains 90% variance of Data. And also due to less number of features, will not used PCA vectore for the prediction"
   ]
  },
  {
   "cell_type": "code",
   "execution_count": 57,
   "metadata": {},
   "outputs": [],
   "source": [
    "\n",
    "# Function to calculate mean absolute error\n",
    "def f1_score_matric(y_true, y_pred):\n",
    "    from sklearn.metrics import f1_score\n",
    "    return f1_score(y_true,y_pred,average='micro')\n",
    "\n",
    "# Takes in a model, trains the model, and evaluates the model on the test set\n",
    "def fit_and_evaluate(model,x_train,y_train,x_test,y_test):\n",
    "    \n",
    "    # Train the model\n",
    "    model.fit(x_train,y_train,)\n",
    "    \n",
    "    # Make predictions and evalute\n",
    "    model_pred = model.predict(x_test)\n",
    "    print(classification_report(y_test,model_pred))\n",
    "    # Return the performance metric\n",
    "    return model,model_pred"
   ]
  },
  {
   "cell_type": "markdown",
   "metadata": {},
   "source": [
    "## Support Vector Machine"
   ]
  },
  {
   "cell_type": "code",
   "execution_count": 58,
   "metadata": {},
   "outputs": [
    {
     "name": "stdout",
     "output_type": "stream",
     "text": [
      "             precision    recall  f1-score   support\n",
      "\n",
      "         A+       0.00      0.00      0.00       572\n",
      "         B+       0.00      0.00      0.00       602\n",
      "         C+       0.00      0.00      0.00       637\n",
      "         D+       0.87      1.00      0.93     11607\n",
      "\n",
      "avg / total       0.75      0.87      0.80     13418\n",
      "\n"
     ]
    },
    {
     "name": "stderr",
     "output_type": "stream",
     "text": [
      "C:\\Users\\Rushikesh\\Anaconda3\\lib\\site-packages\\sklearn\\metrics\\classification.py:1135: UndefinedMetricWarning: Precision and F-score are ill-defined and being set to 0.0 in labels with no predicted samples.\n",
      "  'precision', 'predicted', average, warn_for)\n"
     ]
    }
   ],
   "source": [
    "svc = SVC()\n",
    "svc,svc_pred=fit_and_evaluate(svc,x_train,y_train,x_test,y_test)"
   ]
  },
  {
   "cell_type": "code",
   "execution_count": 59,
   "metadata": {},
   "outputs": [
    {
     "data": {
      "text/plain": [
       "array(['D+', 'D+', 'D+', ..., 'D+', 'D+', 'D+'], dtype=object)"
      ]
     },
     "execution_count": 59,
     "metadata": {},
     "output_type": "execute_result"
    }
   ],
   "source": [
    "svc_pred"
   ]
  },
  {
   "cell_type": "code",
   "execution_count": 60,
   "metadata": {},
   "outputs": [],
   "source": [
    "f1_score_svc=f1_score_matric(y_test, svc_pred)"
   ]
  },
  {
   "cell_type": "markdown",
   "metadata": {},
   "source": [
    "## Random Forest"
   ]
  },
  {
   "cell_type": "markdown",
   "metadata": {},
   "source": [
    "\n",
    "### (Selection of number of trees for optimization of random forest model)"
   ]
  },
  {
   "cell_type": "code",
   "execution_count": 61,
   "metadata": {},
   "outputs": [
    {
     "name": "stdout",
     "output_type": "stream",
     "text": [
      "[0.765762408704725, 0.6953346251304218, 0.8141302727679237, 0.8130868981964525, 0.8286629900134148, 0.8363392457892384, 0.8424504397078552, 0.8446862423610076, 0.8465494112386347]\n"
     ]
    }
   ],
   "source": [
    "n_range=range(1,10)\n",
    "n_scores=[]\n",
    "for n in n_range:\n",
    "    rfc = RandomForestClassifier(n_estimators=n)\n",
    "    rfc.fit(x_train, y_train)\n",
    "    pred_rfc = rfc.predict(x_test)\n",
    "    n_scores.append(accuracy_score(y_test, pred_rfc))\n",
    "print(n_scores)"
   ]
  },
  {
   "cell_type": "code",
   "execution_count": 62,
   "metadata": {},
   "outputs": [
    {
     "data": {
      "image/png": "[encoded data removed]",
      "text/plain": [
       "<matplotlib.figure.Figure at 0x1af61dc7400>"
      ]
     },
     "metadata": {},
     "output_type": "display_data"
    }
   ],
   "source": [
    "# Plot value of Number of random forest tress verses the cross validation accuracy\n",
    "plt.plot(n_range,n_scores)\n",
    "plt.xlabel('Number of Random forest tress')\n",
    "plt.ylabel('Accuracy score for Random forest')\n",
    "plt.show()"
   ]
  },
  {
   "cell_type": "markdown",
   "metadata": {},
   "source": [
    "From above graph, to get accuracy more than 84%, we can select 7 trees for random forest model"
   ]
  },
  {
   "cell_type": "code",
   "execution_count": 63,
   "metadata": {},
   "outputs": [
    {
     "name": "stdout",
     "output_type": "stream",
     "text": [
      "             precision    recall  f1-score   support\n",
      "\n",
      "         A+       0.18      0.11      0.14       572\n",
      "         B+       0.11      0.04      0.06       602\n",
      "         C+       0.11      0.04      0.05       637\n",
      "         D+       0.88      0.96      0.92     11607\n",
      "\n",
      "avg / total       0.78      0.84      0.80     13418\n",
      "\n"
     ]
    }
   ],
   "source": [
    "rfc = RandomForestClassifier(n_estimators=6)\n",
    "rfc,rfc_pred=fit_and_evaluate(rfc,x_train,y_train,x_test,y_test)"
   ]
  },
  {
   "cell_type": "code",
   "execution_count": 64,
   "metadata": {},
   "outputs": [],
   "source": [
    "f1_score_rfc=f1_score_matric(y_test,rfc_pred)"
   ]
  },
  {
   "cell_type": "markdown",
   "metadata": {},
   "source": [
    "## KNN\n",
    "### Optimization of the number of neighbours(K)"
   ]
  },
  {
   "cell_type": "code",
   "execution_count": 65,
   "metadata": {},
   "outputs": [
    {
     "name": "stdout",
     "output_type": "stream",
     "text": [
      "[0.7779102697868535, 0.7039797287226114, 0.8238187509315844, 0.8285139365032046, 0.8454315099120584, 0.8519898643613057, 0.8583246385452378, 0.8607840214637055, 0.861231181994336]\n"
     ]
    }
   ],
   "source": [
    "k_range=range(1,10)\n",
    "k_scores=[]\n",
    "for k in k_range:\n",
    "    knn = KNeighborsClassifier(n_neighbors=k)\n",
    "    knn.fit(x_train,y_train)\n",
    "    pred_knn = knn.predict(x_test)\n",
    "    k_scores.append(accuracy_score(y_test, pred_knn))\n",
    "print(k_scores)"
   ]
  },
  {
   "cell_type": "code",
   "execution_count": 66,
   "metadata": {},
   "outputs": [
    {
     "data": {
      "image/png": "[encoded data removed]",
      "text/plain": [
       "<matplotlib.figure.Figure at 0x1af67813c88>"
      ]
     },
     "metadata": {},
     "output_type": "display_data"
    }
   ],
   "source": [
    "# Plot value of K verses the cross validation accuracy\n",
    "plt.plot(k_range,k_scores)\n",
    "plt.xlabel('Value of K for KNN')\n",
    "plt.ylabel('Accuracy score for KNN')\n",
    "plt.show()"
   ]
  },
  {
   "cell_type": "markdown",
   "metadata": {},
   "source": [
    "#### From above graph, we can select k=8 for maximizing the accuracy"
   ]
  },
  {
   "cell_type": "code",
   "execution_count": 67,
   "metadata": {},
   "outputs": [
    {
     "name": "stdout",
     "output_type": "stream",
     "text": [
      "             precision    recall  f1-score   support\n",
      "\n",
      "         A+       0.24      0.05      0.08       572\n",
      "         B+       0.21      0.01      0.02       602\n",
      "         C+       0.18      0.01      0.02       637\n",
      "         D+       0.87      0.99      0.93     11607\n",
      "\n",
      "avg / total       0.78      0.86      0.81     13418\n",
      "\n"
     ]
    }
   ],
   "source": [
    "knn = KNeighborsClassifier(n_neighbors=8)\n",
    "knn,knn_pred=fit_and_evaluate(knn,x_train,y_train,x_test,y_test)"
   ]
  },
  {
   "cell_type": "code",
   "execution_count": 68,
   "metadata": {},
   "outputs": [],
   "source": [
    "f1_score_knn=f1_score_matric(y_test,knn_pred)"
   ]
  },
  {
   "cell_type": "markdown",
   "metadata": {},
   "source": [
    "## Model Comparison"
   ]
  },
  {
   "cell_type": "code",
   "execution_count": 69,
   "metadata": {},
   "outputs": [
    {
     "data": {
      "text/html": [
       "<div>\n",
       "<style scoped>\n",
       "    .dataframe tbody tr th:only-of-type {\n",
       "        vertical-align: middle;\n",
       "    }\n",
       "\n",
       "    .dataframe tbody tr th {\n",
       "        vertical-align: top;\n",
       "    }\n",
       "\n",
       "    .dataframe thead th {\n",
       "        text-align: right;\n",
       "    }\n",
       "</style>\n",
       "<table border=\"1\" class=\"dataframe\">\n",
       "  <thead>\n",
       "    <tr style=\"text-align: right;\">\n",
       "      <th></th>\n",
       "      <th>accuracies</th>\n",
       "      <th>models</th>\n",
       "    </tr>\n",
       "  </thead>\n",
       "  <tbody>\n",
       "    <tr>\n",
       "      <th>0</th>\n",
       "      <td>0.865032</td>\n",
       "      <td>SVC</td>\n",
       "    </tr>\n",
       "    <tr>\n",
       "      <th>1</th>\n",
       "      <td>0.836041</td>\n",
       "      <td>Random Forest</td>\n",
       "    </tr>\n",
       "    <tr>\n",
       "      <th>2</th>\n",
       "      <td>0.860784</td>\n",
       "      <td>KNN</td>\n",
       "    </tr>\n",
       "  </tbody>\n",
       "</table>\n",
       "</div>"
      ],
      "text/plain": [
       "   accuracies         models\n",
       "0    0.865032            SVC\n",
       "1    0.836041  Random Forest\n",
       "2    0.860784            KNN"
      ]
     },
     "execution_count": 69,
     "metadata": {},
     "output_type": "execute_result"
    }
   ],
   "source": [
    "conclusion_accuracies = pd.DataFrame({'models': [\"SVC\",\"Random Forest\",\"KNN\"],\n",
    "                           'accuracies': [accuracy_score(y_test,svc_pred),accuracy_score(y_test,rfc_pred),accuracy_score(y_test,knn_pred)]})\n",
    "conclusion_accuracies"
   ]
  },
  {
   "cell_type": "code",
   "execution_count": 70,
   "metadata": {},
   "outputs": [
    {
     "data": {
      "image/png": "[encoded data removed]",
      "text/plain": [
       "<matplotlib.figure.Figure at 0x1af61e3ab38>"
      ]
     },
     "metadata": {},
     "output_type": "display_data"
    }
   ],
   "source": [
    "plt.figure(figsize=(10,5))\n",
    "sns.pointplot(conclusion_accuracies['models'],conclusion_accuracies['accuracies'])\n",
    "plt.title('accuracies Vs Models')\n",
    "plt.show()"
   ]
  },
  {
   "cell_type": "code",
   "execution_count": 71,
   "metadata": {},
   "outputs": [
    {
     "data": {
      "text/html": [
       "<div>\n",
       "<style scoped>\n",
       "    .dataframe tbody tr th:only-of-type {\n",
       "        vertical-align: middle;\n",
       "    }\n",
       "\n",
       "    .dataframe tbody tr th {\n",
       "        vertical-align: top;\n",
       "    }\n",
       "\n",
       "    .dataframe thead th {\n",
       "        text-align: right;\n",
       "    }\n",
       "</style>\n",
       "<table border=\"1\" class=\"dataframe\">\n",
       "  <thead>\n",
       "    <tr style=\"text-align: right;\">\n",
       "      <th></th>\n",
       "      <th>f1_score</th>\n",
       "      <th>models</th>\n",
       "    </tr>\n",
       "  </thead>\n",
       "  <tbody>\n",
       "    <tr>\n",
       "      <th>0</th>\n",
       "      <td>0.865032</td>\n",
       "      <td>SVC</td>\n",
       "    </tr>\n",
       "    <tr>\n",
       "      <th>1</th>\n",
       "      <td>0.836041</td>\n",
       "      <td>Random Forest</td>\n",
       "    </tr>\n",
       "    <tr>\n",
       "      <th>2</th>\n",
       "      <td>0.860784</td>\n",
       "      <td>KNN</td>\n",
       "    </tr>\n",
       "  </tbody>\n",
       "</table>\n",
       "</div>"
      ],
      "text/plain": [
       "   f1_score         models\n",
       "0  0.865032            SVC\n",
       "1  0.836041  Random Forest\n",
       "2  0.860784            KNN"
      ]
     },
     "execution_count": 71,
     "metadata": {},
     "output_type": "execute_result"
    }
   ],
   "source": [
    "conclusion_f1_score = pd.DataFrame({'models': [\"SVC\",\"Random Forest\",\"KNN\"],\n",
    "                           'f1_score': [f1_score_svc,f1_score_rfc,f1_score_knn]})\n",
    "conclusion_f1_score"
   ]
  },
  {
   "cell_type": "code",
   "execution_count": 72,
   "metadata": {},
   "outputs": [
    {
     "data": {
      "image/png": "[encoded data removed]",
      "text/plain": [
       "<matplotlib.figure.Figure at 0x1af67781b38>"
      ]
     },
     "metadata": {},
     "output_type": "display_data"
    }
   ],
   "source": [
    "plt.figure(figsize=(10,5))\n",
    "sns.pointplot(conclusion_f1_score['models'],conclusion_f1_score['f1_score'])\n",
    "plt.title('f1_score Vs Models')\n",
    "plt.show()"
   ]
  },
  {
   "cell_type": "code",
   "execution_count": 73,
   "metadata": {},
   "outputs": [
    {
     "data": {
      "image/png": "[encoded data removed]",
      "text/plain": [
       "<matplotlib.figure.Figure at 0x1af67b55550>"
      ]
     },
     "metadata": {},
     "output_type": "display_data"
    }
   ],
   "source": [
    "plt.style.use('fivethirtyeight')\n",
    "figsize(8, 6)\n",
    "\n",
    "# Dataframe to hold the results\n",
    "model_comparison = pd.DataFrame({'model': ['SVC','Random Forest','K-Nearest Neighbors'],\n",
    "                                 'f1_score': [f1_score_svc, f1_score_rfc, f1_score_knn]})\n",
    "\n",
    "# Horizontal bar chart of test mae\n",
    "model_comparison.sort_values('f1_score', ascending = False).plot(x = 'model', y = 'f1_score', kind = 'barh',\n",
    "                                                           color = 'red', edgecolor = 'black')\n",
    "\n",
    "# Plot formatting\n",
    "plt.ylabel(''); plt.yticks(size = 14); plt.xlabel('Mean Absolute Error'); plt.xticks(size = 14)\n",
    "plt.title('Model Comparison on Test MAE', size = 20);"
   ]
  },
  {
   "cell_type": "markdown",
   "metadata": {},
   "source": [
    "### Remarks\n",
    "\n",
    "- **We can observe that, Support vector classifier and KNN has higher accuracy score followed by Random forest classifier**\n",
    "\n",
    "\n",
    "- **The F1 score obtained by Support vector classifier model is higher compared to Random forest and KNN model**\n",
    "\n",
    "\n",
    "- **Support Vector classifier required more computational time, when compared with Random forest and KNN model **\n",
    "\n",
    "\n",
    "- **All three models have nearly the  same accuracy, Hence we can select all three models for prediction of Grades on test data**\n"
   ]
  },
  {
   "cell_type": "markdown",
   "metadata": {},
   "source": [
    "## Test Data"
   ]
  },
  {
   "cell_type": "code",
   "execution_count": 74,
   "metadata": {},
   "outputs": [
    {
     "data": {
      "text/html": [
       "<div>\n",
       "<style scoped>\n",
       "    .dataframe tbody tr th:only-of-type {\n",
       "        vertical-align: middle;\n",
       "    }\n",
       "\n",
       "    .dataframe tbody tr th {\n",
       "        vertical-align: top;\n",
       "    }\n",
       "\n",
       "    .dataframe thead th {\n",
       "        text-align: right;\n",
       "    }\n",
       "</style>\n",
       "<table border=\"1\" class=\"dataframe\">\n",
       "  <thead>\n",
       "    <tr style=\"text-align: right;\">\n",
       "      <th></th>\n",
       "      <th>Sex</th>\n",
       "      <th>Age</th>\n",
       "      <th>Height</th>\n",
       "      <th>Weight</th>\n",
       "      <th>Team</th>\n",
       "      <th>Federation</th>\n",
       "      <th>Event</th>\n",
       "      <th>Year</th>\n",
       "      <th>Season</th>\n",
       "      <th>City</th>\n",
       "      <th>Sub Event</th>\n",
       "      <th>Id</th>\n",
       "      <th>GameID</th>\n",
       "      <th>Game</th>\n",
       "      <th>Record_Id</th>\n",
       "    </tr>\n",
       "  </thead>\n",
       "  <tbody>\n",
       "    <tr>\n",
       "      <th>0</th>\n",
       "      <td>M</td>\n",
       "      <td>19.0</td>\n",
       "      <td>NaN</td>\n",
       "      <td>NaN</td>\n",
       "      <td>France</td>\n",
       "      <td>FRA</td>\n",
       "      <td>1896 Summer</td>\n",
       "      <td>1896</td>\n",
       "      <td>down</td>\n",
       "      <td>Athina</td>\n",
       "      <td>Cycling Men's 333 metres Time Trial</td>\n",
       "      <td>candidate-98663</td>\n",
       "      <td>Game 5</td>\n",
       "      <td>Cycling</td>\n",
       "      <td>0e08dc19-1611-4701-84b2-e67e031febfe</td>\n",
       "    </tr>\n",
       "    <tr>\n",
       "      <th>1</th>\n",
       "      <td>M</td>\n",
       "      <td>20.0</td>\n",
       "      <td>NaN</td>\n",
       "      <td>NaN</td>\n",
       "      <td>Great Britain/Germany</td>\n",
       "      <td>GER</td>\n",
       "      <td>1896 Summer</td>\n",
       "      <td>1896</td>\n",
       "      <td>down</td>\n",
       "      <td>Athina</td>\n",
       "      <td>Tennis Men's Doubles</td>\n",
       "      <td>candidate-38391</td>\n",
       "      <td>Game 28</td>\n",
       "      <td>Tennis</td>\n",
       "      <td>16c28bd8-e98e-4faf-9a20-65db7ce7d6b7</td>\n",
       "    </tr>\n",
       "    <tr>\n",
       "      <th>2</th>\n",
       "      <td>M</td>\n",
       "      <td>33.0</td>\n",
       "      <td>NaN</td>\n",
       "      <td>NaN</td>\n",
       "      <td>Foxhunters Hurlingham</td>\n",
       "      <td>GBR</td>\n",
       "      <td>1900 Summer</td>\n",
       "      <td>1900</td>\n",
       "      <td>down</td>\n",
       "      <td>Paris</td>\n",
       "      <td>Polo Men's Polo</td>\n",
       "      <td>candidate-4908</td>\n",
       "      <td>Game 55</td>\n",
       "      <td>Polo</td>\n",
       "      <td>d0dbb0f3-c381-415e-a3e3-746f49c764f3</td>\n",
       "    </tr>\n",
       "    <tr>\n",
       "      <th>3</th>\n",
       "      <td>M</td>\n",
       "      <td>25.0</td>\n",
       "      <td>NaN</td>\n",
       "      <td>NaN</td>\n",
       "      <td>Union des Socits Franais de Sports Athletiques</td>\n",
       "      <td>FRA</td>\n",
       "      <td>1900 Summer</td>\n",
       "      <td>1900</td>\n",
       "      <td>down</td>\n",
       "      <td>Paris</td>\n",
       "      <td>Rugby Men's Rugby</td>\n",
       "      <td>candidate-12950</td>\n",
       "      <td>Game 53</td>\n",
       "      <td>Rugby</td>\n",
       "      <td>0dd6ebbe-3656-453a-9e96-9923c1b17a67</td>\n",
       "    </tr>\n",
       "    <tr>\n",
       "      <th>4</th>\n",
       "      <td>M</td>\n",
       "      <td>21.0</td>\n",
       "      <td>NaN</td>\n",
       "      <td>NaN</td>\n",
       "      <td>Devon and Somerset Wanderers</td>\n",
       "      <td>GBR</td>\n",
       "      <td>1900 Summer</td>\n",
       "      <td>1900</td>\n",
       "      <td>down</td>\n",
       "      <td>Paris</td>\n",
       "      <td>Cricket Men's Cricket</td>\n",
       "      <td>candidate-61508</td>\n",
       "      <td>Game 58</td>\n",
       "      <td>Cricket</td>\n",
       "      <td>9493ce7e-253b-4fec-b3a6-f71acae3273e</td>\n",
       "    </tr>\n",
       "  </tbody>\n",
       "</table>\n",
       "</div>"
      ],
      "text/plain": [
       "  Sex   Age  Height  Weight                                            Team  \\\n",
       "0   M  19.0     NaN     NaN                                          France   \n",
       "1   M  20.0     NaN     NaN                           Great Britain/Germany   \n",
       "2   M  33.0     NaN     NaN                           Foxhunters Hurlingham   \n",
       "3   M  25.0     NaN     NaN  Union des Socits Franais de Sports Athletiques   \n",
       "4   M  21.0     NaN     NaN                    Devon and Somerset Wanderers   \n",
       "\n",
       "  Federation        Event  Year Season    City  \\\n",
       "0        FRA  1896 Summer  1896   down  Athina   \n",
       "1        GER  1896 Summer  1896   down  Athina   \n",
       "2        GBR  1900 Summer  1900   down   Paris   \n",
       "3        FRA  1900 Summer  1900   down   Paris   \n",
       "4        GBR  1900 Summer  1900   down   Paris   \n",
       "\n",
       "                             Sub Event               Id   GameID     Game  \\\n",
       "0  Cycling Men's 333 metres Time Trial  candidate-98663   Game 5  Cycling   \n",
       "1                 Tennis Men's Doubles  candidate-38391  Game 28   Tennis   \n",
       "2                      Polo Men's Polo   candidate-4908  Game 55     Polo   \n",
       "3                    Rugby Men's Rugby  candidate-12950  Game 53    Rugby   \n",
       "4                Cricket Men's Cricket  candidate-61508  Game 58  Cricket   \n",
       "\n",
       "                              Record_Id  \n",
       "0  0e08dc19-1611-4701-84b2-e67e031febfe  \n",
       "1  16c28bd8-e98e-4faf-9a20-65db7ce7d6b7  \n",
       "2  d0dbb0f3-c381-415e-a3e3-746f49c764f3  \n",
       "3  0dd6ebbe-3656-453a-9e96-9923c1b17a67  \n",
       "4  9493ce7e-253b-4fec-b3a6-f71acae3273e  "
      ]
     },
     "execution_count": 74,
     "metadata": {},
     "output_type": "execute_result"
    }
   ],
   "source": [
    "# Read in the data set\n",
    "df_test = pd.read_csv('Test_data.csv')\n",
    "df_test.head()"
   ]
  },
  {
   "cell_type": "code",
   "execution_count": 75,
   "metadata": {},
   "outputs": [
    {
     "name": "stdout",
     "output_type": "stream",
     "text": [
      "<class 'pandas.core.frame.DataFrame'>\n",
      "RangeIndex: 8974 entries, 0 to 8973\n",
      "Data columns (total 15 columns):\n",
      "Sex           8974 non-null object\n",
      "Age           8664 non-null float64\n",
      "Height        7015 non-null float64\n",
      "Weight        6900 non-null float64\n",
      "Team          8974 non-null object\n",
      "Federation    8974 non-null object\n",
      "Event         8974 non-null object\n",
      "Year          8974 non-null int64\n",
      "Season        8974 non-null object\n",
      "City          8974 non-null object\n",
      "Sub Event     8974 non-null object\n",
      "Id            8974 non-null object\n",
      "GameID        8974 non-null object\n",
      "Game          8974 non-null object\n",
      "Record_Id     8974 non-null object\n",
      "dtypes: float64(3), int64(1), object(11)\n",
      "memory usage: 1.0+ MB\n"
     ]
    }
   ],
   "source": [
    "df_test.info()"
   ]
  },
  {
   "cell_type": "code",
   "execution_count": 76,
   "metadata": {},
   "outputs": [
    {
     "data": {
      "text/plain": [
       "(8974, 15)"
      ]
     },
     "execution_count": 76,
     "metadata": {},
     "output_type": "execute_result"
    }
   ],
   "source": [
    "df_test.shape"
   ]
  },
  {
   "cell_type": "code",
   "execution_count": 77,
   "metadata": {},
   "outputs": [
    {
     "name": "stdout",
     "output_type": "stream",
     "text": [
      "Sex              0\n",
      "Age            310\n",
      "Height        1959\n",
      "Weight        2074\n",
      "Team             0\n",
      "Federation       0\n",
      "Event            0\n",
      "Year             0\n",
      "Season           0\n",
      "City             0\n",
      "Sub Event        0\n",
      "Id               0\n",
      "GameID           0\n",
      "Game             0\n",
      "Record_Id        0\n",
      "dtype: int64\n"
     ]
    }
   ],
   "source": [
    "print(df_test.isnull().sum())"
   ]
  },
  {
   "cell_type": "markdown",
   "metadata": {},
   "source": [
    "#### Test data has missing values, we can used mediun as imputer"
   ]
  },
  {
   "cell_type": "markdown",
   "metadata": {},
   "source": [
    "#### Merge Population data with test data "
   ]
  },
  {
   "cell_type": "code",
   "execution_count": 78,
   "metadata": {},
   "outputs": [],
   "source": [
    "df_test_wpop=df_test.merge(w_pop,left_on = ['Team', 'Year'],\n",
    "                     right_on= ['Country', 'Year'],how = 'left')"
   ]
  },
  {
   "cell_type": "code",
   "execution_count": 79,
   "metadata": {},
   "outputs": [
    {
     "data": {
      "text/plain": [
       "(8974, 18)"
      ]
     },
     "execution_count": 79,
     "metadata": {},
     "output_type": "execute_result"
    }
   ],
   "source": [
    "df_test_wpop.shape"
   ]
  },
  {
   "cell_type": "code",
   "execution_count": 80,
   "metadata": {},
   "outputs": [],
   "source": [
    "df_test_wpop=df_test_wpop.drop(columns=['Country','Country Code'])"
   ]
  },
  {
   "cell_type": "markdown",
   "metadata": {},
   "source": [
    "#### Merge GDP data with test data "
   ]
  },
  {
   "cell_type": "code",
   "execution_count": 81,
   "metadata": {},
   "outputs": [
    {
     "data": {
      "text/html": [
       "<div>\n",
       "<style scoped>\n",
       "    .dataframe tbody tr th:only-of-type {\n",
       "        vertical-align: middle;\n",
       "    }\n",
       "\n",
       "    .dataframe tbody tr th {\n",
       "        vertical-align: top;\n",
       "    }\n",
       "\n",
       "    .dataframe thead th {\n",
       "        text-align: right;\n",
       "    }\n",
       "</style>\n",
       "<table border=\"1\" class=\"dataframe\">\n",
       "  <thead>\n",
       "    <tr style=\"text-align: right;\">\n",
       "      <th></th>\n",
       "      <th>Country Name</th>\n",
       "      <th>Country Code</th>\n",
       "      <th>Year</th>\n",
       "      <th>GDP</th>\n",
       "    </tr>\n",
       "  </thead>\n",
       "  <tbody>\n",
       "    <tr>\n",
       "      <th>0</th>\n",
       "      <td>Afghanistan</td>\n",
       "      <td>AFG</td>\n",
       "      <td>1960</td>\n",
       "      <td>5.377778e+08</td>\n",
       "    </tr>\n",
       "    <tr>\n",
       "      <th>1</th>\n",
       "      <td>Albania</td>\n",
       "      <td>ALB</td>\n",
       "      <td>1960</td>\n",
       "      <td>NaN</td>\n",
       "    </tr>\n",
       "    <tr>\n",
       "      <th>2</th>\n",
       "      <td>Algeria</td>\n",
       "      <td>DZA</td>\n",
       "      <td>1960</td>\n",
       "      <td>2.723649e+09</td>\n",
       "    </tr>\n",
       "    <tr>\n",
       "      <th>3</th>\n",
       "      <td>American Samoa</td>\n",
       "      <td>ASM</td>\n",
       "      <td>1960</td>\n",
       "      <td>NaN</td>\n",
       "    </tr>\n",
       "    <tr>\n",
       "      <th>4</th>\n",
       "      <td>Andorra</td>\n",
       "      <td>AND</td>\n",
       "      <td>1960</td>\n",
       "      <td>NaN</td>\n",
       "    </tr>\n",
       "  </tbody>\n",
       "</table>\n",
       "</div>"
      ],
      "text/plain": [
       "     Country Name Country Code  Year           GDP\n",
       "0     Afghanistan          AFG  1960  5.377778e+08\n",
       "1         Albania          ALB  1960           NaN\n",
       "2         Algeria          DZA  1960  2.723649e+09\n",
       "3  American Samoa          ASM  1960           NaN\n",
       "4         Andorra          AND  1960           NaN"
      ]
     },
     "execution_count": 81,
     "metadata": {},
     "output_type": "execute_result"
    }
   ],
   "source": [
    "w_gdp.head()"
   ]
  },
  {
   "cell_type": "code",
   "execution_count": 82,
   "metadata": {},
   "outputs": [],
   "source": [
    "df_test_wpop_gdp=df_test_wpop.merge(w_gdp,left_on = ['Team', 'Year'],\n",
    "                     right_on= ['Country Name', 'Year'],how = 'left')\n",
    "df_test_wpop_gdp=df_test_wpop_gdp.drop(columns=['Country Name','Country Code'])"
   ]
  },
  {
   "cell_type": "code",
   "execution_count": 83,
   "metadata": {},
   "outputs": [
    {
     "data": {
      "text/plain": [
       "(8974, 17)"
      ]
     },
     "execution_count": 83,
     "metadata": {},
     "output_type": "execute_result"
    }
   ],
   "source": [
    "df_test_wpop_gdp.shape"
   ]
  },
  {
   "cell_type": "markdown",
   "metadata": {},
   "source": [
    "#### Missing data"
   ]
  },
  {
   "cell_type": "markdown",
   "metadata": {},
   "source": [
    "#### Label Encoding"
   ]
  },
  {
   "cell_type": "code",
   "execution_count": 84,
   "metadata": {},
   "outputs": [],
   "source": [
    "df_test_wpop_gdp['Sex_encode']=label_encoder.transform(df_test_wpop_gdp['Sex'])\n",
    "df_test_wpop_gdp.head()\n",
    "df_test_wpop_gdp=df_test_wpop_gdp.drop(columns='Sex')"
   ]
  },
  {
   "cell_type": "code",
   "execution_count": 85,
   "metadata": {},
   "outputs": [
    {
     "data": {
      "text/html": [
       "<div>\n",
       "<style scoped>\n",
       "    .dataframe tbody tr th:only-of-type {\n",
       "        vertical-align: middle;\n",
       "    }\n",
       "\n",
       "    .dataframe tbody tr th {\n",
       "        vertical-align: top;\n",
       "    }\n",
       "\n",
       "    .dataframe thead th {\n",
       "        text-align: right;\n",
       "    }\n",
       "</style>\n",
       "<table border=\"1\" class=\"dataframe\">\n",
       "  <thead>\n",
       "    <tr style=\"text-align: right;\">\n",
       "      <th></th>\n",
       "      <th>Age</th>\n",
       "      <th>Height</th>\n",
       "      <th>Weight</th>\n",
       "      <th>Team</th>\n",
       "      <th>Federation</th>\n",
       "      <th>Event</th>\n",
       "      <th>Year</th>\n",
       "      <th>Season</th>\n",
       "      <th>City</th>\n",
       "      <th>Sub Event</th>\n",
       "      <th>Id</th>\n",
       "      <th>GameID</th>\n",
       "      <th>Game</th>\n",
       "      <th>Record_Id</th>\n",
       "      <th>Population</th>\n",
       "      <th>GDP</th>\n",
       "      <th>Sex_encode</th>\n",
       "    </tr>\n",
       "  </thead>\n",
       "  <tbody>\n",
       "    <tr>\n",
       "      <th>8969</th>\n",
       "      <td>24.0</td>\n",
       "      <td>175.0</td>\n",
       "      <td>65.0</td>\n",
       "      <td>Italy</td>\n",
       "      <td>ITA</td>\n",
       "      <td>2016 Summer</td>\n",
       "      <td>2016</td>\n",
       "      <td>down</td>\n",
       "      <td>Rio de Janeiro</td>\n",
       "      <td>Swimming Women's 4 x 200 metres Freestyle Relay</td>\n",
       "      <td>candidate-84026</td>\n",
       "      <td>Game 3</td>\n",
       "      <td>Swimming</td>\n",
       "      <td>ad1e3f17-4b9b-4701-a965-f9a8dfd1d430</td>\n",
       "      <td>60600590.0</td>\n",
       "      <td>1.858910e+12</td>\n",
       "      <td>0</td>\n",
       "    </tr>\n",
       "    <tr>\n",
       "      <th>8970</th>\n",
       "      <td>21.0</td>\n",
       "      <td>173.0</td>\n",
       "      <td>69.0</td>\n",
       "      <td>Tonga</td>\n",
       "      <td>TGA</td>\n",
       "      <td>2016 Summer</td>\n",
       "      <td>2016</td>\n",
       "      <td>down</td>\n",
       "      <td>Rio de Janeiro</td>\n",
       "      <td>Athletics Men's 100 metres</td>\n",
       "      <td>candidate-114880</td>\n",
       "      <td>Game 1</td>\n",
       "      <td>Athletics</td>\n",
       "      <td>5e337b0b-794f-4244-bcfc-f2f80fc29552</td>\n",
       "      <td>107122.0</td>\n",
       "      <td>4.015620e+08</td>\n",
       "      <td>1</td>\n",
       "    </tr>\n",
       "    <tr>\n",
       "      <th>8971</th>\n",
       "      <td>30.0</td>\n",
       "      <td>176.0</td>\n",
       "      <td>76.0</td>\n",
       "      <td>Japan</td>\n",
       "      <td>JPN</td>\n",
       "      <td>2016 Summer</td>\n",
       "      <td>2016</td>\n",
       "      <td>down</td>\n",
       "      <td>Rio de Janeiro</td>\n",
       "      <td>Golf Men's Individual</td>\n",
       "      <td>candidate-132378</td>\n",
       "      <td>Game 50</td>\n",
       "      <td>Golf</td>\n",
       "      <td>bc1f8788-1a1a-4c1b-a756-a89cfc391b71</td>\n",
       "      <td>126994511.0</td>\n",
       "      <td>4.940160e+12</td>\n",
       "      <td>1</td>\n",
       "    </tr>\n",
       "    <tr>\n",
       "      <th>8972</th>\n",
       "      <td>24.0</td>\n",
       "      <td>173.0</td>\n",
       "      <td>64.0</td>\n",
       "      <td>Azerbaijan</td>\n",
       "      <td>AZE</td>\n",
       "      <td>2016 Summer</td>\n",
       "      <td>2016</td>\n",
       "      <td>down</td>\n",
       "      <td>Rio de Janeiro</td>\n",
       "      <td>Gymnastics Men's Rings</td>\n",
       "      <td>candidate-100965</td>\n",
       "      <td>Game 2</td>\n",
       "      <td>Gymnastics</td>\n",
       "      <td>3daf7f0c-d9da-453e-aba4-5c4d2c03a7d8</td>\n",
       "      <td>9762274.0</td>\n",
       "      <td>3.784772e+10</td>\n",
       "      <td>1</td>\n",
       "    </tr>\n",
       "    <tr>\n",
       "      <th>8973</th>\n",
       "      <td>19.0</td>\n",
       "      <td>175.0</td>\n",
       "      <td>68.0</td>\n",
       "      <td>Czech Republic</td>\n",
       "      <td>CZE</td>\n",
       "      <td>2016 Summer</td>\n",
       "      <td>2016</td>\n",
       "      <td>down</td>\n",
       "      <td>Rio de Janeiro</td>\n",
       "      <td>Gymnastics Men's Parallel Bars</td>\n",
       "      <td>candidate-25532</td>\n",
       "      <td>Game 2</td>\n",
       "      <td>Gymnastics</td>\n",
       "      <td>ebb64927-a3b5-4899-80f7-a548fe475d89</td>\n",
       "      <td>10561633.0</td>\n",
       "      <td>1.953050e+11</td>\n",
       "      <td>1</td>\n",
       "    </tr>\n",
       "  </tbody>\n",
       "</table>\n",
       "</div>"
      ],
      "text/plain": [
       "       Age  Height  Weight            Team Federation        Event  Year  \\\n",
       "8969  24.0   175.0    65.0           Italy        ITA  2016 Summer  2016   \n",
       "8970  21.0   173.0    69.0           Tonga        TGA  2016 Summer  2016   \n",
       "8971  30.0   176.0    76.0           Japan        JPN  2016 Summer  2016   \n",
       "8972  24.0   173.0    64.0      Azerbaijan        AZE  2016 Summer  2016   \n",
       "8973  19.0   175.0    68.0  Czech Republic        CZE  2016 Summer  2016   \n",
       "\n",
       "     Season            City                                        Sub Event  \\\n",
       "8969   down  Rio de Janeiro  Swimming Women's 4 x 200 metres Freestyle Relay   \n",
       "8970   down  Rio de Janeiro                       Athletics Men's 100 metres   \n",
       "8971   down  Rio de Janeiro                            Golf Men's Individual   \n",
       "8972   down  Rio de Janeiro                           Gymnastics Men's Rings   \n",
       "8973   down  Rio de Janeiro                   Gymnastics Men's Parallel Bars   \n",
       "\n",
       "                    Id   GameID        Game  \\\n",
       "8969   candidate-84026   Game 3    Swimming   \n",
       "8970  candidate-114880   Game 1   Athletics   \n",
       "8971  candidate-132378  Game 50        Golf   \n",
       "8972  candidate-100965   Game 2  Gymnastics   \n",
       "8973   candidate-25532   Game 2  Gymnastics   \n",
       "\n",
       "                                 Record_Id   Population           GDP  \\\n",
       "8969  ad1e3f17-4b9b-4701-a965-f9a8dfd1d430   60600590.0  1.858910e+12   \n",
       "8970  5e337b0b-794f-4244-bcfc-f2f80fc29552     107122.0  4.015620e+08   \n",
       "8971  bc1f8788-1a1a-4c1b-a756-a89cfc391b71  126994511.0  4.940160e+12   \n",
       "8972  3daf7f0c-d9da-453e-aba4-5c4d2c03a7d8    9762274.0  3.784772e+10   \n",
       "8973  ebb64927-a3b5-4899-80f7-a548fe475d89   10561633.0  1.953050e+11   \n",
       "\n",
       "      Sex_encode  \n",
       "8969           0  \n",
       "8970           1  \n",
       "8971           1  \n",
       "8972           1  \n",
       "8973           1  "
      ]
     },
     "execution_count": 85,
     "metadata": {},
     "output_type": "execute_result"
    }
   ],
   "source": [
    "df_test_wpop_gdp.tail()"
   ]
  },
  {
   "cell_type": "code",
   "execution_count": 86,
   "metadata": {},
   "outputs": [
    {
     "name": "stdout",
     "output_type": "stream",
     "text": [
      "<class 'pandas.core.frame.DataFrame'>\n",
      "Int64Index: 8974 entries, 0 to 8973\n",
      "Data columns (total 17 columns):\n",
      "Age           8664 non-null float64\n",
      "Height        7015 non-null float64\n",
      "Weight        6900 non-null float64\n",
      "Team          8974 non-null object\n",
      "Federation    8974 non-null object\n",
      "Event         8974 non-null object\n",
      "Year          8974 non-null int64\n",
      "Season        8974 non-null object\n",
      "City          8974 non-null object\n",
      "Sub Event     8974 non-null object\n",
      "Id            8974 non-null object\n",
      "GameID        8974 non-null object\n",
      "Game          8974 non-null object\n",
      "Record_Id     8974 non-null object\n",
      "Population    5270 non-null float64\n",
      "GDP           5105 non-null float64\n",
      "Sex_encode    8974 non-null int64\n",
      "dtypes: float64(5), int64(2), object(10)\n",
      "memory usage: 1.2+ MB\n"
     ]
    }
   ],
   "source": [
    "df_test_wpop_gdp.info()"
   ]
  },
  {
   "cell_type": "markdown",
   "metadata": {},
   "source": [
    "### Data preparation"
   ]
  },
  {
   "cell_type": "code",
   "execution_count": 87,
   "metadata": {},
   "outputs": [],
   "source": [
    "# take the log transforms for the variables\n",
    "df_test_wpop_gdp['Log_Population'] = np.log(df_test_wpop_gdp['Population'])\n",
    "df_test_wpop_gdp['Log_GDP'] = np.log(df_test_wpop_gdp['GDP'])"
   ]
  },
  {
   "cell_type": "code",
   "execution_count": 88,
   "metadata": {},
   "outputs": [],
   "source": [
    "df_test_wpop_gdp_filter=df_test_wpop_gdp[['Age', 'Height', 'Weight', 'Log_Population', 'Log_GDP', 'Sex_encode']]"
   ]
  },
  {
   "cell_type": "code",
   "execution_count": 89,
   "metadata": {},
   "outputs": [
    {
     "name": "stdout",
     "output_type": "stream",
     "text": [
      "<class 'pandas.core.frame.DataFrame'>\n",
      "Int64Index: 8974 entries, 0 to 8973\n",
      "Data columns (total 6 columns):\n",
      "Age               8664 non-null float64\n",
      "Height            7015 non-null float64\n",
      "Weight            6900 non-null float64\n",
      "Log_Population    5270 non-null float64\n",
      "Log_GDP           5105 non-null float64\n",
      "Sex_encode        8974 non-null int64\n",
      "dtypes: float64(5), int64(1)\n",
      "memory usage: 490.8 KB\n"
     ]
    }
   ],
   "source": [
    "df_test_wpop_gdp_filter.info()"
   ]
  },
  {
   "cell_type": "code",
   "execution_count": 90,
   "metadata": {},
   "outputs": [
    {
     "data": {
      "text/plain": [
       "(8974, 6)"
      ]
     },
     "execution_count": 90,
     "metadata": {},
     "output_type": "execute_result"
    }
   ],
   "source": [
    "df_test_wpop_gdp_filter.shape"
   ]
  },
  {
   "cell_type": "code",
   "execution_count": 91,
   "metadata": {},
   "outputs": [],
   "source": [
    "#df_test_wpop_gdp_filter=df_test_wpop_gdp_filter.dropna()"
   ]
  },
  {
   "cell_type": "markdown",
   "metadata": {},
   "source": [
    "#### Imputation and Scaling"
   ]
  },
  {
   "cell_type": "code",
   "execution_count": 92,
   "metadata": {},
   "outputs": [],
   "source": [
    "df_test_wpop_gdp_filter=imputer.transform(df_test_wpop_gdp_filter)\n",
    "x_test_complete=sc_x.transform(df_test_wpop_gdp_filter)"
   ]
  },
  {
   "cell_type": "markdown",
   "metadata": {},
   "source": [
    "### Prediction"
   ]
  },
  {
   "cell_type": "markdown",
   "metadata": {},
   "source": [
    "#### Support Vector Classifier"
   ]
  },
  {
   "cell_type": "code",
   "execution_count": 93,
   "metadata": {},
   "outputs": [
    {
     "name": "stdout",
     "output_type": "stream",
     "text": [
      "Counter({'D+': 8974})\n"
     ]
    },
    {
     "data": {
      "text/plain": [
       "<matplotlib.axes._subplots.AxesSubplot at 0x1af7cabefd0>"
      ]
     },
     "execution_count": 93,
     "metadata": {},
     "output_type": "execute_result"
    },
    {
     "data": {
      "image/png": "[encoded data removed]",
      "text/plain": [
       "<matplotlib.figure.Figure at 0x1af7cabebe0>"
      ]
     },
     "metadata": {},
     "output_type": "display_data"
    }
   ],
   "source": [
    "x_prediction_svc=svc.predict(x_test_complete)\n",
    "df_test_wpop_gdp['Prediction_svc']=x_prediction_svc\n",
    "print(Counter(df_test_wpop_gdp['Prediction_svc']))\n",
    "df_test_wpop_gdp['Prediction_svc'].value_counts().plot(kind='bar')"
   ]
  },
  {
   "cell_type": "markdown",
   "metadata": {},
   "source": [
    "#### Random Forest Classifier"
   ]
  },
  {
   "cell_type": "code",
   "execution_count": 94,
   "metadata": {},
   "outputs": [
    {
     "name": "stdout",
     "output_type": "stream",
     "text": [
      "Counter({'D+': 8465, 'A+': 247, 'C+': 139, 'B+': 123})\n"
     ]
    },
    {
     "data": {
      "text/plain": [
       "<matplotlib.axes._subplots.AxesSubplot at 0x1af7cabe6a0>"
      ]
     },
     "execution_count": 94,
     "metadata": {},
     "output_type": "execute_result"
    },
    {
     "data": {
      "image/png": "[encoded data removed]",
      "text/plain": [
       "<matplotlib.figure.Figure at 0x1af7cacddd8>"
      ]
     },
     "metadata": {},
     "output_type": "display_data"
    }
   ],
   "source": [
    "x_prediction_rfc=rfc.predict(x_test_complete)\n",
    "df_test_wpop_gdp['Prediction_rfc']=x_prediction_rfc\n",
    "print(Counter(df_test_wpop_gdp['Prediction_rfc']))\n",
    "df_test_wpop_gdp['Prediction_rfc'].value_counts().plot(kind='bar')"
   ]
  },
  {
   "cell_type": "markdown",
   "metadata": {},
   "source": [
    "#### K-Nearest Neighbour"
   ]
  },
  {
   "cell_type": "code",
   "execution_count": 95,
   "metadata": {},
   "outputs": [
    {
     "name": "stdout",
     "output_type": "stream",
     "text": [
      "Counter({'D+': 8770, 'A+': 109, 'C+': 72, 'B+': 23})\n"
     ]
    },
    {
     "data": {
      "text/plain": [
       "<matplotlib.axes._subplots.AxesSubplot at 0x1af7cb32668>"
      ]
     },
     "execution_count": 95,
     "metadata": {},
     "output_type": "execute_result"
    },
    {
     "data": {
      "image/png": "[encoded data removed]",
      "text/plain": [
       "<matplotlib.figure.Figure at 0x1af7cb71748>"
      ]
     },
     "metadata": {},
     "output_type": "display_data"
    }
   ],
   "source": [
    "x_prediction_knn=knn.predict(x_test_complete)\n",
    "df_test_wpop_gdp['Prediction_knn']=x_prediction_knn\n",
    "print(Counter(df_test_wpop_gdp['Prediction_knn']))\n",
    "df_test_wpop_gdp['Prediction_knn'].value_counts().plot(kind='bar')"
   ]
  },
  {
   "cell_type": "code",
   "execution_count": 98,
   "metadata": {},
   "outputs": [
    {
     "data": {
      "text/html": [
       "<div>\n",
       "<style scoped>\n",
       "    .dataframe tbody tr th:only-of-type {\n",
       "        vertical-align: middle;\n",
       "    }\n",
       "\n",
       "    .dataframe tbody tr th {\n",
       "        vertical-align: top;\n",
       "    }\n",
       "\n",
       "    .dataframe thead th {\n",
       "        text-align: right;\n",
       "    }\n",
       "</style>\n",
       "<table border=\"1\" class=\"dataframe\">\n",
       "  <thead>\n",
       "    <tr style=\"text-align: right;\">\n",
       "      <th></th>\n",
       "      <th>Age</th>\n",
       "      <th>Height</th>\n",
       "      <th>Weight</th>\n",
       "      <th>Team</th>\n",
       "      <th>Federation</th>\n",
       "      <th>Event</th>\n",
       "      <th>Year</th>\n",
       "      <th>Season</th>\n",
       "      <th>City</th>\n",
       "      <th>Sub Event</th>\n",
       "      <th>...</th>\n",
       "      <th>Game</th>\n",
       "      <th>Record_Id</th>\n",
       "      <th>Population</th>\n",
       "      <th>GDP</th>\n",
       "      <th>Sex_encode</th>\n",
       "      <th>Log_Population</th>\n",
       "      <th>Log_GDP</th>\n",
       "      <th>Prediction_svc</th>\n",
       "      <th>Prediction_rfc</th>\n",
       "      <th>Prediction_knn</th>\n",
       "    </tr>\n",
       "  </thead>\n",
       "  <tbody>\n",
       "    <tr>\n",
       "      <th>0</th>\n",
       "      <td>19.0</td>\n",
       "      <td>NaN</td>\n",
       "      <td>NaN</td>\n",
       "      <td>France</td>\n",
       "      <td>FRA</td>\n",
       "      <td>1896 Summer</td>\n",
       "      <td>1896</td>\n",
       "      <td>down</td>\n",
       "      <td>Athina</td>\n",
       "      <td>Cycling Men's 333 metres Time Trial</td>\n",
       "      <td>...</td>\n",
       "      <td>Cycling</td>\n",
       "      <td>0e08dc19-1611-4701-84b2-e67e031febfe</td>\n",
       "      <td>NaN</td>\n",
       "      <td>NaN</td>\n",
       "      <td>1</td>\n",
       "      <td>NaN</td>\n",
       "      <td>NaN</td>\n",
       "      <td>D+</td>\n",
       "      <td>D+</td>\n",
       "      <td>D+</td>\n",
       "    </tr>\n",
       "    <tr>\n",
       "      <th>1</th>\n",
       "      <td>20.0</td>\n",
       "      <td>NaN</td>\n",
       "      <td>NaN</td>\n",
       "      <td>Great Britain/Germany</td>\n",
       "      <td>GER</td>\n",
       "      <td>1896 Summer</td>\n",
       "      <td>1896</td>\n",
       "      <td>down</td>\n",
       "      <td>Athina</td>\n",
       "      <td>Tennis Men's Doubles</td>\n",
       "      <td>...</td>\n",
       "      <td>Tennis</td>\n",
       "      <td>16c28bd8-e98e-4faf-9a20-65db7ce7d6b7</td>\n",
       "      <td>NaN</td>\n",
       "      <td>NaN</td>\n",
       "      <td>1</td>\n",
       "      <td>NaN</td>\n",
       "      <td>NaN</td>\n",
       "      <td>D+</td>\n",
       "      <td>D+</td>\n",
       "      <td>D+</td>\n",
       "    </tr>\n",
       "    <tr>\n",
       "      <th>2</th>\n",
       "      <td>33.0</td>\n",
       "      <td>NaN</td>\n",
       "      <td>NaN</td>\n",
       "      <td>Foxhunters Hurlingham</td>\n",
       "      <td>GBR</td>\n",
       "      <td>1900 Summer</td>\n",
       "      <td>1900</td>\n",
       "      <td>down</td>\n",
       "      <td>Paris</td>\n",
       "      <td>Polo Men's Polo</td>\n",
       "      <td>...</td>\n",
       "      <td>Polo</td>\n",
       "      <td>d0dbb0f3-c381-415e-a3e3-746f49c764f3</td>\n",
       "      <td>NaN</td>\n",
       "      <td>NaN</td>\n",
       "      <td>1</td>\n",
       "      <td>NaN</td>\n",
       "      <td>NaN</td>\n",
       "      <td>D+</td>\n",
       "      <td>D+</td>\n",
       "      <td>D+</td>\n",
       "    </tr>\n",
       "    <tr>\n",
       "      <th>3</th>\n",
       "      <td>25.0</td>\n",
       "      <td>NaN</td>\n",
       "      <td>NaN</td>\n",
       "      <td>Union des Socits Franais de Sports Athletiques</td>\n",
       "      <td>FRA</td>\n",
       "      <td>1900 Summer</td>\n",
       "      <td>1900</td>\n",
       "      <td>down</td>\n",
       "      <td>Paris</td>\n",
       "      <td>Rugby Men's Rugby</td>\n",
       "      <td>...</td>\n",
       "      <td>Rugby</td>\n",
       "      <td>0dd6ebbe-3656-453a-9e96-9923c1b17a67</td>\n",
       "      <td>NaN</td>\n",
       "      <td>NaN</td>\n",
       "      <td>1</td>\n",
       "      <td>NaN</td>\n",
       "      <td>NaN</td>\n",
       "      <td>D+</td>\n",
       "      <td>D+</td>\n",
       "      <td>D+</td>\n",
       "    </tr>\n",
       "    <tr>\n",
       "      <th>4</th>\n",
       "      <td>21.0</td>\n",
       "      <td>NaN</td>\n",
       "      <td>NaN</td>\n",
       "      <td>Devon and Somerset Wanderers</td>\n",
       "      <td>GBR</td>\n",
       "      <td>1900 Summer</td>\n",
       "      <td>1900</td>\n",
       "      <td>down</td>\n",
       "      <td>Paris</td>\n",
       "      <td>Cricket Men's Cricket</td>\n",
       "      <td>...</td>\n",
       "      <td>Cricket</td>\n",
       "      <td>9493ce7e-253b-4fec-b3a6-f71acae3273e</td>\n",
       "      <td>NaN</td>\n",
       "      <td>NaN</td>\n",
       "      <td>1</td>\n",
       "      <td>NaN</td>\n",
       "      <td>NaN</td>\n",
       "      <td>D+</td>\n",
       "      <td>D+</td>\n",
       "      <td>D+</td>\n",
       "    </tr>\n",
       "  </tbody>\n",
       "</table>\n",
       "<p>5 rows × 22 columns</p>\n",
       "</div>"
      ],
      "text/plain": [
       "    Age  Height  Weight                                            Team  \\\n",
       "0  19.0     NaN     NaN                                          France   \n",
       "1  20.0     NaN     NaN                           Great Britain/Germany   \n",
       "2  33.0     NaN     NaN                           Foxhunters Hurlingham   \n",
       "3  25.0     NaN     NaN  Union des Socits Franais de Sports Athletiques   \n",
       "4  21.0     NaN     NaN                    Devon and Somerset Wanderers   \n",
       "\n",
       "  Federation        Event  Year Season    City  \\\n",
       "0        FRA  1896 Summer  1896   down  Athina   \n",
       "1        GER  1896 Summer  1896   down  Athina   \n",
       "2        GBR  1900 Summer  1900   down   Paris   \n",
       "3        FRA  1900 Summer  1900   down   Paris   \n",
       "4        GBR  1900 Summer  1900   down   Paris   \n",
       "\n",
       "                             Sub Event      ...           Game  \\\n",
       "0  Cycling Men's 333 metres Time Trial      ...        Cycling   \n",
       "1                 Tennis Men's Doubles      ...         Tennis   \n",
       "2                      Polo Men's Polo      ...           Polo   \n",
       "3                    Rugby Men's Rugby      ...          Rugby   \n",
       "4                Cricket Men's Cricket      ...        Cricket   \n",
       "\n",
       "                              Record_Id Population GDP  Sex_encode  \\\n",
       "0  0e08dc19-1611-4701-84b2-e67e031febfe        NaN NaN           1   \n",
       "1  16c28bd8-e98e-4faf-9a20-65db7ce7d6b7        NaN NaN           1   \n",
       "2  d0dbb0f3-c381-415e-a3e3-746f49c764f3        NaN NaN           1   \n",
       "3  0dd6ebbe-3656-453a-9e96-9923c1b17a67        NaN NaN           1   \n",
       "4  9493ce7e-253b-4fec-b3a6-f71acae3273e        NaN NaN           1   \n",
       "\n",
       "   Log_Population  Log_GDP  Prediction_svc  Prediction_rfc Prediction_knn  \n",
       "0             NaN      NaN              D+              D+             D+  \n",
       "1             NaN      NaN              D+              D+             D+  \n",
       "2             NaN      NaN              D+              D+             D+  \n",
       "3             NaN      NaN              D+              D+             D+  \n",
       "4             NaN      NaN              D+              D+             D+  \n",
       "\n",
       "[5 rows x 22 columns]"
      ]
     },
     "execution_count": 98,
     "metadata": {},
     "output_type": "execute_result"
    }
   ],
   "source": [
    "df_test_wpop_gdp.head()"
   ]
  },
  {
   "cell_type": "markdown",
   "metadata": {},
   "source": [
    "#### Output"
   ]
  },
  {
   "cell_type": "code",
   "execution_count": 97,
   "metadata": {},
   "outputs": [],
   "source": [
    "df_test_wpop_gdp.to_csv('Classification_Grades.csv')"
   ]
  },
  {
   "cell_type": "markdown",
   "metadata": {},
   "source": [
    "### Remark:\n",
    "- From above, we have observed that during training accuracy score has slightly different for all 3 models SVC, RFC and KNN algorithm with 6 components. All three models has been tuned, trained using train data set and tested on test data set. Support vector classifier model has higher accuracy score when compared with Random forest and KNN. \n",
    "\n",
    "- SVC has predicted only D+ class on test data, while RFC and KNN has mixed class prediction, need further to investigate\n",
    "\n",
    "\n",
    "\n",
    "\n",
    "### Conclusion\n",
    "In this notebook, we carried out the first below steps of a machine learning problem:\n",
    "\n",
    "1.Cleaned and formatted the raw data\n",
    "\n",
    "2.Performed an exploratory data analysis\n",
    "\n",
    "3.Developed a set of features to train our model using feature engineering and feature selection\n",
    "\n",
    "4.Prediction of Grades has been done considering classification problem (Class A, B, C and D)\n",
    "\n",
    "\n",
    "**For classification, we have seen Support vector classifier has better accuracy compared to other two models (Random forestand KNN) without considering the PCA**\n",
    "\n",
    "\n",
    "\n",
    "\n"
   ]
  },
  {
   "cell_type": "markdown",
   "metadata": {},
   "source": [
    "###  Further Enhanement/Exploration:\n",
    "   - Handle Imbalce class :Data is highly imbalanced, we can explore few techniques like SMOTE  or upsampling or downsampling of class\n",
    "   \n",
    "   - Reduce category: we can create new class which will combination of A+, B+ and C+ and explore further\n",
    "   \n",
    "   - Try more model: We can explore new algorithm for classification\n",
    "   \n",
    "   - Missing data handling: Here I have tried mediun as imputer,  we can explore new method and do further analysis\n",
    "   \n",
    "   - Season category : Data can be segregated  as season-wise and do the further analysis\n",
    "   \n",
    "   - Hyper Parameter tuning: We can tune the hyperparameter of models to improve the accuracy\n",
    "    "
   ]
  },
  {
   "cell_type": "code",
   "execution_count": null,
   "metadata": {},
   "outputs": [],
   "source": []
  }
 ],
 "metadata": {
  "kernelspec": {
   "display_name": "Python 3",
   "language": "python",
   "name": "python3"
  },
  "language_info": {
   "codemirror_mode": {
    "name": "ipython",
    "version": 3
   },
   "file_extension": ".py",
   "mimetype": "text/x-python",
   "name": "python",
   "nbconvert_exporter": "python",
   "pygments_lexer": "ipython3",
   "version": "3.6.4"
  }
 },
 "nbformat": 4,
 "nbformat_minor": 2
}
